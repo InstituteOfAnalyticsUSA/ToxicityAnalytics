{
 "nbformat": 4,
 "nbformat_minor": 0,
 "metadata": {
  "colab": {
   "provenance": []
  },
  "kernelspec": {
   "name": "python3",
   "display_name": "Python 3"
  },
  "language_info": {
   "name": "python"
  }
 },
 "cells": [
  {
   "cell_type": "code",
   "execution_count": null,
   "metadata": {
    "id": "5lQ3ivAuIK_-",
    "pycharm": {
     "name": "#%%\n"
    }
   },
   "outputs": [],
   "source": [
    "# Required Imports\n",
    "import pandas as pd\n",
    "import numpy as np\n",
    "import matplotlib.pyplot as plt\n",
    "import seaborn as sns\n",
    "import plotly.express as px\n",
    "from sklearn.preprocessing import OneHotEncoder\n",
    "from sklearn.ensemble import GradientBoostingClassifier\n",
    "from sklearn.metrics import confusion_matrix, roc_auc_score, roc_curve\n",
    "from sklearn.model_selection import train_test_split\n",
    "from sklearn.tree import DecisionTreeClassifier\n",
    "from sklearn.ensemble import RandomForestClassifier\n",
    "import statsmodels.api as sm\n",
    "import graphviz \n",
    "from sklearn import tree\n",
    "from sklearn.tree import export_graphviz\n",
    "import numpy as np\n",
    "import seaborn as sns\n",
    "import matplotlib.pyplot as plt\n",
    "from sklearn.model_selection import RandomizedSearchCV\n",
    "\n",
    "# import the functions for visualizing the decision tree\n",
    "import pydotplus\n",
    "from IPython.display import Image  \n",
    "%matplotlib inline"
   ]
  },
  {
   "cell_type": "code",
   "source": [
    "# setting parameters for visualization\n",
    "# sizing the plots\n",
    "plt.rcParams['figure.figsize'] = [12,6]\n",
    "plt.style.use('fivethirtyeight')\n",
    "\n",
    "# ignoring all warnings\n",
    "from warnings import filterwarnings\n",
    "filterwarnings('ignore')"
   ],
   "metadata": {
    "id": "zTicDXPXI6uI",
    "pycharm": {
     "name": "#%%\n"
    }
   },
   "execution_count": null,
   "outputs": []
  },
  {
   "cell_type": "code",
   "source": [
    "pd.options.display.max_columns = None\n",
    "pd.options.display.max_rows = None"
   ],
   "metadata": {
    "id": "yTPGHVwlI9cI",
    "pycharm": {
     "name": "#%%\n"
    }
   },
   "execution_count": null,
   "outputs": []
  },
  {
   "cell_type": "code",
   "source": [
    "# reading TRI Data\n",
    "TRI_data = pd.read_csv('/content/drive/MyDrive/NSM_ANALYTICS/TRI_2019_us.csv')"
   ],
   "metadata": {
    "id": "M1bM8nCkI_lW",
    "pycharm": {
     "name": "#%%\n"
    }
   },
   "execution_count": null,
   "outputs": []
  },
  {
   "cell_type": "code",
   "source": [
    "# rename the columns\n",
    "TRI_data.rename(columns={'9. ZIP': 'ZIPCODE'}, inplace=True)\n",
    "TRI_data.rename(columns={'37. CAS#': 'CAS_NUM'}, inplace=True)"
   ],
   "metadata": {
    "id": "kdYnSd3OJB9T",
    "pycharm": {
     "name": "#%%\n"
    }
   },
   "execution_count": null,
   "outputs": []
  },
  {
   "cell_type": "code",
   "source": [
    "# only fetching the data from GA\n",
    "GA_TRI_data = TRI_data[TRI_data['8. ST'] == 'GA'].reset_index(drop=True)"
   ],
   "metadata": {
    "id": "Mbytxu0nJIQY",
    "pycharm": {
     "name": "#%%\n"
    }
   },
   "execution_count": null,
   "outputs": []
  },
  {
   "cell_type": "code",
   "source": [
    "# Resizing the ZIPCODE to 5 digits\n",
    "GA_TRI_data['ZIPCODE'] = [int(str(e)[:5]) for e in GA_TRI_data['ZIPCODE']]"
   ],
   "metadata": {
    "id": "kDfzbOTwJLCT",
    "pycharm": {
     "name": "#%%\n"
    }
   },
   "execution_count": null,
   "outputs": []
  },
  {
   "cell_type": "code",
   "source": [
    "# shape of the data\n",
    "GA_TRI_data.shape"
   ],
   "metadata": {
    "colab": {
     "base_uri": "https://localhost:8080/"
    },
    "id": "QLrUTq0WJN8Y",
    "outputId": "0ea5a087-114d-4468-af7c-dc40addd0b50",
    "pycharm": {
     "name": "#%%\n"
    }
   },
   "execution_count": null,
   "outputs": [
    {
     "output_type": "execute_result",
     "data": {
      "text/plain": [
       "(2289, 119)"
      ]
     },
     "metadata": {},
     "execution_count": 216
    }
   ]
  },
  {
   "cell_type": "code",
   "source": [
    "GA_TRI_data['ZIPCODE'].nunique()"
   ],
   "metadata": {
    "colab": {
     "base_uri": "https://localhost:8080/"
    },
    "id": "fWQZzqxyJQwe",
    "outputId": "0256eb29-e46a-4f89-d708-8a631dd83669",
    "pycharm": {
     "name": "#%%\n"
    }
   },
   "execution_count": null,
   "outputs": [
    {
     "output_type": "execute_result",
     "data": {
      "text/plain": [
       "294"
      ]
     },
     "metadata": {},
     "execution_count": 217
    }
   ]
  },
  {
   "cell_type": "code",
   "source": [
    "GA_TRI_data.head(1)"
   ],
   "metadata": {
    "colab": {
     "base_uri": "https://localhost:8080/",
     "height": 318
    },
    "id": "zp5sICGHJToF",
    "outputId": "f3d72a4d-15a7-4613-977b-2d51ce08a947",
    "pycharm": {
     "name": "#%%\n"
    }
   },
   "execution_count": null,
   "outputs": [
    {
     "output_type": "execute_result",
     "data": {
      "text/plain": [
       "   1. YEAR         2. TRIFD     3. FRS ID  \\\n",
       "0     2019  31408NTRCT115EL  110000360467   \n",
       "\n",
       "                           4. FACILITY NAME     5. STREET ADDRESS   6. CITY  \\\n",
       "0  JOHNSON MATTHEY PROCESS TECHNOLOGIES INC  115 ELI WHITNEY BLVD  SAVANNAH   \n",
       "\n",
       "  7. COUNTY 8. ST  ZIPCODE  10. BIA 11. TRIBE  12. LATITUDE  13. LONGITUDE  \\\n",
       "0   CHATHAM    GA    31408      NaN       NaN       32.1151       -81.2204   \n",
       "\n",
       "  14. HORIZONTAL DATUM   15. PARENT CO NAME 16. PARENT CO DB NUM  \\\n",
       "0                NAD83  JOHNSON MATTHEY INC            002326734   \n",
       "\n",
       "    17. STANDARD PARENT CO NAME 18. FEDERAL FACILITY  \\\n",
       "0  JOHNSON MATTHEY HOLDINGS INC                   NO   \n",
       "\n",
       "   19. INDUSTRY SECTOR CODE 20. INDUSTRY SECTOR  21. PRIMARY SIC  22. SIC 2  \\\n",
       "0                       325           Chemicals              NaN        NaN   \n",
       "\n",
       "   23. SIC 3  24. SIC 4  25. SIC 5  26. SIC 6  27. PRIMARY NAICS  28. NAICS 2  \\\n",
       "0        NaN        NaN        NaN        NaN             325180          NaN   \n",
       "\n",
       "   29. NAICS 3  30. NAICS 4  31. NAICS 5  32. NAICS 6  33. DOC_CTRL_NUM  \\\n",
       "0          NaN          NaN          NaN          NaN     1319218271296   \n",
       "\n",
       "         34. CHEMICAL 35. ELEMENTAL METAL INCLUDED  \\\n",
       "0  Vanadium compounds                           NO   \n",
       "\n",
       "  36. TRI CHEMICAL/COMPOUND ID CAS_NUM  38. SRS ID 39. CLEAN AIR ACT CHEMICAL  \\\n",
       "0                         N770    N770    755389.0                         NO   \n",
       "\n",
       "  40. CLASSIFICATION 41. METAL  42. METAL CATEGORY 43. CARCINOGEN 44. PBT  \\\n",
       "0                TRI       YES                   1             NO      NO   \n",
       "\n",
       "  45. PFAS 46. FORM TYPE 47. UNIT OF MEASURE  48. 5.1 - FUGITIVE AIR  \\\n",
       "0       NO             R              Pounds                     0.0   \n",
       "\n",
       "   49. 5.2 - STACK AIR  50. 5.3 - WATER  51. 5.4 - UNDERGROUND  \\\n",
       "0                 39.0              1.0                    0.0   \n",
       "\n",
       "   52. 5.4.1 - UNDERGROUND CL I  53. 5.4.2 - UNDERGROUND C II-V  \\\n",
       "0                           0.0                             0.0   \n",
       "\n",
       "   54. 5.5.1 - LANDFILLS  55. 5.5.1A - RCRA C LANDFILL  \\\n",
       "0                    0.0                           0.0   \n",
       "\n",
       "   56. 5.5.1B - OTHER LANDFILLS  57. 5.5.2 - LAND TREATMENT  \\\n",
       "0                           0.0                         0.0   \n",
       "\n",
       "   58. 5.5.3 - SURFACE IMPNDMNT  59. 5.5.3A - RCRA SURFACE IM  \\\n",
       "0                           0.0                           0.0   \n",
       "\n",
       "   60. 5.5.3B - OTHER SURFACE I  61. 5.5.4 - OTHER DISPOSAL  \\\n",
       "0                           0.0                         0.0   \n",
       "\n",
       "   62. ON-SITE RELEASE TOTAL  63. 6.1 - POTW - TRNS RLSE  \\\n",
       "0                       40.0                         0.0   \n",
       "\n",
       "   64. 6.1 - POTW - TRNS TRT  65. POTW - TOTAL TRANSFERS  66. 6.2 - M10  \\\n",
       "0                        0.0                         0.0            0.0   \n",
       "\n",
       "   67. 6.2 - M41  68. 6.2 - M62  69. 6.2 - M40 METAL  70. 6.2 - M61 METAL  \\\n",
       "0            0.0            0.0                  0.0                  0.0   \n",
       "\n",
       "   71. 6.2 - M71  72. 6.2 - M81  73. 6.2 - M82  74. 6.2 - M72  75. 6.2 - M63  \\\n",
       "0            0.0            0.0            0.0            0.0            0.0   \n",
       "\n",
       "   76. 6.2 - M66  77. 6.2 - M67  78. 6.2 - M64  79. 6.2 - M65  80. 6.2 - M73  \\\n",
       "0            0.0            0.0            0.0            0.0            0.0   \n",
       "\n",
       "   81. 6.2 - M79  82. 6.2 - M90  83. 6.2 - M94  84. 6.2 - M99  \\\n",
       "0            0.0            0.0            0.0            0.0   \n",
       "\n",
       "   85. OFF-SITE RELEASE TOTAL  86. 6.2 - M20  87. 6.2 - M24  88. 6.2 - M26  \\\n",
       "0                         0.0            0.0            0.0          669.0   \n",
       "\n",
       "   89. 6.2 - M28  90. 6.2 - M93  91. OFF-SITE RECYCLED TOTAL  92. 6.2 - M56  \\\n",
       "0            0.0            0.0                        669.0            0.0   \n",
       "\n",
       "   93. 6.2 - M92  94. OFF-SITE ENERGY RECOVERY T  95. 6.2 - M40 NON-METAL  \\\n",
       "0            0.0                             0.0                      0.0   \n",
       "\n",
       "   96. 6.2 - M50  97. 6.2 - M54  98. 6.2 - M61 NON-METAL  99. 6.2 - M69  \\\n",
       "0            0.0            0.0                      0.0            0.0   \n",
       "\n",
       "   100. 6.2 - M95  101. OFF-SITE TREATED TOTAL  102. 6.2 - UNCLASSIFIED  \\\n",
       "0             0.0                          0.0                      0.0   \n",
       "\n",
       "   103. 6.2 - TOTAL TRANSFER  104. TOTAL RELEASES  105. 8.1 - RELEASES  \\\n",
       "0                      669.0                 40.0                  0.0   \n",
       "\n",
       "   106. 8.1A - ON-SITE CONTAINED  107. 8.1B - ON-SITE OTHER  \\\n",
       "0                            0.0                       40.0   \n",
       "\n",
       "   108. 8.1C - OFF-SITE CONTAIN  109. 8.1D - OFF-SITE OTHER R  \\\n",
       "0                           0.0                           0.0   \n",
       "\n",
       "   110. 8.2 - ENERGY RECOVER ON  111. 8.3 - ENERGY RECOVER OF  \\\n",
       "0                           0.0                           0.0   \n",
       "\n",
       "   112. 8.4 - RECYCLING ON SITE  113. 8.5 - RECYCLING OFF SIT  \\\n",
       "0                        4998.0                         669.0   \n",
       "\n",
       "   114. 8.6 - TREATMENT ON SITE  115. 8.7 - TREATMENT OFF SITE  \\\n",
       "0                           0.0                            0.0   \n",
       "\n",
       "   116. PRODUCTION WSTE (8.1-8.7)  117. 8.8 - ONE-TIME RELEASE  \\\n",
       "0                          5707.0                          NaN   \n",
       "\n",
       "  118. PROD_RATIO_OR_ ACTIVITY  119. 8.9 - PRODUCTION RATIO  \n",
       "0                     ACTIVITY                          0.6  "
      ],
      "text/html": [
       "\n",
       "  <div id=\"df-bb9098fb-4c30-412c-80da-aa9f79280086\">\n",
       "    <div class=\"colab-df-container\">\n",
       "      <div>\n",
       "<style scoped>\n",
       "    .dataframe tbody tr th:only-of-type {\n",
       "        vertical-align: middle;\n",
       "    }\n",
       "\n",
       "    .dataframe tbody tr th {\n",
       "        vertical-align: top;\n",
       "    }\n",
       "\n",
       "    .dataframe thead th {\n",
       "        text-align: right;\n",
       "    }\n",
       "</style>\n",
       "<table border=\"1\" class=\"dataframe\">\n",
       "  <thead>\n",
       "    <tr style=\"text-align: right;\">\n",
       "      <th></th>\n",
       "      <th>1. YEAR</th>\n",
       "      <th>2. TRIFD</th>\n",
       "      <th>3. FRS ID</th>\n",
       "      <th>4. FACILITY NAME</th>\n",
       "      <th>5. STREET ADDRESS</th>\n",
       "      <th>6. CITY</th>\n",
       "      <th>7. COUNTY</th>\n",
       "      <th>8. ST</th>\n",
       "      <th>ZIPCODE</th>\n",
       "      <th>10. BIA</th>\n",
       "      <th>11. TRIBE</th>\n",
       "      <th>12. LATITUDE</th>\n",
       "      <th>13. LONGITUDE</th>\n",
       "      <th>14. HORIZONTAL DATUM</th>\n",
       "      <th>15. PARENT CO NAME</th>\n",
       "      <th>16. PARENT CO DB NUM</th>\n",
       "      <th>17. STANDARD PARENT CO NAME</th>\n",
       "      <th>18. FEDERAL FACILITY</th>\n",
       "      <th>19. INDUSTRY SECTOR CODE</th>\n",
       "      <th>20. INDUSTRY SECTOR</th>\n",
       "      <th>21. PRIMARY SIC</th>\n",
       "      <th>22. SIC 2</th>\n",
       "      <th>23. SIC 3</th>\n",
       "      <th>24. SIC 4</th>\n",
       "      <th>25. SIC 5</th>\n",
       "      <th>26. SIC 6</th>\n",
       "      <th>27. PRIMARY NAICS</th>\n",
       "      <th>28. NAICS 2</th>\n",
       "      <th>29. NAICS 3</th>\n",
       "      <th>30. NAICS 4</th>\n",
       "      <th>31. NAICS 5</th>\n",
       "      <th>32. NAICS 6</th>\n",
       "      <th>33. DOC_CTRL_NUM</th>\n",
       "      <th>34. CHEMICAL</th>\n",
       "      <th>35. ELEMENTAL METAL INCLUDED</th>\n",
       "      <th>36. TRI CHEMICAL/COMPOUND ID</th>\n",
       "      <th>CAS_NUM</th>\n",
       "      <th>38. SRS ID</th>\n",
       "      <th>39. CLEAN AIR ACT CHEMICAL</th>\n",
       "      <th>40. CLASSIFICATION</th>\n",
       "      <th>41. METAL</th>\n",
       "      <th>42. METAL CATEGORY</th>\n",
       "      <th>43. CARCINOGEN</th>\n",
       "      <th>44. PBT</th>\n",
       "      <th>45. PFAS</th>\n",
       "      <th>46. FORM TYPE</th>\n",
       "      <th>47. UNIT OF MEASURE</th>\n",
       "      <th>48. 5.1 - FUGITIVE AIR</th>\n",
       "      <th>49. 5.2 - STACK AIR</th>\n",
       "      <th>50. 5.3 - WATER</th>\n",
       "      <th>51. 5.4 - UNDERGROUND</th>\n",
       "      <th>52. 5.4.1 - UNDERGROUND CL I</th>\n",
       "      <th>53. 5.4.2 - UNDERGROUND C II-V</th>\n",
       "      <th>54. 5.5.1 - LANDFILLS</th>\n",
       "      <th>55. 5.5.1A - RCRA C LANDFILL</th>\n",
       "      <th>56. 5.5.1B - OTHER LANDFILLS</th>\n",
       "      <th>57. 5.5.2 - LAND TREATMENT</th>\n",
       "      <th>58. 5.5.3 - SURFACE IMPNDMNT</th>\n",
       "      <th>59. 5.5.3A - RCRA SURFACE IM</th>\n",
       "      <th>60. 5.5.3B - OTHER SURFACE I</th>\n",
       "      <th>61. 5.5.4 - OTHER DISPOSAL</th>\n",
       "      <th>62. ON-SITE RELEASE TOTAL</th>\n",
       "      <th>63. 6.1 - POTW - TRNS RLSE</th>\n",
       "      <th>64. 6.1 - POTW - TRNS TRT</th>\n",
       "      <th>65. POTW - TOTAL TRANSFERS</th>\n",
       "      <th>66. 6.2 - M10</th>\n",
       "      <th>67. 6.2 - M41</th>\n",
       "      <th>68. 6.2 - M62</th>\n",
       "      <th>69. 6.2 - M40 METAL</th>\n",
       "      <th>70. 6.2 - M61 METAL</th>\n",
       "      <th>71. 6.2 - M71</th>\n",
       "      <th>72. 6.2 - M81</th>\n",
       "      <th>73. 6.2 - M82</th>\n",
       "      <th>74. 6.2 - M72</th>\n",
       "      <th>75. 6.2 - M63</th>\n",
       "      <th>76. 6.2 - M66</th>\n",
       "      <th>77. 6.2 - M67</th>\n",
       "      <th>78. 6.2 - M64</th>\n",
       "      <th>79. 6.2 - M65</th>\n",
       "      <th>80. 6.2 - M73</th>\n",
       "      <th>81. 6.2 - M79</th>\n",
       "      <th>82. 6.2 - M90</th>\n",
       "      <th>83. 6.2 - M94</th>\n",
       "      <th>84. 6.2 - M99</th>\n",
       "      <th>85. OFF-SITE RELEASE TOTAL</th>\n",
       "      <th>86. 6.2 - M20</th>\n",
       "      <th>87. 6.2 - M24</th>\n",
       "      <th>88. 6.2 - M26</th>\n",
       "      <th>89. 6.2 - M28</th>\n",
       "      <th>90. 6.2 - M93</th>\n",
       "      <th>91. OFF-SITE RECYCLED TOTAL</th>\n",
       "      <th>92. 6.2 - M56</th>\n",
       "      <th>93. 6.2 - M92</th>\n",
       "      <th>94. OFF-SITE ENERGY RECOVERY T</th>\n",
       "      <th>95. 6.2 - M40 NON-METAL</th>\n",
       "      <th>96. 6.2 - M50</th>\n",
       "      <th>97. 6.2 - M54</th>\n",
       "      <th>98. 6.2 - M61 NON-METAL</th>\n",
       "      <th>99. 6.2 - M69</th>\n",
       "      <th>100. 6.2 - M95</th>\n",
       "      <th>101. OFF-SITE TREATED TOTAL</th>\n",
       "      <th>102. 6.2 - UNCLASSIFIED</th>\n",
       "      <th>103. 6.2 - TOTAL TRANSFER</th>\n",
       "      <th>104. TOTAL RELEASES</th>\n",
       "      <th>105. 8.1 - RELEASES</th>\n",
       "      <th>106. 8.1A - ON-SITE CONTAINED</th>\n",
       "      <th>107. 8.1B - ON-SITE OTHER</th>\n",
       "      <th>108. 8.1C - OFF-SITE CONTAIN</th>\n",
       "      <th>109. 8.1D - OFF-SITE OTHER R</th>\n",
       "      <th>110. 8.2 - ENERGY RECOVER ON</th>\n",
       "      <th>111. 8.3 - ENERGY RECOVER OF</th>\n",
       "      <th>112. 8.4 - RECYCLING ON SITE</th>\n",
       "      <th>113. 8.5 - RECYCLING OFF SIT</th>\n",
       "      <th>114. 8.6 - TREATMENT ON SITE</th>\n",
       "      <th>115. 8.7 - TREATMENT OFF SITE</th>\n",
       "      <th>116. PRODUCTION WSTE (8.1-8.7)</th>\n",
       "      <th>117. 8.8 - ONE-TIME RELEASE</th>\n",
       "      <th>118. PROD_RATIO_OR_ ACTIVITY</th>\n",
       "      <th>119. 8.9 - PRODUCTION RATIO</th>\n",
       "    </tr>\n",
       "  </thead>\n",
       "  <tbody>\n",
       "    <tr>\n",
       "      <th>0</th>\n",
       "      <td>2019</td>\n",
       "      <td>31408NTRCT115EL</td>\n",
       "      <td>110000360467</td>\n",
       "      <td>JOHNSON MATTHEY PROCESS TECHNOLOGIES INC</td>\n",
       "      <td>115 ELI WHITNEY BLVD</td>\n",
       "      <td>SAVANNAH</td>\n",
       "      <td>CHATHAM</td>\n",
       "      <td>GA</td>\n",
       "      <td>31408</td>\n",
       "      <td>NaN</td>\n",
       "      <td>NaN</td>\n",
       "      <td>32.1151</td>\n",
       "      <td>-81.2204</td>\n",
       "      <td>NAD83</td>\n",
       "      <td>JOHNSON MATTHEY INC</td>\n",
       "      <td>002326734</td>\n",
       "      <td>JOHNSON MATTHEY HOLDINGS INC</td>\n",
       "      <td>NO</td>\n",
       "      <td>325</td>\n",
       "      <td>Chemicals</td>\n",
       "      <td>NaN</td>\n",
       "      <td>NaN</td>\n",
       "      <td>NaN</td>\n",
       "      <td>NaN</td>\n",
       "      <td>NaN</td>\n",
       "      <td>NaN</td>\n",
       "      <td>325180</td>\n",
       "      <td>NaN</td>\n",
       "      <td>NaN</td>\n",
       "      <td>NaN</td>\n",
       "      <td>NaN</td>\n",
       "      <td>NaN</td>\n",
       "      <td>1319218271296</td>\n",
       "      <td>Vanadium compounds</td>\n",
       "      <td>NO</td>\n",
       "      <td>N770</td>\n",
       "      <td>N770</td>\n",
       "      <td>755389.0</td>\n",
       "      <td>NO</td>\n",
       "      <td>TRI</td>\n",
       "      <td>YES</td>\n",
       "      <td>1</td>\n",
       "      <td>NO</td>\n",
       "      <td>NO</td>\n",
       "      <td>NO</td>\n",
       "      <td>R</td>\n",
       "      <td>Pounds</td>\n",
       "      <td>0.0</td>\n",
       "      <td>39.0</td>\n",
       "      <td>1.0</td>\n",
       "      <td>0.0</td>\n",
       "      <td>0.0</td>\n",
       "      <td>0.0</td>\n",
       "      <td>0.0</td>\n",
       "      <td>0.0</td>\n",
       "      <td>0.0</td>\n",
       "      <td>0.0</td>\n",
       "      <td>0.0</td>\n",
       "      <td>0.0</td>\n",
       "      <td>0.0</td>\n",
       "      <td>0.0</td>\n",
       "      <td>40.0</td>\n",
       "      <td>0.0</td>\n",
       "      <td>0.0</td>\n",
       "      <td>0.0</td>\n",
       "      <td>0.0</td>\n",
       "      <td>0.0</td>\n",
       "      <td>0.0</td>\n",
       "      <td>0.0</td>\n",
       "      <td>0.0</td>\n",
       "      <td>0.0</td>\n",
       "      <td>0.0</td>\n",
       "      <td>0.0</td>\n",
       "      <td>0.0</td>\n",
       "      <td>0.0</td>\n",
       "      <td>0.0</td>\n",
       "      <td>0.0</td>\n",
       "      <td>0.0</td>\n",
       "      <td>0.0</td>\n",
       "      <td>0.0</td>\n",
       "      <td>0.0</td>\n",
       "      <td>0.0</td>\n",
       "      <td>0.0</td>\n",
       "      <td>0.0</td>\n",
       "      <td>0.0</td>\n",
       "      <td>0.0</td>\n",
       "      <td>0.0</td>\n",
       "      <td>669.0</td>\n",
       "      <td>0.0</td>\n",
       "      <td>0.0</td>\n",
       "      <td>669.0</td>\n",
       "      <td>0.0</td>\n",
       "      <td>0.0</td>\n",
       "      <td>0.0</td>\n",
       "      <td>0.0</td>\n",
       "      <td>0.0</td>\n",
       "      <td>0.0</td>\n",
       "      <td>0.0</td>\n",
       "      <td>0.0</td>\n",
       "      <td>0.0</td>\n",
       "      <td>0.0</td>\n",
       "      <td>0.0</td>\n",
       "      <td>669.0</td>\n",
       "      <td>40.0</td>\n",
       "      <td>0.0</td>\n",
       "      <td>0.0</td>\n",
       "      <td>40.0</td>\n",
       "      <td>0.0</td>\n",
       "      <td>0.0</td>\n",
       "      <td>0.0</td>\n",
       "      <td>0.0</td>\n",
       "      <td>4998.0</td>\n",
       "      <td>669.0</td>\n",
       "      <td>0.0</td>\n",
       "      <td>0.0</td>\n",
       "      <td>5707.0</td>\n",
       "      <td>NaN</td>\n",
       "      <td>ACTIVITY</td>\n",
       "      <td>0.6</td>\n",
       "    </tr>\n",
       "  </tbody>\n",
       "</table>\n",
       "</div>\n",
       "      <button class=\"colab-df-convert\" onclick=\"convertToInteractive('df-bb9098fb-4c30-412c-80da-aa9f79280086')\"\n",
       "              title=\"Convert this dataframe to an interactive table.\"\n",
       "              style=\"display:none;\">\n",
       "        \n",
       "  <svg xmlns=\"http://www.w3.org/2000/svg\" height=\"24px\"viewBox=\"0 0 24 24\"\n",
       "       width=\"24px\">\n",
       "    <path d=\"M0 0h24v24H0V0z\" fill=\"none\"/>\n",
       "    <path d=\"M18.56 5.44l.94 2.06.94-2.06 2.06-.94-2.06-.94-.94-2.06-.94 2.06-2.06.94zm-11 1L8.5 8.5l.94-2.06 2.06-.94-2.06-.94L8.5 2.5l-.94 2.06-2.06.94zm10 10l.94 2.06.94-2.06 2.06-.94-2.06-.94-.94-2.06-.94 2.06-2.06.94z\"/><path d=\"M17.41 7.96l-1.37-1.37c-.4-.4-.92-.59-1.43-.59-.52 0-1.04.2-1.43.59L10.3 9.45l-7.72 7.72c-.78.78-.78 2.05 0 2.83L4 21.41c.39.39.9.59 1.41.59.51 0 1.02-.2 1.41-.59l7.78-7.78 2.81-2.81c.8-.78.8-2.07 0-2.86zM5.41 20L4 18.59l7.72-7.72 1.47 1.35L5.41 20z\"/>\n",
       "  </svg>\n",
       "      </button>\n",
       "      \n",
       "  <style>\n",
       "    .colab-df-container {\n",
       "      display:flex;\n",
       "      flex-wrap:wrap;\n",
       "      gap: 12px;\n",
       "    }\n",
       "\n",
       "    .colab-df-convert {\n",
       "      background-color: #E8F0FE;\n",
       "      border: none;\n",
       "      border-radius: 50%;\n",
       "      cursor: pointer;\n",
       "      display: none;\n",
       "      fill: #1967D2;\n",
       "      height: 32px;\n",
       "      padding: 0 0 0 0;\n",
       "      width: 32px;\n",
       "    }\n",
       "\n",
       "    .colab-df-convert:hover {\n",
       "      background-color: #E2EBFA;\n",
       "      box-shadow: 0px 1px 2px rgba(60, 64, 67, 0.3), 0px 1px 3px 1px rgba(60, 64, 67, 0.15);\n",
       "      fill: #174EA6;\n",
       "    }\n",
       "\n",
       "    [theme=dark] .colab-df-convert {\n",
       "      background-color: #3B4455;\n",
       "      fill: #D2E3FC;\n",
       "    }\n",
       "\n",
       "    [theme=dark] .colab-df-convert:hover {\n",
       "      background-color: #434B5C;\n",
       "      box-shadow: 0px 1px 3px 1px rgba(0, 0, 0, 0.15);\n",
       "      filter: drop-shadow(0px 1px 2px rgba(0, 0, 0, 0.3));\n",
       "      fill: #FFFFFF;\n",
       "    }\n",
       "  </style>\n",
       "\n",
       "      <script>\n",
       "        const buttonEl =\n",
       "          document.querySelector('#df-bb9098fb-4c30-412c-80da-aa9f79280086 button.colab-df-convert');\n",
       "        buttonEl.style.display =\n",
       "          google.colab.kernel.accessAllowed ? 'block' : 'none';\n",
       "\n",
       "        async function convertToInteractive(key) {\n",
       "          const element = document.querySelector('#df-bb9098fb-4c30-412c-80da-aa9f79280086');\n",
       "          const dataTable =\n",
       "            await google.colab.kernel.invokeFunction('convertToInteractive',\n",
       "                                                     [key], {});\n",
       "          if (!dataTable) return;\n",
       "\n",
       "          const docLinkHtml = 'Like what you see? Visit the ' +\n",
       "            '<a target=\"_blank\" href=https://colab.research.google.com/notebooks/data_table.ipynb>data table notebook</a>'\n",
       "            + ' to learn more about interactive tables.';\n",
       "          element.innerHTML = '';\n",
       "          dataTable['output_type'] = 'display_data';\n",
       "          await google.colab.output.renderOutput(dataTable, element);\n",
       "          const docLink = document.createElement('div');\n",
       "          docLink.innerHTML = docLinkHtml;\n",
       "          element.appendChild(docLink);\n",
       "        }\n",
       "      </script>\n",
       "    </div>\n",
       "  </div>\n",
       "  "
      ]
     },
     "metadata": {},
     "execution_count": 218
    }
   ]
  },
  {
   "cell_type": "code",
   "source": [
    "GA_TRI_df = GA_TRI_data[['ZIPCODE', '48. 5.1 - FUGITIVE AIR', '49. 5.2 - STACK AIR', '40. CLASSIFICATION',\n",
    "                         '41. METAL', '42. METAL CATEGORY', '43. CARCINOGEN', '44. PBT', '45. PFAS', '46. FORM TYPE', \n",
    "                         '20. INDUSTRY SECTOR', '35. ELEMENTAL METAL INCLUDED', '39. CLEAN AIR ACT CHEMICAL']]"
   ],
   "metadata": {
    "id": "4zHe5POLJXtm",
    "pycharm": {
     "name": "#%%\n"
    }
   },
   "execution_count": null,
   "outputs": []
  },
  {
   "cell_type": "code",
   "source": [
    "GA_TRI_df.shape"
   ],
   "metadata": {
    "colab": {
     "base_uri": "https://localhost:8080/"
    },
    "id": "0XBkVGqFL6K6",
    "outputId": "f7be1ac8-a3ac-4b93-d364-6e0ee109768f",
    "pycharm": {
     "name": "#%%\n"
    }
   },
   "execution_count": null,
   "outputs": [
    {
     "output_type": "execute_result",
     "data": {
      "text/plain": [
       "(2289, 13)"
      ]
     },
     "metadata": {},
     "execution_count": 220
    }
   ]
  },
  {
   "cell_type": "code",
   "source": [
    "GA_TRI_df.head(3)"
   ],
   "metadata": {
    "colab": {
     "base_uri": "https://localhost:8080/",
     "height": 239
    },
    "id": "reudQclfL9X1",
    "outputId": "db2a87fe-79c1-49e3-cac7-b36dbad62535",
    "pycharm": {
     "name": "#%%\n"
    }
   },
   "execution_count": null,
   "outputs": [
    {
     "output_type": "execute_result",
     "data": {
      "text/plain": [
       "   ZIPCODE  48. 5.1 - FUGITIVE AIR  49. 5.2 - STACK AIR 40. CLASSIFICATION  \\\n",
       "0    31408                     0.0                 39.0                TRI   \n",
       "1    31323                     0.0               6300.0                TRI   \n",
       "2    30260                     0.0                  0.0                PBT   \n",
       "\n",
       "  41. METAL  42. METAL CATEGORY 43. CARCINOGEN 44. PBT 45. PFAS 46. FORM TYPE  \\\n",
       "0       YES                   1             NO      NO       NO             R   \n",
       "1        NO                   0            YES      NO       NO             R   \n",
       "2       YES                   1            YES     YES       NO             R   \n",
       "\n",
       "  20. INDUSTRY SECTOR 35. ELEMENTAL METAL INCLUDED 39. CLEAN AIR ACT CHEMICAL  \n",
       "0           Chemicals                           NO                         NO  \n",
       "1           Chemicals                           NO                        YES  \n",
       "2           Chemicals                           NO                         NO  "
      ],
      "text/html": [
       "\n",
       "  <div id=\"df-5b5419f6-8e54-4a4c-8375-01745923f6a2\">\n",
       "    <div class=\"colab-df-container\">\n",
       "      <div>\n",
       "<style scoped>\n",
       "    .dataframe tbody tr th:only-of-type {\n",
       "        vertical-align: middle;\n",
       "    }\n",
       "\n",
       "    .dataframe tbody tr th {\n",
       "        vertical-align: top;\n",
       "    }\n",
       "\n",
       "    .dataframe thead th {\n",
       "        text-align: right;\n",
       "    }\n",
       "</style>\n",
       "<table border=\"1\" class=\"dataframe\">\n",
       "  <thead>\n",
       "    <tr style=\"text-align: right;\">\n",
       "      <th></th>\n",
       "      <th>ZIPCODE</th>\n",
       "      <th>48. 5.1 - FUGITIVE AIR</th>\n",
       "      <th>49. 5.2 - STACK AIR</th>\n",
       "      <th>40. CLASSIFICATION</th>\n",
       "      <th>41. METAL</th>\n",
       "      <th>42. METAL CATEGORY</th>\n",
       "      <th>43. CARCINOGEN</th>\n",
       "      <th>44. PBT</th>\n",
       "      <th>45. PFAS</th>\n",
       "      <th>46. FORM TYPE</th>\n",
       "      <th>20. INDUSTRY SECTOR</th>\n",
       "      <th>35. ELEMENTAL METAL INCLUDED</th>\n",
       "      <th>39. CLEAN AIR ACT CHEMICAL</th>\n",
       "    </tr>\n",
       "  </thead>\n",
       "  <tbody>\n",
       "    <tr>\n",
       "      <th>0</th>\n",
       "      <td>31408</td>\n",
       "      <td>0.0</td>\n",
       "      <td>39.0</td>\n",
       "      <td>TRI</td>\n",
       "      <td>YES</td>\n",
       "      <td>1</td>\n",
       "      <td>NO</td>\n",
       "      <td>NO</td>\n",
       "      <td>NO</td>\n",
       "      <td>R</td>\n",
       "      <td>Chemicals</td>\n",
       "      <td>NO</td>\n",
       "      <td>NO</td>\n",
       "    </tr>\n",
       "    <tr>\n",
       "      <th>1</th>\n",
       "      <td>31323</td>\n",
       "      <td>0.0</td>\n",
       "      <td>6300.0</td>\n",
       "      <td>TRI</td>\n",
       "      <td>NO</td>\n",
       "      <td>0</td>\n",
       "      <td>YES</td>\n",
       "      <td>NO</td>\n",
       "      <td>NO</td>\n",
       "      <td>R</td>\n",
       "      <td>Chemicals</td>\n",
       "      <td>NO</td>\n",
       "      <td>YES</td>\n",
       "    </tr>\n",
       "    <tr>\n",
       "      <th>2</th>\n",
       "      <td>30260</td>\n",
       "      <td>0.0</td>\n",
       "      <td>0.0</td>\n",
       "      <td>PBT</td>\n",
       "      <td>YES</td>\n",
       "      <td>1</td>\n",
       "      <td>YES</td>\n",
       "      <td>YES</td>\n",
       "      <td>NO</td>\n",
       "      <td>R</td>\n",
       "      <td>Chemicals</td>\n",
       "      <td>NO</td>\n",
       "      <td>NO</td>\n",
       "    </tr>\n",
       "  </tbody>\n",
       "</table>\n",
       "</div>\n",
       "      <button class=\"colab-df-convert\" onclick=\"convertToInteractive('df-5b5419f6-8e54-4a4c-8375-01745923f6a2')\"\n",
       "              title=\"Convert this dataframe to an interactive table.\"\n",
       "              style=\"display:none;\">\n",
       "        \n",
       "  <svg xmlns=\"http://www.w3.org/2000/svg\" height=\"24px\"viewBox=\"0 0 24 24\"\n",
       "       width=\"24px\">\n",
       "    <path d=\"M0 0h24v24H0V0z\" fill=\"none\"/>\n",
       "    <path d=\"M18.56 5.44l.94 2.06.94-2.06 2.06-.94-2.06-.94-.94-2.06-.94 2.06-2.06.94zm-11 1L8.5 8.5l.94-2.06 2.06-.94-2.06-.94L8.5 2.5l-.94 2.06-2.06.94zm10 10l.94 2.06.94-2.06 2.06-.94-2.06-.94-.94-2.06-.94 2.06-2.06.94z\"/><path d=\"M17.41 7.96l-1.37-1.37c-.4-.4-.92-.59-1.43-.59-.52 0-1.04.2-1.43.59L10.3 9.45l-7.72 7.72c-.78.78-.78 2.05 0 2.83L4 21.41c.39.39.9.59 1.41.59.51 0 1.02-.2 1.41-.59l7.78-7.78 2.81-2.81c.8-.78.8-2.07 0-2.86zM5.41 20L4 18.59l7.72-7.72 1.47 1.35L5.41 20z\"/>\n",
       "  </svg>\n",
       "      </button>\n",
       "      \n",
       "  <style>\n",
       "    .colab-df-container {\n",
       "      display:flex;\n",
       "      flex-wrap:wrap;\n",
       "      gap: 12px;\n",
       "    }\n",
       "\n",
       "    .colab-df-convert {\n",
       "      background-color: #E8F0FE;\n",
       "      border: none;\n",
       "      border-radius: 50%;\n",
       "      cursor: pointer;\n",
       "      display: none;\n",
       "      fill: #1967D2;\n",
       "      height: 32px;\n",
       "      padding: 0 0 0 0;\n",
       "      width: 32px;\n",
       "    }\n",
       "\n",
       "    .colab-df-convert:hover {\n",
       "      background-color: #E2EBFA;\n",
       "      box-shadow: 0px 1px 2px rgba(60, 64, 67, 0.3), 0px 1px 3px 1px rgba(60, 64, 67, 0.15);\n",
       "      fill: #174EA6;\n",
       "    }\n",
       "\n",
       "    [theme=dark] .colab-df-convert {\n",
       "      background-color: #3B4455;\n",
       "      fill: #D2E3FC;\n",
       "    }\n",
       "\n",
       "    [theme=dark] .colab-df-convert:hover {\n",
       "      background-color: #434B5C;\n",
       "      box-shadow: 0px 1px 3px 1px rgba(0, 0, 0, 0.15);\n",
       "      filter: drop-shadow(0px 1px 2px rgba(0, 0, 0, 0.3));\n",
       "      fill: #FFFFFF;\n",
       "    }\n",
       "  </style>\n",
       "\n",
       "      <script>\n",
       "        const buttonEl =\n",
       "          document.querySelector('#df-5b5419f6-8e54-4a4c-8375-01745923f6a2 button.colab-df-convert');\n",
       "        buttonEl.style.display =\n",
       "          google.colab.kernel.accessAllowed ? 'block' : 'none';\n",
       "\n",
       "        async function convertToInteractive(key) {\n",
       "          const element = document.querySelector('#df-5b5419f6-8e54-4a4c-8375-01745923f6a2');\n",
       "          const dataTable =\n",
       "            await google.colab.kernel.invokeFunction('convertToInteractive',\n",
       "                                                     [key], {});\n",
       "          if (!dataTable) return;\n",
       "\n",
       "          const docLinkHtml = 'Like what you see? Visit the ' +\n",
       "            '<a target=\"_blank\" href=https://colab.research.google.com/notebooks/data_table.ipynb>data table notebook</a>'\n",
       "            + ' to learn more about interactive tables.';\n",
       "          element.innerHTML = '';\n",
       "          dataTable['output_type'] = 'display_data';\n",
       "          await google.colab.output.renderOutput(dataTable, element);\n",
       "          const docLink = document.createElement('div');\n",
       "          docLink.innerHTML = docLinkHtml;\n",
       "          element.appendChild(docLink);\n",
       "        }\n",
       "      </script>\n",
       "    </div>\n",
       "  </div>\n",
       "  "
      ]
     },
     "metadata": {},
     "execution_count": 221
    }
   ]
  },
  {
   "cell_type": "code",
   "source": [
    "GA_TRI_df.isnull().sum().sum()"
   ],
   "metadata": {
    "colab": {
     "base_uri": "https://localhost:8080/"
    },
    "id": "t8PhlYt8MCbv",
    "outputId": "d6369a78-b1f5-45d0-e33c-c5599eaa3eaf",
    "pycharm": {
     "name": "#%%\n"
    }
   },
   "execution_count": null,
   "outputs": [
    {
     "output_type": "execute_result",
     "data": {
      "text/plain": [
       "0"
      ]
     },
     "metadata": {},
     "execution_count": 222
    }
   ]
  },
  {
   "cell_type": "code",
   "source": [
    "GA_TRI_df.groupby(['39. CLEAN AIR ACT CHEMICAL'])['39. CLEAN AIR ACT CHEMICAL'].count()"
   ],
   "metadata": {
    "colab": {
     "base_uri": "https://localhost:8080/"
    },
    "id": "_1KwdKx-MNxk",
    "outputId": "b7b8a6f6-2605-4347-a79a-4f9f9e78b5ab",
    "pycharm": {
     "name": "#%%\n"
    }
   },
   "execution_count": null,
   "outputs": [
    {
     "output_type": "execute_result",
     "data": {
      "text/plain": [
       "39. CLEAN AIR ACT CHEMICAL\n",
       "NO      963\n",
       "YES    1326\n",
       "Name: 39. CLEAN AIR ACT CHEMICAL, dtype: int64"
      ]
     },
     "metadata": {},
     "execution_count": 223
    }
   ]
  },
  {
   "cell_type": "code",
   "source": [
    "GA_TRI_df.groupby(['35. ELEMENTAL METAL INCLUDED'])['35. ELEMENTAL METAL INCLUDED'].count()"
   ],
   "metadata": {
    "colab": {
     "base_uri": "https://localhost:8080/"
    },
    "id": "dX_saMtmMjux",
    "outputId": "37e9d75c-d65a-4a1a-b854-7e48fb34ae83",
    "pycharm": {
     "name": "#%%\n"
    }
   },
   "execution_count": null,
   "outputs": [
    {
     "output_type": "execute_result",
     "data": {
      "text/plain": [
       "35. ELEMENTAL METAL INCLUDED\n",
       "NO     2135\n",
       "YES     154\n",
       "Name: 35. ELEMENTAL METAL INCLUDED, dtype: int64"
      ]
     },
     "metadata": {},
     "execution_count": 224
    }
   ]
  },
  {
   "cell_type": "code",
   "source": [
    "GA_TRI_df.groupby(['46. FORM TYPE'])['46. FORM TYPE'].count()"
   ],
   "metadata": {
    "colab": {
     "base_uri": "https://localhost:8080/"
    },
    "id": "3SBHJBh0M1LP",
    "outputId": "16f83bb3-41cb-463e-9f0f-ad32a1e70adf",
    "pycharm": {
     "name": "#%%\n"
    }
   },
   "execution_count": null,
   "outputs": [
    {
     "output_type": "execute_result",
     "data": {
      "text/plain": [
       "46. FORM TYPE\n",
       "A     435\n",
       "R    1854\n",
       "Name: 46. FORM TYPE, dtype: int64"
      ]
     },
     "metadata": {},
     "execution_count": 225
    }
   ]
  },
  {
   "cell_type": "code",
   "source": [
    "GA_TRI_df.groupby(['43. CARCINOGEN'])['43. CARCINOGEN'].count()"
   ],
   "metadata": {
    "colab": {
     "base_uri": "https://localhost:8080/"
    },
    "id": "KMgxy6ZSNRKY",
    "outputId": "6040b49b-2e1b-4798-e7c1-a2de698d1744",
    "pycharm": {
     "name": "#%%\n"
    }
   },
   "execution_count": null,
   "outputs": [
    {
     "output_type": "execute_result",
     "data": {
      "text/plain": [
       "43. CARCINOGEN\n",
       "NO     1747\n",
       "YES     542\n",
       "Name: 43. CARCINOGEN, dtype: int64"
      ]
     },
     "metadata": {},
     "execution_count": 226
    }
   ]
  },
  {
   "cell_type": "code",
   "source": [
    "GA_TRI_df.groupby(['44. PBT'])['44. PBT'].count()"
   ],
   "metadata": {
    "colab": {
     "base_uri": "https://localhost:8080/"
    },
    "id": "ibLdTlcGNBXe",
    "outputId": "7096e3d4-ff4a-4494-aa2c-ead109ae1d88",
    "pycharm": {
     "name": "#%%\n"
    }
   },
   "execution_count": null,
   "outputs": [
    {
     "output_type": "execute_result",
     "data": {
      "text/plain": [
       "44. PBT\n",
       "NO     1918\n",
       "YES     371\n",
       "Name: 44. PBT, dtype: int64"
      ]
     },
     "metadata": {},
     "execution_count": 227
    }
   ]
  },
  {
   "cell_type": "code",
   "source": [
    "GA_TRI_df.groupby(['41. METAL'])['41. METAL'].count()"
   ],
   "metadata": {
    "colab": {
     "base_uri": "https://localhost:8080/"
    },
    "id": "buKgTMGSNdpt",
    "outputId": "b500eede-da16-4433-baac-b9b7bfc5488c",
    "pycharm": {
     "name": "#%%\n"
    }
   },
   "execution_count": null,
   "outputs": [
    {
     "output_type": "execute_result",
     "data": {
      "text/plain": [
       "41. METAL\n",
       "NO     1443\n",
       "YES     846\n",
       "Name: 41. METAL, dtype: int64"
      ]
     },
     "metadata": {},
     "execution_count": 228
    }
   ]
  },
  {
   "cell_type": "code",
   "source": [
    "GA_TRI_df['39. CLEAN AIR ACT CHEMICAL'] = [1 if e == 'YES' else 0 for e in GA_TRI_df['39. CLEAN AIR ACT CHEMICAL']]\n",
    "GA_TRI_df['35. ELEMENTAL METAL INCLUDED'] = [1 if e == 'YES' else 0 for e in GA_TRI_df['35. ELEMENTAL METAL INCLUDED']]\n",
    "GA_TRI_df['43. CARCINOGEN'] = [1 if e == 'YES' else 0 for e in GA_TRI_df['43. CARCINOGEN']]\n",
    "GA_TRI_df['44. PBT'] = [1 if e == 'YES' else 0 for e in GA_TRI_df['44. PBT']]\n",
    "GA_TRI_df['41. METAL'] = [1 if e == 'YES' else 0 for e in GA_TRI_df['41. METAL']]\n",
    "GA_TRI_df['46. FORM TYPE'] = [1 if e == 'A' else 0 for e in GA_TRI_df['46. FORM TYPE']]"
   ],
   "metadata": {
    "id": "xRfE9NEaO29J",
    "pycharm": {
     "name": "#%%\n"
    }
   },
   "execution_count": null,
   "outputs": []
  },
  {
   "cell_type": "code",
   "source": [
    "GA_TRI_df.drop(columns=['45. PFAS'], axis=1, inplace=True)"
   ],
   "metadata": {
    "id": "PJEb-M7yQ4Fd",
    "pycharm": {
     "name": "#%%\n"
    }
   },
   "execution_count": null,
   "outputs": []
  },
  {
   "cell_type": "code",
   "source": [
    "GA_TRI_df.head()"
   ],
   "metadata": {
    "colab": {
     "base_uri": "https://localhost:8080/",
     "height": 302
    },
    "id": "S2tFbKe6Qjio",
    "outputId": "eedb6ee6-2686-45c0-9dcf-9554c092c494",
    "pycharm": {
     "name": "#%%\n"
    }
   },
   "execution_count": null,
   "outputs": [
    {
     "output_type": "execute_result",
     "data": {
      "text/plain": [
       "   ZIPCODE  48. 5.1 - FUGITIVE AIR  49. 5.2 - STACK AIR 40. CLASSIFICATION  \\\n",
       "0    31408                  0.0000                 39.0                TRI   \n",
       "1    31323                  0.0000               6300.0                TRI   \n",
       "2    30260                  0.0000                  0.0                PBT   \n",
       "3    30720                 14.0000               1358.0                TRI   \n",
       "4    30340                  5.3419                  0.0                TRI   \n",
       "\n",
       "   41. METAL  42. METAL CATEGORY  43. CARCINOGEN  44. PBT  46. FORM TYPE  \\\n",
       "0          1                   1               0        0              0   \n",
       "1          0                   0               1        0              0   \n",
       "2          1                   1               1        1              0   \n",
       "3          0                   0               0        0              0   \n",
       "4          0                   0               0        0              0   \n",
       "\n",
       "    20. INDUSTRY SECTOR  35. ELEMENTAL METAL INCLUDED  \\\n",
       "0             Chemicals                             0   \n",
       "1             Chemicals                             0   \n",
       "2             Chemicals                             0   \n",
       "3       Textile Product                             0   \n",
       "4  Chemical Wholesalers                             0   \n",
       "\n",
       "   39. CLEAN AIR ACT CHEMICAL  \n",
       "0                           0  \n",
       "1                           1  \n",
       "2                           0  \n",
       "3                           0  \n",
       "4                           1  "
      ],
      "text/html": [
       "\n",
       "  <div id=\"df-f9c2e32d-9b55-4ea2-9a48-1d2fa65763f5\">\n",
       "    <div class=\"colab-df-container\">\n",
       "      <div>\n",
       "<style scoped>\n",
       "    .dataframe tbody tr th:only-of-type {\n",
       "        vertical-align: middle;\n",
       "    }\n",
       "\n",
       "    .dataframe tbody tr th {\n",
       "        vertical-align: top;\n",
       "    }\n",
       "\n",
       "    .dataframe thead th {\n",
       "        text-align: right;\n",
       "    }\n",
       "</style>\n",
       "<table border=\"1\" class=\"dataframe\">\n",
       "  <thead>\n",
       "    <tr style=\"text-align: right;\">\n",
       "      <th></th>\n",
       "      <th>ZIPCODE</th>\n",
       "      <th>48. 5.1 - FUGITIVE AIR</th>\n",
       "      <th>49. 5.2 - STACK AIR</th>\n",
       "      <th>40. CLASSIFICATION</th>\n",
       "      <th>41. METAL</th>\n",
       "      <th>42. METAL CATEGORY</th>\n",
       "      <th>43. CARCINOGEN</th>\n",
       "      <th>44. PBT</th>\n",
       "      <th>46. FORM TYPE</th>\n",
       "      <th>20. INDUSTRY SECTOR</th>\n",
       "      <th>35. ELEMENTAL METAL INCLUDED</th>\n",
       "      <th>39. CLEAN AIR ACT CHEMICAL</th>\n",
       "    </tr>\n",
       "  </thead>\n",
       "  <tbody>\n",
       "    <tr>\n",
       "      <th>0</th>\n",
       "      <td>31408</td>\n",
       "      <td>0.0000</td>\n",
       "      <td>39.0</td>\n",
       "      <td>TRI</td>\n",
       "      <td>1</td>\n",
       "      <td>1</td>\n",
       "      <td>0</td>\n",
       "      <td>0</td>\n",
       "      <td>0</td>\n",
       "      <td>Chemicals</td>\n",
       "      <td>0</td>\n",
       "      <td>0</td>\n",
       "    </tr>\n",
       "    <tr>\n",
       "      <th>1</th>\n",
       "      <td>31323</td>\n",
       "      <td>0.0000</td>\n",
       "      <td>6300.0</td>\n",
       "      <td>TRI</td>\n",
       "      <td>0</td>\n",
       "      <td>0</td>\n",
       "      <td>1</td>\n",
       "      <td>0</td>\n",
       "      <td>0</td>\n",
       "      <td>Chemicals</td>\n",
       "      <td>0</td>\n",
       "      <td>1</td>\n",
       "    </tr>\n",
       "    <tr>\n",
       "      <th>2</th>\n",
       "      <td>30260</td>\n",
       "      <td>0.0000</td>\n",
       "      <td>0.0</td>\n",
       "      <td>PBT</td>\n",
       "      <td>1</td>\n",
       "      <td>1</td>\n",
       "      <td>1</td>\n",
       "      <td>1</td>\n",
       "      <td>0</td>\n",
       "      <td>Chemicals</td>\n",
       "      <td>0</td>\n",
       "      <td>0</td>\n",
       "    </tr>\n",
       "    <tr>\n",
       "      <th>3</th>\n",
       "      <td>30720</td>\n",
       "      <td>14.0000</td>\n",
       "      <td>1358.0</td>\n",
       "      <td>TRI</td>\n",
       "      <td>0</td>\n",
       "      <td>0</td>\n",
       "      <td>0</td>\n",
       "      <td>0</td>\n",
       "      <td>0</td>\n",
       "      <td>Textile Product</td>\n",
       "      <td>0</td>\n",
       "      <td>0</td>\n",
       "    </tr>\n",
       "    <tr>\n",
       "      <th>4</th>\n",
       "      <td>30340</td>\n",
       "      <td>5.3419</td>\n",
       "      <td>0.0</td>\n",
       "      <td>TRI</td>\n",
       "      <td>0</td>\n",
       "      <td>0</td>\n",
       "      <td>0</td>\n",
       "      <td>0</td>\n",
       "      <td>0</td>\n",
       "      <td>Chemical Wholesalers</td>\n",
       "      <td>0</td>\n",
       "      <td>1</td>\n",
       "    </tr>\n",
       "  </tbody>\n",
       "</table>\n",
       "</div>\n",
       "      <button class=\"colab-df-convert\" onclick=\"convertToInteractive('df-f9c2e32d-9b55-4ea2-9a48-1d2fa65763f5')\"\n",
       "              title=\"Convert this dataframe to an interactive table.\"\n",
       "              style=\"display:none;\">\n",
       "        \n",
       "  <svg xmlns=\"http://www.w3.org/2000/svg\" height=\"24px\"viewBox=\"0 0 24 24\"\n",
       "       width=\"24px\">\n",
       "    <path d=\"M0 0h24v24H0V0z\" fill=\"none\"/>\n",
       "    <path d=\"M18.56 5.44l.94 2.06.94-2.06 2.06-.94-2.06-.94-.94-2.06-.94 2.06-2.06.94zm-11 1L8.5 8.5l.94-2.06 2.06-.94-2.06-.94L8.5 2.5l-.94 2.06-2.06.94zm10 10l.94 2.06.94-2.06 2.06-.94-2.06-.94-.94-2.06-.94 2.06-2.06.94z\"/><path d=\"M17.41 7.96l-1.37-1.37c-.4-.4-.92-.59-1.43-.59-.52 0-1.04.2-1.43.59L10.3 9.45l-7.72 7.72c-.78.78-.78 2.05 0 2.83L4 21.41c.39.39.9.59 1.41.59.51 0 1.02-.2 1.41-.59l7.78-7.78 2.81-2.81c.8-.78.8-2.07 0-2.86zM5.41 20L4 18.59l7.72-7.72 1.47 1.35L5.41 20z\"/>\n",
       "  </svg>\n",
       "      </button>\n",
       "      \n",
       "  <style>\n",
       "    .colab-df-container {\n",
       "      display:flex;\n",
       "      flex-wrap:wrap;\n",
       "      gap: 12px;\n",
       "    }\n",
       "\n",
       "    .colab-df-convert {\n",
       "      background-color: #E8F0FE;\n",
       "      border: none;\n",
       "      border-radius: 50%;\n",
       "      cursor: pointer;\n",
       "      display: none;\n",
       "      fill: #1967D2;\n",
       "      height: 32px;\n",
       "      padding: 0 0 0 0;\n",
       "      width: 32px;\n",
       "    }\n",
       "\n",
       "    .colab-df-convert:hover {\n",
       "      background-color: #E2EBFA;\n",
       "      box-shadow: 0px 1px 2px rgba(60, 64, 67, 0.3), 0px 1px 3px 1px rgba(60, 64, 67, 0.15);\n",
       "      fill: #174EA6;\n",
       "    }\n",
       "\n",
       "    [theme=dark] .colab-df-convert {\n",
       "      background-color: #3B4455;\n",
       "      fill: #D2E3FC;\n",
       "    }\n",
       "\n",
       "    [theme=dark] .colab-df-convert:hover {\n",
       "      background-color: #434B5C;\n",
       "      box-shadow: 0px 1px 3px 1px rgba(0, 0, 0, 0.15);\n",
       "      filter: drop-shadow(0px 1px 2px rgba(0, 0, 0, 0.3));\n",
       "      fill: #FFFFFF;\n",
       "    }\n",
       "  </style>\n",
       "\n",
       "      <script>\n",
       "        const buttonEl =\n",
       "          document.querySelector('#df-f9c2e32d-9b55-4ea2-9a48-1d2fa65763f5 button.colab-df-convert');\n",
       "        buttonEl.style.display =\n",
       "          google.colab.kernel.accessAllowed ? 'block' : 'none';\n",
       "\n",
       "        async function convertToInteractive(key) {\n",
       "          const element = document.querySelector('#df-f9c2e32d-9b55-4ea2-9a48-1d2fa65763f5');\n",
       "          const dataTable =\n",
       "            await google.colab.kernel.invokeFunction('convertToInteractive',\n",
       "                                                     [key], {});\n",
       "          if (!dataTable) return;\n",
       "\n",
       "          const docLinkHtml = 'Like what you see? Visit the ' +\n",
       "            '<a target=\"_blank\" href=https://colab.research.google.com/notebooks/data_table.ipynb>data table notebook</a>'\n",
       "            + ' to learn more about interactive tables.';\n",
       "          element.innerHTML = '';\n",
       "          dataTable['output_type'] = 'display_data';\n",
       "          await google.colab.output.renderOutput(dataTable, element);\n",
       "          const docLink = document.createElement('div');\n",
       "          docLink.innerHTML = docLinkHtml;\n",
       "          element.appendChild(docLink);\n",
       "        }\n",
       "      </script>\n",
       "    </div>\n",
       "  </div>\n",
       "  "
      ]
     },
     "metadata": {},
     "execution_count": 231
    }
   ]
  },
  {
   "cell_type": "code",
   "source": [
    "# GA_TRI_df.groupby(['45. PFAS'])['45. PFAS'].count()"
   ],
   "metadata": {
    "id": "DuNV-vr6M8tb",
    "pycharm": {
     "name": "#%%\n"
    }
   },
   "execution_count": null,
   "outputs": []
  },
  {
   "cell_type": "code",
   "source": [
    "GA_TRI_df.groupby(['42. METAL CATEGORY'])['42. METAL CATEGORY'].count()"
   ],
   "metadata": {
    "colab": {
     "base_uri": "https://localhost:8080/"
    },
    "id": "HEW883B5NXgz",
    "outputId": "44eb5421-2ded-4a9e-8ea7-a8ed8b65cab6",
    "pycharm": {
     "name": "#%%\n"
    }
   },
   "execution_count": null,
   "outputs": [
    {
     "output_type": "execute_result",
     "data": {
      "text/plain": [
       "42. METAL CATEGORY\n",
       "0    1383\n",
       "1     846\n",
       "2      21\n",
       "3      23\n",
       "4      16\n",
       "Name: 42. METAL CATEGORY, dtype: int64"
      ]
     },
     "metadata": {},
     "execution_count": 233
    }
   ]
  },
  {
   "cell_type": "code",
   "source": [
    "GA_TRI_df.groupby(['40. CLASSIFICATION'])['40. CLASSIFICATION'].count()"
   ],
   "metadata": {
    "colab": {
     "base_uri": "https://localhost:8080/"
    },
    "id": "QX_ek8plNi1Z",
    "outputId": "7b20d32d-a495-4acb-deef-8a8021031187",
    "pycharm": {
     "name": "#%%\n"
    }
   },
   "execution_count": null,
   "outputs": [
    {
     "output_type": "execute_result",
     "data": {
      "text/plain": [
       "40. CLASSIFICATION\n",
       "Dioxin      33\n",
       "PBT        338\n",
       "TRI       1918\n",
       "Name: 40. CLASSIFICATION, dtype: int64"
      ]
     },
     "metadata": {},
     "execution_count": 234
    }
   ]
  },
  {
   "cell_type": "code",
   "source": [
    "GA_TRI_df.describe()"
   ],
   "metadata": {
    "colab": {
     "base_uri": "https://localhost:8080/",
     "height": 379
    },
    "id": "N61gHFWqMRMI",
    "outputId": "60b71341-b06c-46ad-ca75-3fb5a3047ce1",
    "pycharm": {
     "name": "#%%\n"
    }
   },
   "execution_count": null,
   "outputs": [
    {
     "output_type": "execute_result",
     "data": {
      "text/plain": [
       "            ZIPCODE  48. 5.1 - FUGITIVE AIR  49. 5.2 - STACK AIR    41. METAL  \\\n",
       "count   2289.000000            2.289000e+03         2.289000e+03  2289.000000   \n",
       "mean   30943.391437            3.417876e+03         1.082080e+04     0.369594   \n",
       "std     1471.435349            4.196062e+04         1.186831e+05     0.482800   \n",
       "min    30001.000000            0.000000e+00         0.000000e+00     0.000000   \n",
       "25%    30217.000000            0.000000e+00         0.000000e+00     0.000000   \n",
       "50%    30650.000000            0.000000e+00         1.600000e-02     0.000000   \n",
       "75%    31322.000000            8.000000e+00         1.170000e+02     1.000000   \n",
       "max    39851.000000            1.209843e+06         3.758763e+06     1.000000   \n",
       "\n",
       "       42. METAL CATEGORY  43. CARCINOGEN      44. PBT  46. FORM TYPE  \\\n",
       "count         2289.000000     2289.000000  2289.000000    2289.000000   \n",
       "mean             0.446046        0.236785     0.162080       0.190039   \n",
       "std              0.640144        0.425202     0.368604       0.392418   \n",
       "min              0.000000        0.000000     0.000000       0.000000   \n",
       "25%              0.000000        0.000000     0.000000       0.000000   \n",
       "50%              0.000000        0.000000     0.000000       0.000000   \n",
       "75%              1.000000        0.000000     0.000000       0.000000   \n",
       "max              4.000000        1.000000     1.000000       1.000000   \n",
       "\n",
       "       35. ELEMENTAL METAL INCLUDED  39. CLEAN AIR ACT CHEMICAL  \n",
       "count                   2289.000000                 2289.000000  \n",
       "mean                       0.067278                    0.579292  \n",
       "std                        0.250558                    0.493781  \n",
       "min                        0.000000                    0.000000  \n",
       "25%                        0.000000                    0.000000  \n",
       "50%                        0.000000                    1.000000  \n",
       "75%                        0.000000                    1.000000  \n",
       "max                        1.000000                    1.000000  "
      ],
      "text/html": [
       "\n",
       "  <div id=\"df-381b1f7f-1b45-411f-9832-6ec94aa2a1ff\">\n",
       "    <div class=\"colab-df-container\">\n",
       "      <div>\n",
       "<style scoped>\n",
       "    .dataframe tbody tr th:only-of-type {\n",
       "        vertical-align: middle;\n",
       "    }\n",
       "\n",
       "    .dataframe tbody tr th {\n",
       "        vertical-align: top;\n",
       "    }\n",
       "\n",
       "    .dataframe thead th {\n",
       "        text-align: right;\n",
       "    }\n",
       "</style>\n",
       "<table border=\"1\" class=\"dataframe\">\n",
       "  <thead>\n",
       "    <tr style=\"text-align: right;\">\n",
       "      <th></th>\n",
       "      <th>ZIPCODE</th>\n",
       "      <th>48. 5.1 - FUGITIVE AIR</th>\n",
       "      <th>49. 5.2 - STACK AIR</th>\n",
       "      <th>41. METAL</th>\n",
       "      <th>42. METAL CATEGORY</th>\n",
       "      <th>43. CARCINOGEN</th>\n",
       "      <th>44. PBT</th>\n",
       "      <th>46. FORM TYPE</th>\n",
       "      <th>35. ELEMENTAL METAL INCLUDED</th>\n",
       "      <th>39. CLEAN AIR ACT CHEMICAL</th>\n",
       "    </tr>\n",
       "  </thead>\n",
       "  <tbody>\n",
       "    <tr>\n",
       "      <th>count</th>\n",
       "      <td>2289.000000</td>\n",
       "      <td>2.289000e+03</td>\n",
       "      <td>2.289000e+03</td>\n",
       "      <td>2289.000000</td>\n",
       "      <td>2289.000000</td>\n",
       "      <td>2289.000000</td>\n",
       "      <td>2289.000000</td>\n",
       "      <td>2289.000000</td>\n",
       "      <td>2289.000000</td>\n",
       "      <td>2289.000000</td>\n",
       "    </tr>\n",
       "    <tr>\n",
       "      <th>mean</th>\n",
       "      <td>30943.391437</td>\n",
       "      <td>3.417876e+03</td>\n",
       "      <td>1.082080e+04</td>\n",
       "      <td>0.369594</td>\n",
       "      <td>0.446046</td>\n",
       "      <td>0.236785</td>\n",
       "      <td>0.162080</td>\n",
       "      <td>0.190039</td>\n",
       "      <td>0.067278</td>\n",
       "      <td>0.579292</td>\n",
       "    </tr>\n",
       "    <tr>\n",
       "      <th>std</th>\n",
       "      <td>1471.435349</td>\n",
       "      <td>4.196062e+04</td>\n",
       "      <td>1.186831e+05</td>\n",
       "      <td>0.482800</td>\n",
       "      <td>0.640144</td>\n",
       "      <td>0.425202</td>\n",
       "      <td>0.368604</td>\n",
       "      <td>0.392418</td>\n",
       "      <td>0.250558</td>\n",
       "      <td>0.493781</td>\n",
       "    </tr>\n",
       "    <tr>\n",
       "      <th>min</th>\n",
       "      <td>30001.000000</td>\n",
       "      <td>0.000000e+00</td>\n",
       "      <td>0.000000e+00</td>\n",
       "      <td>0.000000</td>\n",
       "      <td>0.000000</td>\n",
       "      <td>0.000000</td>\n",
       "      <td>0.000000</td>\n",
       "      <td>0.000000</td>\n",
       "      <td>0.000000</td>\n",
       "      <td>0.000000</td>\n",
       "    </tr>\n",
       "    <tr>\n",
       "      <th>25%</th>\n",
       "      <td>30217.000000</td>\n",
       "      <td>0.000000e+00</td>\n",
       "      <td>0.000000e+00</td>\n",
       "      <td>0.000000</td>\n",
       "      <td>0.000000</td>\n",
       "      <td>0.000000</td>\n",
       "      <td>0.000000</td>\n",
       "      <td>0.000000</td>\n",
       "      <td>0.000000</td>\n",
       "      <td>0.000000</td>\n",
       "    </tr>\n",
       "    <tr>\n",
       "      <th>50%</th>\n",
       "      <td>30650.000000</td>\n",
       "      <td>0.000000e+00</td>\n",
       "      <td>1.600000e-02</td>\n",
       "      <td>0.000000</td>\n",
       "      <td>0.000000</td>\n",
       "      <td>0.000000</td>\n",
       "      <td>0.000000</td>\n",
       "      <td>0.000000</td>\n",
       "      <td>0.000000</td>\n",
       "      <td>1.000000</td>\n",
       "    </tr>\n",
       "    <tr>\n",
       "      <th>75%</th>\n",
       "      <td>31322.000000</td>\n",
       "      <td>8.000000e+00</td>\n",
       "      <td>1.170000e+02</td>\n",
       "      <td>1.000000</td>\n",
       "      <td>1.000000</td>\n",
       "      <td>0.000000</td>\n",
       "      <td>0.000000</td>\n",
       "      <td>0.000000</td>\n",
       "      <td>0.000000</td>\n",
       "      <td>1.000000</td>\n",
       "    </tr>\n",
       "    <tr>\n",
       "      <th>max</th>\n",
       "      <td>39851.000000</td>\n",
       "      <td>1.209843e+06</td>\n",
       "      <td>3.758763e+06</td>\n",
       "      <td>1.000000</td>\n",
       "      <td>4.000000</td>\n",
       "      <td>1.000000</td>\n",
       "      <td>1.000000</td>\n",
       "      <td>1.000000</td>\n",
       "      <td>1.000000</td>\n",
       "      <td>1.000000</td>\n",
       "    </tr>\n",
       "  </tbody>\n",
       "</table>\n",
       "</div>\n",
       "      <button class=\"colab-df-convert\" onclick=\"convertToInteractive('df-381b1f7f-1b45-411f-9832-6ec94aa2a1ff')\"\n",
       "              title=\"Convert this dataframe to an interactive table.\"\n",
       "              style=\"display:none;\">\n",
       "        \n",
       "  <svg xmlns=\"http://www.w3.org/2000/svg\" height=\"24px\"viewBox=\"0 0 24 24\"\n",
       "       width=\"24px\">\n",
       "    <path d=\"M0 0h24v24H0V0z\" fill=\"none\"/>\n",
       "    <path d=\"M18.56 5.44l.94 2.06.94-2.06 2.06-.94-2.06-.94-.94-2.06-.94 2.06-2.06.94zm-11 1L8.5 8.5l.94-2.06 2.06-.94-2.06-.94L8.5 2.5l-.94 2.06-2.06.94zm10 10l.94 2.06.94-2.06 2.06-.94-2.06-.94-.94-2.06-.94 2.06-2.06.94z\"/><path d=\"M17.41 7.96l-1.37-1.37c-.4-.4-.92-.59-1.43-.59-.52 0-1.04.2-1.43.59L10.3 9.45l-7.72 7.72c-.78.78-.78 2.05 0 2.83L4 21.41c.39.39.9.59 1.41.59.51 0 1.02-.2 1.41-.59l7.78-7.78 2.81-2.81c.8-.78.8-2.07 0-2.86zM5.41 20L4 18.59l7.72-7.72 1.47 1.35L5.41 20z\"/>\n",
       "  </svg>\n",
       "      </button>\n",
       "      \n",
       "  <style>\n",
       "    .colab-df-container {\n",
       "      display:flex;\n",
       "      flex-wrap:wrap;\n",
       "      gap: 12px;\n",
       "    }\n",
       "\n",
       "    .colab-df-convert {\n",
       "      background-color: #E8F0FE;\n",
       "      border: none;\n",
       "      border-radius: 50%;\n",
       "      cursor: pointer;\n",
       "      display: none;\n",
       "      fill: #1967D2;\n",
       "      height: 32px;\n",
       "      padding: 0 0 0 0;\n",
       "      width: 32px;\n",
       "    }\n",
       "\n",
       "    .colab-df-convert:hover {\n",
       "      background-color: #E2EBFA;\n",
       "      box-shadow: 0px 1px 2px rgba(60, 64, 67, 0.3), 0px 1px 3px 1px rgba(60, 64, 67, 0.15);\n",
       "      fill: #174EA6;\n",
       "    }\n",
       "\n",
       "    [theme=dark] .colab-df-convert {\n",
       "      background-color: #3B4455;\n",
       "      fill: #D2E3FC;\n",
       "    }\n",
       "\n",
       "    [theme=dark] .colab-df-convert:hover {\n",
       "      background-color: #434B5C;\n",
       "      box-shadow: 0px 1px 3px 1px rgba(0, 0, 0, 0.15);\n",
       "      filter: drop-shadow(0px 1px 2px rgba(0, 0, 0, 0.3));\n",
       "      fill: #FFFFFF;\n",
       "    }\n",
       "  </style>\n",
       "\n",
       "      <script>\n",
       "        const buttonEl =\n",
       "          document.querySelector('#df-381b1f7f-1b45-411f-9832-6ec94aa2a1ff button.colab-df-convert');\n",
       "        buttonEl.style.display =\n",
       "          google.colab.kernel.accessAllowed ? 'block' : 'none';\n",
       "\n",
       "        async function convertToInteractive(key) {\n",
       "          const element = document.querySelector('#df-381b1f7f-1b45-411f-9832-6ec94aa2a1ff');\n",
       "          const dataTable =\n",
       "            await google.colab.kernel.invokeFunction('convertToInteractive',\n",
       "                                                     [key], {});\n",
       "          if (!dataTable) return;\n",
       "\n",
       "          const docLinkHtml = 'Like what you see? Visit the ' +\n",
       "            '<a target=\"_blank\" href=https://colab.research.google.com/notebooks/data_table.ipynb>data table notebook</a>'\n",
       "            + ' to learn more about interactive tables.';\n",
       "          element.innerHTML = '';\n",
       "          dataTable['output_type'] = 'display_data';\n",
       "          await google.colab.output.renderOutput(dataTable, element);\n",
       "          const docLink = document.createElement('div');\n",
       "          docLink.innerHTML = docLinkHtml;\n",
       "          element.appendChild(docLink);\n",
       "        }\n",
       "      </script>\n",
       "    </div>\n",
       "  </div>\n",
       "  "
      ]
     },
     "metadata": {},
     "execution_count": 235
    }
   ]
  },
  {
   "cell_type": "code",
   "source": [
    "GA_TRI_df['48. 5.1 - FUGITIVE AIR'] = [1 if e >= 8 else 0 for e in GA_TRI_df['48. 5.1 - FUGITIVE AIR']]\n",
    "GA_TRI_df['49. 5.2 - STACK AIR'] = [1 if e >= 117 else 0 for e in GA_TRI_df['49. 5.2 - STACK AIR']]"
   ],
   "metadata": {
    "id": "-3qvmDs8Nqmv",
    "pycharm": {
     "name": "#%%\n"
    }
   },
   "execution_count": null,
   "outputs": []
  },
  {
   "cell_type": "code",
   "source": [
    "GA_TRI_df['42. METAL CATEGORY'] = [1 if e >= 1 else 0 for e in GA_TRI_df['42. METAL CATEGORY']]"
   ],
   "metadata": {
    "id": "aeCjfxjnS3dS",
    "pycharm": {
     "name": "#%%\n"
    }
   },
   "execution_count": null,
   "outputs": []
  },
  {
   "cell_type": "code",
   "source": [
    "GA_TRI_df['42. METAL CATEGORY'].value_counts()"
   ],
   "metadata": {
    "colab": {
     "base_uri": "https://localhost:8080/"
    },
    "id": "P5Mc_iDaSsZl",
    "outputId": "25e1cbaa-aebe-43bf-c5f7-9a8660baee3b",
    "pycharm": {
     "name": "#%%\n"
    }
   },
   "execution_count": null,
   "outputs": [
    {
     "output_type": "execute_result",
     "data": {
      "text/plain": [
       "0    1383\n",
       "1     906\n",
       "Name: 42. METAL CATEGORY, dtype: int64"
      ]
     },
     "metadata": {},
     "execution_count": 238
    }
   ]
  },
  {
   "cell_type": "code",
   "source": [
    "GA_TRI_df.groupby(['20. INDUSTRY SECTOR'])['20. INDUSTRY SECTOR'].count()"
   ],
   "metadata": {
    "colab": {
     "base_uri": "https://localhost:8080/"
    },
    "id": "o--IVc3RMoZl",
    "outputId": "04517666-17e0-4780-a3a0-2ad0d84f3c72",
    "pycharm": {
     "name": "#%%\n"
    }
   },
   "execution_count": null,
   "outputs": [
    {
     "output_type": "execute_result",
     "data": {
      "text/plain": [
       "20. INDUSTRY SECTOR\n",
       "Apparel                                2\n",
       "Beverages                              4\n",
       "Chemical Wholesalers                  75\n",
       "Chemicals                            660\n",
       "Computers and Electronic Products      8\n",
       "Electric Utilities                    69\n",
       "Electrical Equipment                  55\n",
       "Fabricated Metals                    118\n",
       "Food                                 148\n",
       "Furniture                              3\n",
       "Hazardous Waste                        8\n",
       "Machinery                             91\n",
       "Metal Mining                           3\n",
       "Miscellaneous Manufacturing           28\n",
       "Nonmetallic Mineral Product          141\n",
       "Other                                 51\n",
       "Paper                                225\n",
       "Petroleum                             39\n",
       "Petroleum Bulk Terminals              92\n",
       "Plastics and Rubber                   81\n",
       "Primary Metals                       101\n",
       "Printing                               2\n",
       "Textile Product                       26\n",
       "Textiles                              14\n",
       "Tobacco                                1\n",
       "Transportation Equipment             133\n",
       "Wood Products                        111\n",
       "Name: 20. INDUSTRY SECTOR, dtype: int64"
      ]
     },
     "metadata": {},
     "execution_count": 239
    }
   ]
  },
  {
   "cell_type": "code",
   "source": [
    "GA_TRI_df['INDUSTRY SECTOR'] = ['Hazardous Waste' if e == 'Hazardous Waste' else 'Chemicals' if e in ['Chemicals', 'Chemical Wholesalers'] else 'Petroleums' if e in ['Petroleum', 'Petroleum Bulk Terminals', 'Plastics and Rubber'] else 'Others' for e in GA_TRI_df['20. INDUSTRY SECTOR']]"
   ],
   "metadata": {
    "id": "150_f9wrXSYc",
    "pycharm": {
     "name": "#%%\n"
    }
   },
   "execution_count": null,
   "outputs": []
  },
  {
   "cell_type": "code",
   "source": [
    "GA_TRI_df.drop(columns=['20. INDUSTRY SECTOR'], axis=1, inplace=True)"
   ],
   "metadata": {
    "id": "9OEfrgRSZ4yy",
    "pycharm": {
     "name": "#%%\n"
    }
   },
   "execution_count": null,
   "outputs": []
  },
  {
   "cell_type": "code",
   "source": [
    "GA_TRI_df.head()"
   ],
   "metadata": {
    "colab": {
     "base_uri": "https://localhost:8080/",
     "height": 285
    },
    "id": "J7prc45hSaAH",
    "outputId": "c0078642-a7d4-40d2-d7d9-25ccc2a1aabd",
    "pycharm": {
     "name": "#%%\n"
    }
   },
   "execution_count": null,
   "outputs": [
    {
     "output_type": "execute_result",
     "data": {
      "text/plain": [
       "   ZIPCODE  48. 5.1 - FUGITIVE AIR  49. 5.2 - STACK AIR 40. CLASSIFICATION  \\\n",
       "0    31408                       0                    0                TRI   \n",
       "1    31323                       0                    1                TRI   \n",
       "2    30260                       0                    0                PBT   \n",
       "3    30720                       1                    1                TRI   \n",
       "4    30340                       0                    0                TRI   \n",
       "\n",
       "   41. METAL  42. METAL CATEGORY  43. CARCINOGEN  44. PBT  46. FORM TYPE  \\\n",
       "0          1                   1               0        0              0   \n",
       "1          0                   0               1        0              0   \n",
       "2          1                   1               1        1              0   \n",
       "3          0                   0               0        0              0   \n",
       "4          0                   0               0        0              0   \n",
       "\n",
       "   35. ELEMENTAL METAL INCLUDED  39. CLEAN AIR ACT CHEMICAL INDUSTRY SECTOR  \n",
       "0                             0                           0       Chemicals  \n",
       "1                             0                           1       Chemicals  \n",
       "2                             0                           0       Chemicals  \n",
       "3                             0                           0          Others  \n",
       "4                             0                           1       Chemicals  "
      ],
      "text/html": [
       "\n",
       "  <div id=\"df-62e0506c-33bf-4d63-a119-c130017174a3\">\n",
       "    <div class=\"colab-df-container\">\n",
       "      <div>\n",
       "<style scoped>\n",
       "    .dataframe tbody tr th:only-of-type {\n",
       "        vertical-align: middle;\n",
       "    }\n",
       "\n",
       "    .dataframe tbody tr th {\n",
       "        vertical-align: top;\n",
       "    }\n",
       "\n",
       "    .dataframe thead th {\n",
       "        text-align: right;\n",
       "    }\n",
       "</style>\n",
       "<table border=\"1\" class=\"dataframe\">\n",
       "  <thead>\n",
       "    <tr style=\"text-align: right;\">\n",
       "      <th></th>\n",
       "      <th>ZIPCODE</th>\n",
       "      <th>48. 5.1 - FUGITIVE AIR</th>\n",
       "      <th>49. 5.2 - STACK AIR</th>\n",
       "      <th>40. CLASSIFICATION</th>\n",
       "      <th>41. METAL</th>\n",
       "      <th>42. METAL CATEGORY</th>\n",
       "      <th>43. CARCINOGEN</th>\n",
       "      <th>44. PBT</th>\n",
       "      <th>46. FORM TYPE</th>\n",
       "      <th>35. ELEMENTAL METAL INCLUDED</th>\n",
       "      <th>39. CLEAN AIR ACT CHEMICAL</th>\n",
       "      <th>INDUSTRY SECTOR</th>\n",
       "    </tr>\n",
       "  </thead>\n",
       "  <tbody>\n",
       "    <tr>\n",
       "      <th>0</th>\n",
       "      <td>31408</td>\n",
       "      <td>0</td>\n",
       "      <td>0</td>\n",
       "      <td>TRI</td>\n",
       "      <td>1</td>\n",
       "      <td>1</td>\n",
       "      <td>0</td>\n",
       "      <td>0</td>\n",
       "      <td>0</td>\n",
       "      <td>0</td>\n",
       "      <td>0</td>\n",
       "      <td>Chemicals</td>\n",
       "    </tr>\n",
       "    <tr>\n",
       "      <th>1</th>\n",
       "      <td>31323</td>\n",
       "      <td>0</td>\n",
       "      <td>1</td>\n",
       "      <td>TRI</td>\n",
       "      <td>0</td>\n",
       "      <td>0</td>\n",
       "      <td>1</td>\n",
       "      <td>0</td>\n",
       "      <td>0</td>\n",
       "      <td>0</td>\n",
       "      <td>1</td>\n",
       "      <td>Chemicals</td>\n",
       "    </tr>\n",
       "    <tr>\n",
       "      <th>2</th>\n",
       "      <td>30260</td>\n",
       "      <td>0</td>\n",
       "      <td>0</td>\n",
       "      <td>PBT</td>\n",
       "      <td>1</td>\n",
       "      <td>1</td>\n",
       "      <td>1</td>\n",
       "      <td>1</td>\n",
       "      <td>0</td>\n",
       "      <td>0</td>\n",
       "      <td>0</td>\n",
       "      <td>Chemicals</td>\n",
       "    </tr>\n",
       "    <tr>\n",
       "      <th>3</th>\n",
       "      <td>30720</td>\n",
       "      <td>1</td>\n",
       "      <td>1</td>\n",
       "      <td>TRI</td>\n",
       "      <td>0</td>\n",
       "      <td>0</td>\n",
       "      <td>0</td>\n",
       "      <td>0</td>\n",
       "      <td>0</td>\n",
       "      <td>0</td>\n",
       "      <td>0</td>\n",
       "      <td>Others</td>\n",
       "    </tr>\n",
       "    <tr>\n",
       "      <th>4</th>\n",
       "      <td>30340</td>\n",
       "      <td>0</td>\n",
       "      <td>0</td>\n",
       "      <td>TRI</td>\n",
       "      <td>0</td>\n",
       "      <td>0</td>\n",
       "      <td>0</td>\n",
       "      <td>0</td>\n",
       "      <td>0</td>\n",
       "      <td>0</td>\n",
       "      <td>1</td>\n",
       "      <td>Chemicals</td>\n",
       "    </tr>\n",
       "  </tbody>\n",
       "</table>\n",
       "</div>\n",
       "      <button class=\"colab-df-convert\" onclick=\"convertToInteractive('df-62e0506c-33bf-4d63-a119-c130017174a3')\"\n",
       "              title=\"Convert this dataframe to an interactive table.\"\n",
       "              style=\"display:none;\">\n",
       "        \n",
       "  <svg xmlns=\"http://www.w3.org/2000/svg\" height=\"24px\"viewBox=\"0 0 24 24\"\n",
       "       width=\"24px\">\n",
       "    <path d=\"M0 0h24v24H0V0z\" fill=\"none\"/>\n",
       "    <path d=\"M18.56 5.44l.94 2.06.94-2.06 2.06-.94-2.06-.94-.94-2.06-.94 2.06-2.06.94zm-11 1L8.5 8.5l.94-2.06 2.06-.94-2.06-.94L8.5 2.5l-.94 2.06-2.06.94zm10 10l.94 2.06.94-2.06 2.06-.94-2.06-.94-.94-2.06-.94 2.06-2.06.94z\"/><path d=\"M17.41 7.96l-1.37-1.37c-.4-.4-.92-.59-1.43-.59-.52 0-1.04.2-1.43.59L10.3 9.45l-7.72 7.72c-.78.78-.78 2.05 0 2.83L4 21.41c.39.39.9.59 1.41.59.51 0 1.02-.2 1.41-.59l7.78-7.78 2.81-2.81c.8-.78.8-2.07 0-2.86zM5.41 20L4 18.59l7.72-7.72 1.47 1.35L5.41 20z\"/>\n",
       "  </svg>\n",
       "      </button>\n",
       "      \n",
       "  <style>\n",
       "    .colab-df-container {\n",
       "      display:flex;\n",
       "      flex-wrap:wrap;\n",
       "      gap: 12px;\n",
       "    }\n",
       "\n",
       "    .colab-df-convert {\n",
       "      background-color: #E8F0FE;\n",
       "      border: none;\n",
       "      border-radius: 50%;\n",
       "      cursor: pointer;\n",
       "      display: none;\n",
       "      fill: #1967D2;\n",
       "      height: 32px;\n",
       "      padding: 0 0 0 0;\n",
       "      width: 32px;\n",
       "    }\n",
       "\n",
       "    .colab-df-convert:hover {\n",
       "      background-color: #E2EBFA;\n",
       "      box-shadow: 0px 1px 2px rgba(60, 64, 67, 0.3), 0px 1px 3px 1px rgba(60, 64, 67, 0.15);\n",
       "      fill: #174EA6;\n",
       "    }\n",
       "\n",
       "    [theme=dark] .colab-df-convert {\n",
       "      background-color: #3B4455;\n",
       "      fill: #D2E3FC;\n",
       "    }\n",
       "\n",
       "    [theme=dark] .colab-df-convert:hover {\n",
       "      background-color: #434B5C;\n",
       "      box-shadow: 0px 1px 3px 1px rgba(0, 0, 0, 0.15);\n",
       "      filter: drop-shadow(0px 1px 2px rgba(0, 0, 0, 0.3));\n",
       "      fill: #FFFFFF;\n",
       "    }\n",
       "  </style>\n",
       "\n",
       "      <script>\n",
       "        const buttonEl =\n",
       "          document.querySelector('#df-62e0506c-33bf-4d63-a119-c130017174a3 button.colab-df-convert');\n",
       "        buttonEl.style.display =\n",
       "          google.colab.kernel.accessAllowed ? 'block' : 'none';\n",
       "\n",
       "        async function convertToInteractive(key) {\n",
       "          const element = document.querySelector('#df-62e0506c-33bf-4d63-a119-c130017174a3');\n",
       "          const dataTable =\n",
       "            await google.colab.kernel.invokeFunction('convertToInteractive',\n",
       "                                                     [key], {});\n",
       "          if (!dataTable) return;\n",
       "\n",
       "          const docLinkHtml = 'Like what you see? Visit the ' +\n",
       "            '<a target=\"_blank\" href=https://colab.research.google.com/notebooks/data_table.ipynb>data table notebook</a>'\n",
       "            + ' to learn more about interactive tables.';\n",
       "          element.innerHTML = '';\n",
       "          dataTable['output_type'] = 'display_data';\n",
       "          await google.colab.output.renderOutput(dataTable, element);\n",
       "          const docLink = document.createElement('div');\n",
       "          docLink.innerHTML = docLinkHtml;\n",
       "          element.appendChild(docLink);\n",
       "        }\n",
       "      </script>\n",
       "    </div>\n",
       "  </div>\n",
       "  "
      ]
     },
     "metadata": {},
     "execution_count": 242
    }
   ]
  },
  {
   "cell_type": "code",
   "source": [
    "GA_TRI_df['INDUSTRY SECTOR'].value_counts()"
   ],
   "metadata": {
    "colab": {
     "base_uri": "https://localhost:8080/"
    },
    "id": "_4U7LwjsZh6m",
    "outputId": "112273d3-82d6-4192-b0bb-66d8433f4dc3",
    "pycharm": {
     "name": "#%%\n"
    }
   },
   "execution_count": null,
   "outputs": [
    {
     "output_type": "execute_result",
     "data": {
      "text/plain": [
       "Others             1334\n",
       "Chemicals           735\n",
       "Petroleums          212\n",
       "Hazardous Waste       8\n",
       "Name: INDUSTRY SECTOR, dtype: int64"
      ]
     },
     "metadata": {},
     "execution_count": 243
    }
   ]
  },
  {
   "cell_type": "code",
   "source": [],
   "metadata": {
    "id": "x1bYOuy-TiuE",
    "pycharm": {
     "name": "#%%\n"
    }
   },
   "execution_count": null,
   "outputs": []
  },
  {
   "cell_type": "code",
   "source": [
    "# Reading SDOH data\n",
    "SDOH = pd.read_csv('/content/drive/MyDrive/NSM_ANALYTICS/sdoh.csv')"
   ],
   "metadata": {
    "id": "Iss97oLaV4dz",
    "pycharm": {
     "name": "#%%\n"
    }
   },
   "execution_count": null,
   "outputs": []
  },
  {
   "cell_type": "code",
   "source": [
    "# slicing of the ZIPCODE to 5 digits\n",
    "SDOH['ZIPCODE'] = [int(str(e)[:5]) for e in SDOH['ZIPCODE']]"
   ],
   "metadata": {
    "id": "_GgMQcLQelRK",
    "pycharm": {
     "name": "#%%\n"
    }
   },
   "execution_count": null,
   "outputs": []
  },
  {
   "cell_type": "code",
   "source": [
    "GA_SDOH = SDOH[SDOH['STATE'] == 'Georgia'].reset_index(drop=True)"
   ],
   "metadata": {
    "id": "wZmPM8tLeonv",
    "pycharm": {
     "name": "#%%\n"
    }
   },
   "execution_count": null,
   "outputs": []
  },
  {
   "cell_type": "code",
   "source": [
    "GA_SDOH.shape"
   ],
   "metadata": {
    "colab": {
     "base_uri": "https://localhost:8080/"
    },
    "id": "6nsSPNVcesdj",
    "outputId": "edf8684f-f409-4e42-e88f-dc3db5246ba5",
    "pycharm": {
     "name": "#%%\n"
    }
   },
   "execution_count": null,
   "outputs": [
    {
     "output_type": "execute_result",
     "data": {
      "text/plain": [
       "(951, 355)"
      ]
     },
     "metadata": {},
     "execution_count": 247
    }
   ]
  },
  {
   "cell_type": "code",
   "source": [
    "GA_SDOH_df = GA_SDOH[['ZIPCODE', 'CDCP_ARTHRITIS_ADULT_C_ZC', 'CDCP_ASTHMA_ADULT_C_ZC', 'CDCP_BLOOD_MED_ADULT_C_ZC', 'CDCP_CHOLES_ADULT_C_ZC',\n",
    "     'CDCP_KIDNEY_DISEASE_ADULT_C_ZC', 'CDCP_PULMONARY_ADULT_C_ZC', 'CDCP_DOCTOR_VISIT_ADULT_C_ZC']]"
   ],
   "metadata": {
    "id": "jclvqIifevmh",
    "pycharm": {
     "name": "#%%\n"
    }
   },
   "execution_count": null,
   "outputs": []
  },
  {
   "cell_type": "code",
   "source": [
    "GA_SDOH_df.dropna(inplace=True)"
   ],
   "metadata": {
    "id": "eOwXPA4UfHJQ",
    "pycharm": {
     "name": "#%%\n"
    }
   },
   "execution_count": null,
   "outputs": []
  },
  {
   "cell_type": "code",
   "source": [
    "GA_SDOH_df.isnull().sum()"
   ],
   "metadata": {
    "colab": {
     "base_uri": "https://localhost:8080/"
    },
    "id": "Jqg8Nbn1fCBA",
    "outputId": "8dd7810a-10dc-438c-be9b-d0bd5a5f50e8",
    "pycharm": {
     "name": "#%%\n"
    }
   },
   "execution_count": null,
   "outputs": [
    {
     "output_type": "execute_result",
     "data": {
      "text/plain": [
       "ZIPCODE                           0\n",
       "CDCP_ARTHRITIS_ADULT_C_ZC         0\n",
       "CDCP_ASTHMA_ADULT_C_ZC            0\n",
       "CDCP_BLOOD_MED_ADULT_C_ZC         0\n",
       "CDCP_CHOLES_ADULT_C_ZC            0\n",
       "CDCP_KIDNEY_DISEASE_ADULT_C_ZC    0\n",
       "CDCP_PULMONARY_ADULT_C_ZC         0\n",
       "CDCP_DOCTOR_VISIT_ADULT_C_ZC      0\n",
       "dtype: int64"
      ]
     },
     "metadata": {},
     "execution_count": 250
    }
   ]
  },
  {
   "cell_type": "code",
   "source": [
    "GA_SDOH_df.head()"
   ],
   "metadata": {
    "colab": {
     "base_uri": "https://localhost:8080/",
     "height": 270
    },
    "id": "SRqjFcDle9Fz",
    "outputId": "9299208d-d185-42b0-bcc8-ff0a5fc23d8f",
    "pycharm": {
     "name": "#%%\n"
    }
   },
   "execution_count": null,
   "outputs": [
    {
     "output_type": "execute_result",
     "data": {
      "text/plain": [
       "   ZIPCODE  CDCP_ARTHRITIS_ADULT_C_ZC  CDCP_ASTHMA_ADULT_C_ZC  \\\n",
       "1    30002                       22.5                     9.1   \n",
       "2    30004                       18.4                     7.6   \n",
       "3    30023                       17.0                     7.2   \n",
       "4    30005                       17.0                     7.2   \n",
       "5    30008                       20.0                     9.9   \n",
       "\n",
       "   CDCP_BLOOD_MED_ADULT_C_ZC  CDCP_CHOLES_ADULT_C_ZC  \\\n",
       "1                       73.4                    30.5   \n",
       "2                       70.3                    30.2   \n",
       "3                       68.8                    29.1   \n",
       "4                       68.8                    29.1   \n",
       "5                       68.9                    27.2   \n",
       "\n",
       "   CDCP_KIDNEY_DISEASE_ADULT_C_ZC  CDCP_PULMONARY_ADULT_C_ZC  \\\n",
       "1                             2.9                        6.1   \n",
       "2                             2.0                        4.1   \n",
       "3                             1.8                        3.6   \n",
       "4                             1.8                        3.6   \n",
       "5                             3.0                        6.7   \n",
       "\n",
       "   CDCP_DOCTOR_VISIT_ADULT_C_ZC  \n",
       "1                          74.5  \n",
       "2                          75.4  \n",
       "3                          75.4  \n",
       "4                          75.4  \n",
       "5                          76.4  "
      ],
      "text/html": [
       "\n",
       "  <div id=\"df-d1caa688-1285-4854-811f-2296427b8012\">\n",
       "    <div class=\"colab-df-container\">\n",
       "      <div>\n",
       "<style scoped>\n",
       "    .dataframe tbody tr th:only-of-type {\n",
       "        vertical-align: middle;\n",
       "    }\n",
       "\n",
       "    .dataframe tbody tr th {\n",
       "        vertical-align: top;\n",
       "    }\n",
       "\n",
       "    .dataframe thead th {\n",
       "        text-align: right;\n",
       "    }\n",
       "</style>\n",
       "<table border=\"1\" class=\"dataframe\">\n",
       "  <thead>\n",
       "    <tr style=\"text-align: right;\">\n",
       "      <th></th>\n",
       "      <th>ZIPCODE</th>\n",
       "      <th>CDCP_ARTHRITIS_ADULT_C_ZC</th>\n",
       "      <th>CDCP_ASTHMA_ADULT_C_ZC</th>\n",
       "      <th>CDCP_BLOOD_MED_ADULT_C_ZC</th>\n",
       "      <th>CDCP_CHOLES_ADULT_C_ZC</th>\n",
       "      <th>CDCP_KIDNEY_DISEASE_ADULT_C_ZC</th>\n",
       "      <th>CDCP_PULMONARY_ADULT_C_ZC</th>\n",
       "      <th>CDCP_DOCTOR_VISIT_ADULT_C_ZC</th>\n",
       "    </tr>\n",
       "  </thead>\n",
       "  <tbody>\n",
       "    <tr>\n",
       "      <th>1</th>\n",
       "      <td>30002</td>\n",
       "      <td>22.5</td>\n",
       "      <td>9.1</td>\n",
       "      <td>73.4</td>\n",
       "      <td>30.5</td>\n",
       "      <td>2.9</td>\n",
       "      <td>6.1</td>\n",
       "      <td>74.5</td>\n",
       "    </tr>\n",
       "    <tr>\n",
       "      <th>2</th>\n",
       "      <td>30004</td>\n",
       "      <td>18.4</td>\n",
       "      <td>7.6</td>\n",
       "      <td>70.3</td>\n",
       "      <td>30.2</td>\n",
       "      <td>2.0</td>\n",
       "      <td>4.1</td>\n",
       "      <td>75.4</td>\n",
       "    </tr>\n",
       "    <tr>\n",
       "      <th>3</th>\n",
       "      <td>30023</td>\n",
       "      <td>17.0</td>\n",
       "      <td>7.2</td>\n",
       "      <td>68.8</td>\n",
       "      <td>29.1</td>\n",
       "      <td>1.8</td>\n",
       "      <td>3.6</td>\n",
       "      <td>75.4</td>\n",
       "    </tr>\n",
       "    <tr>\n",
       "      <th>4</th>\n",
       "      <td>30005</td>\n",
       "      <td>17.0</td>\n",
       "      <td>7.2</td>\n",
       "      <td>68.8</td>\n",
       "      <td>29.1</td>\n",
       "      <td>1.8</td>\n",
       "      <td>3.6</td>\n",
       "      <td>75.4</td>\n",
       "    </tr>\n",
       "    <tr>\n",
       "      <th>5</th>\n",
       "      <td>30008</td>\n",
       "      <td>20.0</td>\n",
       "      <td>9.9</td>\n",
       "      <td>68.9</td>\n",
       "      <td>27.2</td>\n",
       "      <td>3.0</td>\n",
       "      <td>6.7</td>\n",
       "      <td>76.4</td>\n",
       "    </tr>\n",
       "  </tbody>\n",
       "</table>\n",
       "</div>\n",
       "      <button class=\"colab-df-convert\" onclick=\"convertToInteractive('df-d1caa688-1285-4854-811f-2296427b8012')\"\n",
       "              title=\"Convert this dataframe to an interactive table.\"\n",
       "              style=\"display:none;\">\n",
       "        \n",
       "  <svg xmlns=\"http://www.w3.org/2000/svg\" height=\"24px\"viewBox=\"0 0 24 24\"\n",
       "       width=\"24px\">\n",
       "    <path d=\"M0 0h24v24H0V0z\" fill=\"none\"/>\n",
       "    <path d=\"M18.56 5.44l.94 2.06.94-2.06 2.06-.94-2.06-.94-.94-2.06-.94 2.06-2.06.94zm-11 1L8.5 8.5l.94-2.06 2.06-.94-2.06-.94L8.5 2.5l-.94 2.06-2.06.94zm10 10l.94 2.06.94-2.06 2.06-.94-2.06-.94-.94-2.06-.94 2.06-2.06.94z\"/><path d=\"M17.41 7.96l-1.37-1.37c-.4-.4-.92-.59-1.43-.59-.52 0-1.04.2-1.43.59L10.3 9.45l-7.72 7.72c-.78.78-.78 2.05 0 2.83L4 21.41c.39.39.9.59 1.41.59.51 0 1.02-.2 1.41-.59l7.78-7.78 2.81-2.81c.8-.78.8-2.07 0-2.86zM5.41 20L4 18.59l7.72-7.72 1.47 1.35L5.41 20z\"/>\n",
       "  </svg>\n",
       "      </button>\n",
       "      \n",
       "  <style>\n",
       "    .colab-df-container {\n",
       "      display:flex;\n",
       "      flex-wrap:wrap;\n",
       "      gap: 12px;\n",
       "    }\n",
       "\n",
       "    .colab-df-convert {\n",
       "      background-color: #E8F0FE;\n",
       "      border: none;\n",
       "      border-radius: 50%;\n",
       "      cursor: pointer;\n",
       "      display: none;\n",
       "      fill: #1967D2;\n",
       "      height: 32px;\n",
       "      padding: 0 0 0 0;\n",
       "      width: 32px;\n",
       "    }\n",
       "\n",
       "    .colab-df-convert:hover {\n",
       "      background-color: #E2EBFA;\n",
       "      box-shadow: 0px 1px 2px rgba(60, 64, 67, 0.3), 0px 1px 3px 1px rgba(60, 64, 67, 0.15);\n",
       "      fill: #174EA6;\n",
       "    }\n",
       "\n",
       "    [theme=dark] .colab-df-convert {\n",
       "      background-color: #3B4455;\n",
       "      fill: #D2E3FC;\n",
       "    }\n",
       "\n",
       "    [theme=dark] .colab-df-convert:hover {\n",
       "      background-color: #434B5C;\n",
       "      box-shadow: 0px 1px 3px 1px rgba(0, 0, 0, 0.15);\n",
       "      filter: drop-shadow(0px 1px 2px rgba(0, 0, 0, 0.3));\n",
       "      fill: #FFFFFF;\n",
       "    }\n",
       "  </style>\n",
       "\n",
       "      <script>\n",
       "        const buttonEl =\n",
       "          document.querySelector('#df-d1caa688-1285-4854-811f-2296427b8012 button.colab-df-convert');\n",
       "        buttonEl.style.display =\n",
       "          google.colab.kernel.accessAllowed ? 'block' : 'none';\n",
       "\n",
       "        async function convertToInteractive(key) {\n",
       "          const element = document.querySelector('#df-d1caa688-1285-4854-811f-2296427b8012');\n",
       "          const dataTable =\n",
       "            await google.colab.kernel.invokeFunction('convertToInteractive',\n",
       "                                                     [key], {});\n",
       "          if (!dataTable) return;\n",
       "\n",
       "          const docLinkHtml = 'Like what you see? Visit the ' +\n",
       "            '<a target=\"_blank\" href=https://colab.research.google.com/notebooks/data_table.ipynb>data table notebook</a>'\n",
       "            + ' to learn more about interactive tables.';\n",
       "          element.innerHTML = '';\n",
       "          dataTable['output_type'] = 'display_data';\n",
       "          await google.colab.output.renderOutput(dataTable, element);\n",
       "          const docLink = document.createElement('div');\n",
       "          docLink.innerHTML = docLinkHtml;\n",
       "          element.appendChild(docLink);\n",
       "        }\n",
       "      </script>\n",
       "    </div>\n",
       "  </div>\n",
       "  "
      ]
     },
     "metadata": {},
     "execution_count": 251
    }
   ]
  },
  {
   "cell_type": "code",
   "source": [
    "GA_SDOH_df.shape"
   ],
   "metadata": {
    "colab": {
     "base_uri": "https://localhost:8080/"
    },
    "id": "vwYMkyFcfBWl",
    "outputId": "da1a4a10-3bf4-46f2-8730-25990a5aa79a",
    "pycharm": {
     "name": "#%%\n"
    }
   },
   "execution_count": null,
   "outputs": [
    {
     "output_type": "execute_result",
     "data": {
      "text/plain": [
       "(948, 8)"
      ]
     },
     "metadata": {},
     "execution_count": 252
    }
   ]
  },
  {
   "cell_type": "code",
   "source": [
    "GA_SDOH_df[['CDCP_ARTHRITIS_ADULT_C_ZC', 'CDCP_ASTHMA_ADULT_C_ZC', 'CDCP_BLOOD_MED_ADULT_C_ZC', 'CDCP_CHOLES_ADULT_C_ZC',\n",
    "     'CDCP_KIDNEY_DISEASE_ADULT_C_ZC', 'CDCP_PULMONARY_ADULT_C_ZC', 'CDCP_DOCTOR_VISIT_ADULT_C_ZC']].describe()"
   ],
   "metadata": {
    "colab": {
     "base_uri": "https://localhost:8080/",
     "height": 364
    },
    "id": "vw46MKHtghSQ",
    "outputId": "99984f80-0649-415d-b00d-bcaf6581e8ac",
    "pycharm": {
     "name": "#%%\n"
    }
   },
   "execution_count": null,
   "outputs": [
    {
     "output_type": "execute_result",
     "data": {
      "text/plain": [
       "       CDCP_ARTHRITIS_ADULT_C_ZC  CDCP_ASTHMA_ADULT_C_ZC  \\\n",
       "count                 948.000000              948.000000   \n",
       "mean                   26.072363                9.861392   \n",
       "std                     5.867750                1.115167   \n",
       "min                     3.800000                6.900000   \n",
       "25%                    23.000000                9.200000   \n",
       "50%                    27.050000                9.900000   \n",
       "75%                    30.100000               10.600000   \n",
       "max                    43.600000               15.000000   \n",
       "\n",
       "       CDCP_BLOOD_MED_ADULT_C_ZC  CDCP_CHOLES_ADULT_C_ZC  \\\n",
       "count                 948.000000              948.000000   \n",
       "mean                   73.661392               32.575316   \n",
       "std                     8.134764                5.192573   \n",
       "min                    16.300000                9.100000   \n",
       "25%                    72.300000               30.100000   \n",
       "50%                    75.000000               33.500000   \n",
       "75%                    77.700000               35.800000   \n",
       "max                    88.900000               47.800000   \n",
       "\n",
       "       CDCP_KIDNEY_DISEASE_ADULT_C_ZC  CDCP_PULMONARY_ADULT_C_ZC  \\\n",
       "count                      948.000000                 948.000000   \n",
       "mean                         3.346941                   8.413608   \n",
       "std                          0.860381                   2.513641   \n",
       "min                          0.700000                   1.800000   \n",
       "25%                          2.800000                   6.400000   \n",
       "50%                          3.300000                   8.700000   \n",
       "75%                          3.900000                  10.300000   \n",
       "max                          7.300000                  16.500000   \n",
       "\n",
       "       CDCP_DOCTOR_VISIT_ADULT_C_ZC  \n",
       "count                    948.000000  \n",
       "mean                      76.778797  \n",
       "std                        2.800197  \n",
       "min                       63.700000  \n",
       "25%                       75.300000  \n",
       "50%                       76.900000  \n",
       "75%                       78.600000  \n",
       "max                       88.300000  "
      ],
      "text/html": [
       "\n",
       "  <div id=\"df-fe69f826-5ec0-436b-981a-e262b54494f8\">\n",
       "    <div class=\"colab-df-container\">\n",
       "      <div>\n",
       "<style scoped>\n",
       "    .dataframe tbody tr th:only-of-type {\n",
       "        vertical-align: middle;\n",
       "    }\n",
       "\n",
       "    .dataframe tbody tr th {\n",
       "        vertical-align: top;\n",
       "    }\n",
       "\n",
       "    .dataframe thead th {\n",
       "        text-align: right;\n",
       "    }\n",
       "</style>\n",
       "<table border=\"1\" class=\"dataframe\">\n",
       "  <thead>\n",
       "    <tr style=\"text-align: right;\">\n",
       "      <th></th>\n",
       "      <th>CDCP_ARTHRITIS_ADULT_C_ZC</th>\n",
       "      <th>CDCP_ASTHMA_ADULT_C_ZC</th>\n",
       "      <th>CDCP_BLOOD_MED_ADULT_C_ZC</th>\n",
       "      <th>CDCP_CHOLES_ADULT_C_ZC</th>\n",
       "      <th>CDCP_KIDNEY_DISEASE_ADULT_C_ZC</th>\n",
       "      <th>CDCP_PULMONARY_ADULT_C_ZC</th>\n",
       "      <th>CDCP_DOCTOR_VISIT_ADULT_C_ZC</th>\n",
       "    </tr>\n",
       "  </thead>\n",
       "  <tbody>\n",
       "    <tr>\n",
       "      <th>count</th>\n",
       "      <td>948.000000</td>\n",
       "      <td>948.000000</td>\n",
       "      <td>948.000000</td>\n",
       "      <td>948.000000</td>\n",
       "      <td>948.000000</td>\n",
       "      <td>948.000000</td>\n",
       "      <td>948.000000</td>\n",
       "    </tr>\n",
       "    <tr>\n",
       "      <th>mean</th>\n",
       "      <td>26.072363</td>\n",
       "      <td>9.861392</td>\n",
       "      <td>73.661392</td>\n",
       "      <td>32.575316</td>\n",
       "      <td>3.346941</td>\n",
       "      <td>8.413608</td>\n",
       "      <td>76.778797</td>\n",
       "    </tr>\n",
       "    <tr>\n",
       "      <th>std</th>\n",
       "      <td>5.867750</td>\n",
       "      <td>1.115167</td>\n",
       "      <td>8.134764</td>\n",
       "      <td>5.192573</td>\n",
       "      <td>0.860381</td>\n",
       "      <td>2.513641</td>\n",
       "      <td>2.800197</td>\n",
       "    </tr>\n",
       "    <tr>\n",
       "      <th>min</th>\n",
       "      <td>3.800000</td>\n",
       "      <td>6.900000</td>\n",
       "      <td>16.300000</td>\n",
       "      <td>9.100000</td>\n",
       "      <td>0.700000</td>\n",
       "      <td>1.800000</td>\n",
       "      <td>63.700000</td>\n",
       "    </tr>\n",
       "    <tr>\n",
       "      <th>25%</th>\n",
       "      <td>23.000000</td>\n",
       "      <td>9.200000</td>\n",
       "      <td>72.300000</td>\n",
       "      <td>30.100000</td>\n",
       "      <td>2.800000</td>\n",
       "      <td>6.400000</td>\n",
       "      <td>75.300000</td>\n",
       "    </tr>\n",
       "    <tr>\n",
       "      <th>50%</th>\n",
       "      <td>27.050000</td>\n",
       "      <td>9.900000</td>\n",
       "      <td>75.000000</td>\n",
       "      <td>33.500000</td>\n",
       "      <td>3.300000</td>\n",
       "      <td>8.700000</td>\n",
       "      <td>76.900000</td>\n",
       "    </tr>\n",
       "    <tr>\n",
       "      <th>75%</th>\n",
       "      <td>30.100000</td>\n",
       "      <td>10.600000</td>\n",
       "      <td>77.700000</td>\n",
       "      <td>35.800000</td>\n",
       "      <td>3.900000</td>\n",
       "      <td>10.300000</td>\n",
       "      <td>78.600000</td>\n",
       "    </tr>\n",
       "    <tr>\n",
       "      <th>max</th>\n",
       "      <td>43.600000</td>\n",
       "      <td>15.000000</td>\n",
       "      <td>88.900000</td>\n",
       "      <td>47.800000</td>\n",
       "      <td>7.300000</td>\n",
       "      <td>16.500000</td>\n",
       "      <td>88.300000</td>\n",
       "    </tr>\n",
       "  </tbody>\n",
       "</table>\n",
       "</div>\n",
       "      <button class=\"colab-df-convert\" onclick=\"convertToInteractive('df-fe69f826-5ec0-436b-981a-e262b54494f8')\"\n",
       "              title=\"Convert this dataframe to an interactive table.\"\n",
       "              style=\"display:none;\">\n",
       "        \n",
       "  <svg xmlns=\"http://www.w3.org/2000/svg\" height=\"24px\"viewBox=\"0 0 24 24\"\n",
       "       width=\"24px\">\n",
       "    <path d=\"M0 0h24v24H0V0z\" fill=\"none\"/>\n",
       "    <path d=\"M18.56 5.44l.94 2.06.94-2.06 2.06-.94-2.06-.94-.94-2.06-.94 2.06-2.06.94zm-11 1L8.5 8.5l.94-2.06 2.06-.94-2.06-.94L8.5 2.5l-.94 2.06-2.06.94zm10 10l.94 2.06.94-2.06 2.06-.94-2.06-.94-.94-2.06-.94 2.06-2.06.94z\"/><path d=\"M17.41 7.96l-1.37-1.37c-.4-.4-.92-.59-1.43-.59-.52 0-1.04.2-1.43.59L10.3 9.45l-7.72 7.72c-.78.78-.78 2.05 0 2.83L4 21.41c.39.39.9.59 1.41.59.51 0 1.02-.2 1.41-.59l7.78-7.78 2.81-2.81c.8-.78.8-2.07 0-2.86zM5.41 20L4 18.59l7.72-7.72 1.47 1.35L5.41 20z\"/>\n",
       "  </svg>\n",
       "      </button>\n",
       "      \n",
       "  <style>\n",
       "    .colab-df-container {\n",
       "      display:flex;\n",
       "      flex-wrap:wrap;\n",
       "      gap: 12px;\n",
       "    }\n",
       "\n",
       "    .colab-df-convert {\n",
       "      background-color: #E8F0FE;\n",
       "      border: none;\n",
       "      border-radius: 50%;\n",
       "      cursor: pointer;\n",
       "      display: none;\n",
       "      fill: #1967D2;\n",
       "      height: 32px;\n",
       "      padding: 0 0 0 0;\n",
       "      width: 32px;\n",
       "    }\n",
       "\n",
       "    .colab-df-convert:hover {\n",
       "      background-color: #E2EBFA;\n",
       "      box-shadow: 0px 1px 2px rgba(60, 64, 67, 0.3), 0px 1px 3px 1px rgba(60, 64, 67, 0.15);\n",
       "      fill: #174EA6;\n",
       "    }\n",
       "\n",
       "    [theme=dark] .colab-df-convert {\n",
       "      background-color: #3B4455;\n",
       "      fill: #D2E3FC;\n",
       "    }\n",
       "\n",
       "    [theme=dark] .colab-df-convert:hover {\n",
       "      background-color: #434B5C;\n",
       "      box-shadow: 0px 1px 3px 1px rgba(0, 0, 0, 0.15);\n",
       "      filter: drop-shadow(0px 1px 2px rgba(0, 0, 0, 0.3));\n",
       "      fill: #FFFFFF;\n",
       "    }\n",
       "  </style>\n",
       "\n",
       "      <script>\n",
       "        const buttonEl =\n",
       "          document.querySelector('#df-fe69f826-5ec0-436b-981a-e262b54494f8 button.colab-df-convert');\n",
       "        buttonEl.style.display =\n",
       "          google.colab.kernel.accessAllowed ? 'block' : 'none';\n",
       "\n",
       "        async function convertToInteractive(key) {\n",
       "          const element = document.querySelector('#df-fe69f826-5ec0-436b-981a-e262b54494f8');\n",
       "          const dataTable =\n",
       "            await google.colab.kernel.invokeFunction('convertToInteractive',\n",
       "                                                     [key], {});\n",
       "          if (!dataTable) return;\n",
       "\n",
       "          const docLinkHtml = 'Like what you see? Visit the ' +\n",
       "            '<a target=\"_blank\" href=https://colab.research.google.com/notebooks/data_table.ipynb>data table notebook</a>'\n",
       "            + ' to learn more about interactive tables.';\n",
       "          element.innerHTML = '';\n",
       "          dataTable['output_type'] = 'display_data';\n",
       "          await google.colab.output.renderOutput(dataTable, element);\n",
       "          const docLink = document.createElement('div');\n",
       "          docLink.innerHTML = docLinkHtml;\n",
       "          element.appendChild(docLink);\n",
       "        }\n",
       "      </script>\n",
       "    </div>\n",
       "  </div>\n",
       "  "
      ]
     },
     "metadata": {},
     "execution_count": 253
    }
   ]
  },
  {
   "cell_type": "code",
   "source": [
    "GA_SDOH_df['CDCP_ARTHRITIS_ADULT_C_ZC_CATG'] = [1 if e >= 30.1 else 0 for e in GA_SDOH_df['CDCP_ARTHRITIS_ADULT_C_ZC']]\n",
    "GA_SDOH_df['CDCP_ASTHMA_ADULT_C_ZC_CATG'] = [1 if e >= 10.6 else 0 for e in GA_SDOH_df['CDCP_ASTHMA_ADULT_C_ZC']]\n",
    "GA_SDOH_df['CDCP_BLOOD_MED_ADULT_C_ZC_CATG'] = [1 if e >= 77.7 else 0 for e in GA_SDOH_df['CDCP_BLOOD_MED_ADULT_C_ZC']]\n",
    "GA_SDOH_df['CDCP_CHOLES_ADULT_C_ZC_CATG'] = [1 if e >= 35.8 else 0 for e in GA_SDOH_df['CDCP_CHOLES_ADULT_C_ZC']]\n",
    "GA_SDOH_df['CDCP_KIDNEY_DISEASE_ADULT_C_ZC_CATG'] = [1 if e >= 3.9 else 0 for e in GA_SDOH_df['CDCP_KIDNEY_DISEASE_ADULT_C_ZC']]\n",
    "GA_SDOH_df['CDCP_PULMONARY_ADULT_C_ZC_CATG'] = [1 if e >= 10.3 else 0 for e in GA_SDOH_df['CDCP_PULMONARY_ADULT_C_ZC']]\n",
    "GA_SDOH_df['CDCP_DOCTOR_VISIT_ADULT_C_ZC_CATG'] = [1 if e >= 78.6 else 0 for e in GA_SDOH_df['CDCP_DOCTOR_VISIT_ADULT_C_ZC']]"
   ],
   "metadata": {
    "id": "f01pqqePg1Yo",
    "pycharm": {
     "name": "#%%\n"
    }
   },
   "execution_count": null,
   "outputs": []
  },
  {
   "cell_type": "code",
   "source": [
    "GA_SDOH_df.drop(columns=['CDCP_ARTHRITIS_ADULT_C_ZC', 'CDCP_ASTHMA_ADULT_C_ZC', 'CDCP_BLOOD_MED_ADULT_C_ZC', 'CDCP_CHOLES_ADULT_C_ZC',\n",
    "                         'CDCP_KIDNEY_DISEASE_ADULT_C_ZC', 'CDCP_PULMONARY_ADULT_C_ZC', 'CDCP_DOCTOR_VISIT_ADULT_C_ZC'], \n",
    "                axis=1, inplace=True)"
   ],
   "metadata": {
    "id": "iD4kUy3fif0L",
    "pycharm": {
     "name": "#%%\n"
    }
   },
   "execution_count": null,
   "outputs": []
  },
  {
   "cell_type": "code",
   "source": [
    "GA_SDOH_df.head()"
   ],
   "metadata": {
    "colab": {
     "base_uri": "https://localhost:8080/",
     "height": 270
    },
    "id": "i7Ks-FbpiZyK",
    "outputId": "619c7fe9-7df5-4313-bc9b-dd06684a65db",
    "pycharm": {
     "name": "#%%\n"
    }
   },
   "execution_count": null,
   "outputs": [
    {
     "output_type": "execute_result",
     "data": {
      "text/plain": [
       "   ZIPCODE  CDCP_ARTHRITIS_ADULT_C_ZC_CATG  CDCP_ASTHMA_ADULT_C_ZC_CATG  \\\n",
       "1    30002                               0                            0   \n",
       "2    30004                               0                            0   \n",
       "3    30023                               0                            0   \n",
       "4    30005                               0                            0   \n",
       "5    30008                               0                            0   \n",
       "\n",
       "   CDCP_BLOOD_MED_ADULT_C_ZC_CATG  CDCP_CHOLES_ADULT_C_ZC_CATG  \\\n",
       "1                               0                            0   \n",
       "2                               0                            0   \n",
       "3                               0                            0   \n",
       "4                               0                            0   \n",
       "5                               0                            0   \n",
       "\n",
       "   CDCP_KIDNEY_DISEASE_ADULT_C_ZC_CATG  CDCP_PULMONARY_ADULT_C_ZC_CATG  \\\n",
       "1                                    0                               0   \n",
       "2                                    0                               0   \n",
       "3                                    0                               0   \n",
       "4                                    0                               0   \n",
       "5                                    0                               0   \n",
       "\n",
       "   CDCP_DOCTOR_VISIT_ADULT_C_ZC_CATG  \n",
       "1                                  0  \n",
       "2                                  0  \n",
       "3                                  0  \n",
       "4                                  0  \n",
       "5                                  0  "
      ],
      "text/html": [
       "\n",
       "  <div id=\"df-c3a6099b-c56d-481a-8b44-a26fd511681a\">\n",
       "    <div class=\"colab-df-container\">\n",
       "      <div>\n",
       "<style scoped>\n",
       "    .dataframe tbody tr th:only-of-type {\n",
       "        vertical-align: middle;\n",
       "    }\n",
       "\n",
       "    .dataframe tbody tr th {\n",
       "        vertical-align: top;\n",
       "    }\n",
       "\n",
       "    .dataframe thead th {\n",
       "        text-align: right;\n",
       "    }\n",
       "</style>\n",
       "<table border=\"1\" class=\"dataframe\">\n",
       "  <thead>\n",
       "    <tr style=\"text-align: right;\">\n",
       "      <th></th>\n",
       "      <th>ZIPCODE</th>\n",
       "      <th>CDCP_ARTHRITIS_ADULT_C_ZC_CATG</th>\n",
       "      <th>CDCP_ASTHMA_ADULT_C_ZC_CATG</th>\n",
       "      <th>CDCP_BLOOD_MED_ADULT_C_ZC_CATG</th>\n",
       "      <th>CDCP_CHOLES_ADULT_C_ZC_CATG</th>\n",
       "      <th>CDCP_KIDNEY_DISEASE_ADULT_C_ZC_CATG</th>\n",
       "      <th>CDCP_PULMONARY_ADULT_C_ZC_CATG</th>\n",
       "      <th>CDCP_DOCTOR_VISIT_ADULT_C_ZC_CATG</th>\n",
       "    </tr>\n",
       "  </thead>\n",
       "  <tbody>\n",
       "    <tr>\n",
       "      <th>1</th>\n",
       "      <td>30002</td>\n",
       "      <td>0</td>\n",
       "      <td>0</td>\n",
       "      <td>0</td>\n",
       "      <td>0</td>\n",
       "      <td>0</td>\n",
       "      <td>0</td>\n",
       "      <td>0</td>\n",
       "    </tr>\n",
       "    <tr>\n",
       "      <th>2</th>\n",
       "      <td>30004</td>\n",
       "      <td>0</td>\n",
       "      <td>0</td>\n",
       "      <td>0</td>\n",
       "      <td>0</td>\n",
       "      <td>0</td>\n",
       "      <td>0</td>\n",
       "      <td>0</td>\n",
       "    </tr>\n",
       "    <tr>\n",
       "      <th>3</th>\n",
       "      <td>30023</td>\n",
       "      <td>0</td>\n",
       "      <td>0</td>\n",
       "      <td>0</td>\n",
       "      <td>0</td>\n",
       "      <td>0</td>\n",
       "      <td>0</td>\n",
       "      <td>0</td>\n",
       "    </tr>\n",
       "    <tr>\n",
       "      <th>4</th>\n",
       "      <td>30005</td>\n",
       "      <td>0</td>\n",
       "      <td>0</td>\n",
       "      <td>0</td>\n",
       "      <td>0</td>\n",
       "      <td>0</td>\n",
       "      <td>0</td>\n",
       "      <td>0</td>\n",
       "    </tr>\n",
       "    <tr>\n",
       "      <th>5</th>\n",
       "      <td>30008</td>\n",
       "      <td>0</td>\n",
       "      <td>0</td>\n",
       "      <td>0</td>\n",
       "      <td>0</td>\n",
       "      <td>0</td>\n",
       "      <td>0</td>\n",
       "      <td>0</td>\n",
       "    </tr>\n",
       "  </tbody>\n",
       "</table>\n",
       "</div>\n",
       "      <button class=\"colab-df-convert\" onclick=\"convertToInteractive('df-c3a6099b-c56d-481a-8b44-a26fd511681a')\"\n",
       "              title=\"Convert this dataframe to an interactive table.\"\n",
       "              style=\"display:none;\">\n",
       "        \n",
       "  <svg xmlns=\"http://www.w3.org/2000/svg\" height=\"24px\"viewBox=\"0 0 24 24\"\n",
       "       width=\"24px\">\n",
       "    <path d=\"M0 0h24v24H0V0z\" fill=\"none\"/>\n",
       "    <path d=\"M18.56 5.44l.94 2.06.94-2.06 2.06-.94-2.06-.94-.94-2.06-.94 2.06-2.06.94zm-11 1L8.5 8.5l.94-2.06 2.06-.94-2.06-.94L8.5 2.5l-.94 2.06-2.06.94zm10 10l.94 2.06.94-2.06 2.06-.94-2.06-.94-.94-2.06-.94 2.06-2.06.94z\"/><path d=\"M17.41 7.96l-1.37-1.37c-.4-.4-.92-.59-1.43-.59-.52 0-1.04.2-1.43.59L10.3 9.45l-7.72 7.72c-.78.78-.78 2.05 0 2.83L4 21.41c.39.39.9.59 1.41.59.51 0 1.02-.2 1.41-.59l7.78-7.78 2.81-2.81c.8-.78.8-2.07 0-2.86zM5.41 20L4 18.59l7.72-7.72 1.47 1.35L5.41 20z\"/>\n",
       "  </svg>\n",
       "      </button>\n",
       "      \n",
       "  <style>\n",
       "    .colab-df-container {\n",
       "      display:flex;\n",
       "      flex-wrap:wrap;\n",
       "      gap: 12px;\n",
       "    }\n",
       "\n",
       "    .colab-df-convert {\n",
       "      background-color: #E8F0FE;\n",
       "      border: none;\n",
       "      border-radius: 50%;\n",
       "      cursor: pointer;\n",
       "      display: none;\n",
       "      fill: #1967D2;\n",
       "      height: 32px;\n",
       "      padding: 0 0 0 0;\n",
       "      width: 32px;\n",
       "    }\n",
       "\n",
       "    .colab-df-convert:hover {\n",
       "      background-color: #E2EBFA;\n",
       "      box-shadow: 0px 1px 2px rgba(60, 64, 67, 0.3), 0px 1px 3px 1px rgba(60, 64, 67, 0.15);\n",
       "      fill: #174EA6;\n",
       "    }\n",
       "\n",
       "    [theme=dark] .colab-df-convert {\n",
       "      background-color: #3B4455;\n",
       "      fill: #D2E3FC;\n",
       "    }\n",
       "\n",
       "    [theme=dark] .colab-df-convert:hover {\n",
       "      background-color: #434B5C;\n",
       "      box-shadow: 0px 1px 3px 1px rgba(0, 0, 0, 0.15);\n",
       "      filter: drop-shadow(0px 1px 2px rgba(0, 0, 0, 0.3));\n",
       "      fill: #FFFFFF;\n",
       "    }\n",
       "  </style>\n",
       "\n",
       "      <script>\n",
       "        const buttonEl =\n",
       "          document.querySelector('#df-c3a6099b-c56d-481a-8b44-a26fd511681a button.colab-df-convert');\n",
       "        buttonEl.style.display =\n",
       "          google.colab.kernel.accessAllowed ? 'block' : 'none';\n",
       "\n",
       "        async function convertToInteractive(key) {\n",
       "          const element = document.querySelector('#df-c3a6099b-c56d-481a-8b44-a26fd511681a');\n",
       "          const dataTable =\n",
       "            await google.colab.kernel.invokeFunction('convertToInteractive',\n",
       "                                                     [key], {});\n",
       "          if (!dataTable) return;\n",
       "\n",
       "          const docLinkHtml = 'Like what you see? Visit the ' +\n",
       "            '<a target=\"_blank\" href=https://colab.research.google.com/notebooks/data_table.ipynb>data table notebook</a>'\n",
       "            + ' to learn more about interactive tables.';\n",
       "          element.innerHTML = '';\n",
       "          dataTable['output_type'] = 'display_data';\n",
       "          await google.colab.output.renderOutput(dataTable, element);\n",
       "          const docLink = document.createElement('div');\n",
       "          docLink.innerHTML = docLinkHtml;\n",
       "          element.appendChild(docLink);\n",
       "        }\n",
       "      </script>\n",
       "    </div>\n",
       "  </div>\n",
       "  "
      ]
     },
     "metadata": {},
     "execution_count": 256
    }
   ]
  },
  {
   "cell_type": "code",
   "source": [
    "GA_SDOH_df['CDCP_DOCTOR_VISIT_ADULT_C_ZC_CATG'].value_counts()"
   ],
   "metadata": {
    "colab": {
     "base_uri": "https://localhost:8080/"
    },
    "id": "ak6gDWwbi1cb",
    "outputId": "b81dba6b-dfeb-48a6-fe9c-b57040be38c3",
    "pycharm": {
     "name": "#%%\n"
    }
   },
   "execution_count": null,
   "outputs": [
    {
     "output_type": "execute_result",
     "data": {
      "text/plain": [
       "0    705\n",
       "1    243\n",
       "Name: CDCP_DOCTOR_VISIT_ADULT_C_ZC_CATG, dtype: int64"
      ]
     },
     "metadata": {},
     "execution_count": 257
    }
   ]
  },
  {
   "cell_type": "code",
   "source": [
    "# "
   ],
   "metadata": {
    "id": "xV4eREbCjUb8",
    "pycharm": {
     "name": "#%%\n"
    }
   },
   "execution_count": null,
   "outputs": []
  },
  {
   "cell_type": "code",
   "source": [
    "GA_SDOH_df['SUMMATION'] = GA_SDOH_df['CDCP_ARTHRITIS_ADULT_C_ZC_CATG'] + GA_SDOH_df['CDCP_ASTHMA_ADULT_C_ZC_CATG'] + GA_SDOH_df['CDCP_BLOOD_MED_ADULT_C_ZC_CATG'] + GA_SDOH_df['CDCP_CHOLES_ADULT_C_ZC_CATG'] + GA_SDOH_df['CDCP_KIDNEY_DISEASE_ADULT_C_ZC_CATG'] + GA_SDOH_df['CDCP_PULMONARY_ADULT_C_ZC_CATG'] + GA_SDOH_df['CDCP_DOCTOR_VISIT_ADULT_C_ZC_CATG']"
   ],
   "metadata": {
    "id": "KdWropxMj0YW",
    "pycharm": {
     "name": "#%%\n"
    }
   },
   "execution_count": null,
   "outputs": []
  },
  {
   "cell_type": "code",
   "source": [
    "GA_SDOH_df['COMPOSITE_HEALTH_DETERIORATION'] = [1 if e >= 4 else 0 for e in GA_SDOH_df['SUMMATION']]"
   ],
   "metadata": {
    "id": "CYIArNY8kd_T",
    "pycharm": {
     "name": "#%%\n"
    }
   },
   "execution_count": null,
   "outputs": []
  },
  {
   "cell_type": "code",
   "source": [
    "GA_SDOH_df.drop(columns=['SUMMATION'], axis=1, inplace=True)"
   ],
   "metadata": {
    "id": "6JwyvTf1lDt4",
    "pycharm": {
     "name": "#%%\n"
    }
   },
   "execution_count": null,
   "outputs": []
  },
  {
   "cell_type": "code",
   "source": [
    "GA_SDOH_df['COMPOSITE_HEALTH_DETERIORATION'].value_counts(normalize=True)"
   ],
   "metadata": {
    "colab": {
     "base_uri": "https://localhost:8080/"
    },
    "id": "10pCipSllVSS",
    "outputId": "c0473c72-5eb4-4ebf-898b-2c59854d012d",
    "pycharm": {
     "name": "#%%\n"
    }
   },
   "execution_count": null,
   "outputs": [
    {
     "output_type": "execute_result",
     "data": {
      "text/plain": [
       "0    0.776371\n",
       "1    0.223629\n",
       "Name: COMPOSITE_HEALTH_DETERIORATION, dtype: float64"
      ]
     },
     "metadata": {},
     "execution_count": 262
    }
   ]
  },
  {
   "cell_type": "code",
   "source": [
    "GA_SDOH_df.head()"
   ],
   "metadata": {
    "colab": {
     "base_uri": "https://localhost:8080/",
     "height": 270
    },
    "id": "MwsXL-bwlmlB",
    "outputId": "4da5cec3-775c-4e9c-9da8-429dfee2d396",
    "pycharm": {
     "name": "#%%\n"
    }
   },
   "execution_count": null,
   "outputs": [
    {
     "output_type": "execute_result",
     "data": {
      "text/plain": [
       "   ZIPCODE  CDCP_ARTHRITIS_ADULT_C_ZC_CATG  CDCP_ASTHMA_ADULT_C_ZC_CATG  \\\n",
       "1    30002                               0                            0   \n",
       "2    30004                               0                            0   \n",
       "3    30023                               0                            0   \n",
       "4    30005                               0                            0   \n",
       "5    30008                               0                            0   \n",
       "\n",
       "   CDCP_BLOOD_MED_ADULT_C_ZC_CATG  CDCP_CHOLES_ADULT_C_ZC_CATG  \\\n",
       "1                               0                            0   \n",
       "2                               0                            0   \n",
       "3                               0                            0   \n",
       "4                               0                            0   \n",
       "5                               0                            0   \n",
       "\n",
       "   CDCP_KIDNEY_DISEASE_ADULT_C_ZC_CATG  CDCP_PULMONARY_ADULT_C_ZC_CATG  \\\n",
       "1                                    0                               0   \n",
       "2                                    0                               0   \n",
       "3                                    0                               0   \n",
       "4                                    0                               0   \n",
       "5                                    0                               0   \n",
       "\n",
       "   CDCP_DOCTOR_VISIT_ADULT_C_ZC_CATG  COMPOSITE_HEALTH_DETERIORATION  \n",
       "1                                  0                               0  \n",
       "2                                  0                               0  \n",
       "3                                  0                               0  \n",
       "4                                  0                               0  \n",
       "5                                  0                               0  "
      ],
      "text/html": [
       "\n",
       "  <div id=\"df-616a05b7-ffa0-49fa-af45-ebdd5e72e955\">\n",
       "    <div class=\"colab-df-container\">\n",
       "      <div>\n",
       "<style scoped>\n",
       "    .dataframe tbody tr th:only-of-type {\n",
       "        vertical-align: middle;\n",
       "    }\n",
       "\n",
       "    .dataframe tbody tr th {\n",
       "        vertical-align: top;\n",
       "    }\n",
       "\n",
       "    .dataframe thead th {\n",
       "        text-align: right;\n",
       "    }\n",
       "</style>\n",
       "<table border=\"1\" class=\"dataframe\">\n",
       "  <thead>\n",
       "    <tr style=\"text-align: right;\">\n",
       "      <th></th>\n",
       "      <th>ZIPCODE</th>\n",
       "      <th>CDCP_ARTHRITIS_ADULT_C_ZC_CATG</th>\n",
       "      <th>CDCP_ASTHMA_ADULT_C_ZC_CATG</th>\n",
       "      <th>CDCP_BLOOD_MED_ADULT_C_ZC_CATG</th>\n",
       "      <th>CDCP_CHOLES_ADULT_C_ZC_CATG</th>\n",
       "      <th>CDCP_KIDNEY_DISEASE_ADULT_C_ZC_CATG</th>\n",
       "      <th>CDCP_PULMONARY_ADULT_C_ZC_CATG</th>\n",
       "      <th>CDCP_DOCTOR_VISIT_ADULT_C_ZC_CATG</th>\n",
       "      <th>COMPOSITE_HEALTH_DETERIORATION</th>\n",
       "    </tr>\n",
       "  </thead>\n",
       "  <tbody>\n",
       "    <tr>\n",
       "      <th>1</th>\n",
       "      <td>30002</td>\n",
       "      <td>0</td>\n",
       "      <td>0</td>\n",
       "      <td>0</td>\n",
       "      <td>0</td>\n",
       "      <td>0</td>\n",
       "      <td>0</td>\n",
       "      <td>0</td>\n",
       "      <td>0</td>\n",
       "    </tr>\n",
       "    <tr>\n",
       "      <th>2</th>\n",
       "      <td>30004</td>\n",
       "      <td>0</td>\n",
       "      <td>0</td>\n",
       "      <td>0</td>\n",
       "      <td>0</td>\n",
       "      <td>0</td>\n",
       "      <td>0</td>\n",
       "      <td>0</td>\n",
       "      <td>0</td>\n",
       "    </tr>\n",
       "    <tr>\n",
       "      <th>3</th>\n",
       "      <td>30023</td>\n",
       "      <td>0</td>\n",
       "      <td>0</td>\n",
       "      <td>0</td>\n",
       "      <td>0</td>\n",
       "      <td>0</td>\n",
       "      <td>0</td>\n",
       "      <td>0</td>\n",
       "      <td>0</td>\n",
       "    </tr>\n",
       "    <tr>\n",
       "      <th>4</th>\n",
       "      <td>30005</td>\n",
       "      <td>0</td>\n",
       "      <td>0</td>\n",
       "      <td>0</td>\n",
       "      <td>0</td>\n",
       "      <td>0</td>\n",
       "      <td>0</td>\n",
       "      <td>0</td>\n",
       "      <td>0</td>\n",
       "    </tr>\n",
       "    <tr>\n",
       "      <th>5</th>\n",
       "      <td>30008</td>\n",
       "      <td>0</td>\n",
       "      <td>0</td>\n",
       "      <td>0</td>\n",
       "      <td>0</td>\n",
       "      <td>0</td>\n",
       "      <td>0</td>\n",
       "      <td>0</td>\n",
       "      <td>0</td>\n",
       "    </tr>\n",
       "  </tbody>\n",
       "</table>\n",
       "</div>\n",
       "      <button class=\"colab-df-convert\" onclick=\"convertToInteractive('df-616a05b7-ffa0-49fa-af45-ebdd5e72e955')\"\n",
       "              title=\"Convert this dataframe to an interactive table.\"\n",
       "              style=\"display:none;\">\n",
       "        \n",
       "  <svg xmlns=\"http://www.w3.org/2000/svg\" height=\"24px\"viewBox=\"0 0 24 24\"\n",
       "       width=\"24px\">\n",
       "    <path d=\"M0 0h24v24H0V0z\" fill=\"none\"/>\n",
       "    <path d=\"M18.56 5.44l.94 2.06.94-2.06 2.06-.94-2.06-.94-.94-2.06-.94 2.06-2.06.94zm-11 1L8.5 8.5l.94-2.06 2.06-.94-2.06-.94L8.5 2.5l-.94 2.06-2.06.94zm10 10l.94 2.06.94-2.06 2.06-.94-2.06-.94-.94-2.06-.94 2.06-2.06.94z\"/><path d=\"M17.41 7.96l-1.37-1.37c-.4-.4-.92-.59-1.43-.59-.52 0-1.04.2-1.43.59L10.3 9.45l-7.72 7.72c-.78.78-.78 2.05 0 2.83L4 21.41c.39.39.9.59 1.41.59.51 0 1.02-.2 1.41-.59l7.78-7.78 2.81-2.81c.8-.78.8-2.07 0-2.86zM5.41 20L4 18.59l7.72-7.72 1.47 1.35L5.41 20z\"/>\n",
       "  </svg>\n",
       "      </button>\n",
       "      \n",
       "  <style>\n",
       "    .colab-df-container {\n",
       "      display:flex;\n",
       "      flex-wrap:wrap;\n",
       "      gap: 12px;\n",
       "    }\n",
       "\n",
       "    .colab-df-convert {\n",
       "      background-color: #E8F0FE;\n",
       "      border: none;\n",
       "      border-radius: 50%;\n",
       "      cursor: pointer;\n",
       "      display: none;\n",
       "      fill: #1967D2;\n",
       "      height: 32px;\n",
       "      padding: 0 0 0 0;\n",
       "      width: 32px;\n",
       "    }\n",
       "\n",
       "    .colab-df-convert:hover {\n",
       "      background-color: #E2EBFA;\n",
       "      box-shadow: 0px 1px 2px rgba(60, 64, 67, 0.3), 0px 1px 3px 1px rgba(60, 64, 67, 0.15);\n",
       "      fill: #174EA6;\n",
       "    }\n",
       "\n",
       "    [theme=dark] .colab-df-convert {\n",
       "      background-color: #3B4455;\n",
       "      fill: #D2E3FC;\n",
       "    }\n",
       "\n",
       "    [theme=dark] .colab-df-convert:hover {\n",
       "      background-color: #434B5C;\n",
       "      box-shadow: 0px 1px 3px 1px rgba(0, 0, 0, 0.15);\n",
       "      filter: drop-shadow(0px 1px 2px rgba(0, 0, 0, 0.3));\n",
       "      fill: #FFFFFF;\n",
       "    }\n",
       "  </style>\n",
       "\n",
       "      <script>\n",
       "        const buttonEl =\n",
       "          document.querySelector('#df-616a05b7-ffa0-49fa-af45-ebdd5e72e955 button.colab-df-convert');\n",
       "        buttonEl.style.display =\n",
       "          google.colab.kernel.accessAllowed ? 'block' : 'none';\n",
       "\n",
       "        async function convertToInteractive(key) {\n",
       "          const element = document.querySelector('#df-616a05b7-ffa0-49fa-af45-ebdd5e72e955');\n",
       "          const dataTable =\n",
       "            await google.colab.kernel.invokeFunction('convertToInteractive',\n",
       "                                                     [key], {});\n",
       "          if (!dataTable) return;\n",
       "\n",
       "          const docLinkHtml = 'Like what you see? Visit the ' +\n",
       "            '<a target=\"_blank\" href=https://colab.research.google.com/notebooks/data_table.ipynb>data table notebook</a>'\n",
       "            + ' to learn more about interactive tables.';\n",
       "          element.innerHTML = '';\n",
       "          dataTable['output_type'] = 'display_data';\n",
       "          await google.colab.output.renderOutput(dataTable, element);\n",
       "          const docLink = document.createElement('div');\n",
       "          docLink.innerHTML = docLinkHtml;\n",
       "          element.appendChild(docLink);\n",
       "        }\n",
       "      </script>\n",
       "    </div>\n",
       "  </div>\n",
       "  "
      ]
     },
     "metadata": {},
     "execution_count": 263
    }
   ]
  },
  {
   "cell_type": "code",
   "source": [
    "Req_GA_SDOH = GA_SDOH_df[['ZIPCODE', 'COMPOSITE_HEALTH_DETERIORATION']]"
   ],
   "metadata": {
    "id": "bSla5Pcum-mY",
    "pycharm": {
     "name": "#%%\n"
    }
   },
   "execution_count": null,
   "outputs": []
  },
  {
   "cell_type": "code",
   "source": [
    "Req_GA_SDOH.head()"
   ],
   "metadata": {
    "colab": {
     "base_uri": "https://localhost:8080/",
     "height": 206
    },
    "id": "VFX8Tj_0nJjT",
    "outputId": "637a4753-f150-45d3-ea26-450f68211421",
    "pycharm": {
     "name": "#%%\n"
    }
   },
   "execution_count": null,
   "outputs": [
    {
     "output_type": "execute_result",
     "data": {
      "text/plain": [
       "   ZIPCODE  COMPOSITE_HEALTH_DETERIORATION\n",
       "1    30002                               0\n",
       "2    30004                               0\n",
       "3    30023                               0\n",
       "4    30005                               0\n",
       "5    30008                               0"
      ],
      "text/html": [
       "\n",
       "  <div id=\"df-0798a2e7-8fd6-4c3d-a44b-af41ef3db486\">\n",
       "    <div class=\"colab-df-container\">\n",
       "      <div>\n",
       "<style scoped>\n",
       "    .dataframe tbody tr th:only-of-type {\n",
       "        vertical-align: middle;\n",
       "    }\n",
       "\n",
       "    .dataframe tbody tr th {\n",
       "        vertical-align: top;\n",
       "    }\n",
       "\n",
       "    .dataframe thead th {\n",
       "        text-align: right;\n",
       "    }\n",
       "</style>\n",
       "<table border=\"1\" class=\"dataframe\">\n",
       "  <thead>\n",
       "    <tr style=\"text-align: right;\">\n",
       "      <th></th>\n",
       "      <th>ZIPCODE</th>\n",
       "      <th>COMPOSITE_HEALTH_DETERIORATION</th>\n",
       "    </tr>\n",
       "  </thead>\n",
       "  <tbody>\n",
       "    <tr>\n",
       "      <th>1</th>\n",
       "      <td>30002</td>\n",
       "      <td>0</td>\n",
       "    </tr>\n",
       "    <tr>\n",
       "      <th>2</th>\n",
       "      <td>30004</td>\n",
       "      <td>0</td>\n",
       "    </tr>\n",
       "    <tr>\n",
       "      <th>3</th>\n",
       "      <td>30023</td>\n",
       "      <td>0</td>\n",
       "    </tr>\n",
       "    <tr>\n",
       "      <th>4</th>\n",
       "      <td>30005</td>\n",
       "      <td>0</td>\n",
       "    </tr>\n",
       "    <tr>\n",
       "      <th>5</th>\n",
       "      <td>30008</td>\n",
       "      <td>0</td>\n",
       "    </tr>\n",
       "  </tbody>\n",
       "</table>\n",
       "</div>\n",
       "      <button class=\"colab-df-convert\" onclick=\"convertToInteractive('df-0798a2e7-8fd6-4c3d-a44b-af41ef3db486')\"\n",
       "              title=\"Convert this dataframe to an interactive table.\"\n",
       "              style=\"display:none;\">\n",
       "        \n",
       "  <svg xmlns=\"http://www.w3.org/2000/svg\" height=\"24px\"viewBox=\"0 0 24 24\"\n",
       "       width=\"24px\">\n",
       "    <path d=\"M0 0h24v24H0V0z\" fill=\"none\"/>\n",
       "    <path d=\"M18.56 5.44l.94 2.06.94-2.06 2.06-.94-2.06-.94-.94-2.06-.94 2.06-2.06.94zm-11 1L8.5 8.5l.94-2.06 2.06-.94-2.06-.94L8.5 2.5l-.94 2.06-2.06.94zm10 10l.94 2.06.94-2.06 2.06-.94-2.06-.94-.94-2.06-.94 2.06-2.06.94z\"/><path d=\"M17.41 7.96l-1.37-1.37c-.4-.4-.92-.59-1.43-.59-.52 0-1.04.2-1.43.59L10.3 9.45l-7.72 7.72c-.78.78-.78 2.05 0 2.83L4 21.41c.39.39.9.59 1.41.59.51 0 1.02-.2 1.41-.59l7.78-7.78 2.81-2.81c.8-.78.8-2.07 0-2.86zM5.41 20L4 18.59l7.72-7.72 1.47 1.35L5.41 20z\"/>\n",
       "  </svg>\n",
       "      </button>\n",
       "      \n",
       "  <style>\n",
       "    .colab-df-container {\n",
       "      display:flex;\n",
       "      flex-wrap:wrap;\n",
       "      gap: 12px;\n",
       "    }\n",
       "\n",
       "    .colab-df-convert {\n",
       "      background-color: #E8F0FE;\n",
       "      border: none;\n",
       "      border-radius: 50%;\n",
       "      cursor: pointer;\n",
       "      display: none;\n",
       "      fill: #1967D2;\n",
       "      height: 32px;\n",
       "      padding: 0 0 0 0;\n",
       "      width: 32px;\n",
       "    }\n",
       "\n",
       "    .colab-df-convert:hover {\n",
       "      background-color: #E2EBFA;\n",
       "      box-shadow: 0px 1px 2px rgba(60, 64, 67, 0.3), 0px 1px 3px 1px rgba(60, 64, 67, 0.15);\n",
       "      fill: #174EA6;\n",
       "    }\n",
       "\n",
       "    [theme=dark] .colab-df-convert {\n",
       "      background-color: #3B4455;\n",
       "      fill: #D2E3FC;\n",
       "    }\n",
       "\n",
       "    [theme=dark] .colab-df-convert:hover {\n",
       "      background-color: #434B5C;\n",
       "      box-shadow: 0px 1px 3px 1px rgba(0, 0, 0, 0.15);\n",
       "      filter: drop-shadow(0px 1px 2px rgba(0, 0, 0, 0.3));\n",
       "      fill: #FFFFFF;\n",
       "    }\n",
       "  </style>\n",
       "\n",
       "      <script>\n",
       "        const buttonEl =\n",
       "          document.querySelector('#df-0798a2e7-8fd6-4c3d-a44b-af41ef3db486 button.colab-df-convert');\n",
       "        buttonEl.style.display =\n",
       "          google.colab.kernel.accessAllowed ? 'block' : 'none';\n",
       "\n",
       "        async function convertToInteractive(key) {\n",
       "          const element = document.querySelector('#df-0798a2e7-8fd6-4c3d-a44b-af41ef3db486');\n",
       "          const dataTable =\n",
       "            await google.colab.kernel.invokeFunction('convertToInteractive',\n",
       "                                                     [key], {});\n",
       "          if (!dataTable) return;\n",
       "\n",
       "          const docLinkHtml = 'Like what you see? Visit the ' +\n",
       "            '<a target=\"_blank\" href=https://colab.research.google.com/notebooks/data_table.ipynb>data table notebook</a>'\n",
       "            + ' to learn more about interactive tables.';\n",
       "          element.innerHTML = '';\n",
       "          dataTable['output_type'] = 'display_data';\n",
       "          await google.colab.output.renderOutput(dataTable, element);\n",
       "          const docLink = document.createElement('div');\n",
       "          docLink.innerHTML = docLinkHtml;\n",
       "          element.appendChild(docLink);\n",
       "        }\n",
       "      </script>\n",
       "    </div>\n",
       "  </div>\n",
       "  "
      ]
     },
     "metadata": {},
     "execution_count": 265
    }
   ]
  },
  {
   "cell_type": "code",
   "source": [
    "GA_TRI_df.head()"
   ],
   "metadata": {
    "colab": {
     "base_uri": "https://localhost:8080/",
     "height": 285
    },
    "id": "VVE12BWNnT44",
    "outputId": "a3dcd6aa-5755-46ca-d998-424507cb297d",
    "pycharm": {
     "name": "#%%\n"
    }
   },
   "execution_count": null,
   "outputs": [
    {
     "output_type": "execute_result",
     "data": {
      "text/plain": [
       "   ZIPCODE  48. 5.1 - FUGITIVE AIR  49. 5.2 - STACK AIR 40. CLASSIFICATION  \\\n",
       "0    31408                       0                    0                TRI   \n",
       "1    31323                       0                    1                TRI   \n",
       "2    30260                       0                    0                PBT   \n",
       "3    30720                       1                    1                TRI   \n",
       "4    30340                       0                    0                TRI   \n",
       "\n",
       "   41. METAL  42. METAL CATEGORY  43. CARCINOGEN  44. PBT  46. FORM TYPE  \\\n",
       "0          1                   1               0        0              0   \n",
       "1          0                   0               1        0              0   \n",
       "2          1                   1               1        1              0   \n",
       "3          0                   0               0        0              0   \n",
       "4          0                   0               0        0              0   \n",
       "\n",
       "   35. ELEMENTAL METAL INCLUDED  39. CLEAN AIR ACT CHEMICAL INDUSTRY SECTOR  \n",
       "0                             0                           0       Chemicals  \n",
       "1                             0                           1       Chemicals  \n",
       "2                             0                           0       Chemicals  \n",
       "3                             0                           0          Others  \n",
       "4                             0                           1       Chemicals  "
      ],
      "text/html": [
       "\n",
       "  <div id=\"df-1a4cff62-6916-4c45-835b-32bd794906d6\">\n",
       "    <div class=\"colab-df-container\">\n",
       "      <div>\n",
       "<style scoped>\n",
       "    .dataframe tbody tr th:only-of-type {\n",
       "        vertical-align: middle;\n",
       "    }\n",
       "\n",
       "    .dataframe tbody tr th {\n",
       "        vertical-align: top;\n",
       "    }\n",
       "\n",
       "    .dataframe thead th {\n",
       "        text-align: right;\n",
       "    }\n",
       "</style>\n",
       "<table border=\"1\" class=\"dataframe\">\n",
       "  <thead>\n",
       "    <tr style=\"text-align: right;\">\n",
       "      <th></th>\n",
       "      <th>ZIPCODE</th>\n",
       "      <th>48. 5.1 - FUGITIVE AIR</th>\n",
       "      <th>49. 5.2 - STACK AIR</th>\n",
       "      <th>40. CLASSIFICATION</th>\n",
       "      <th>41. METAL</th>\n",
       "      <th>42. METAL CATEGORY</th>\n",
       "      <th>43. CARCINOGEN</th>\n",
       "      <th>44. PBT</th>\n",
       "      <th>46. FORM TYPE</th>\n",
       "      <th>35. ELEMENTAL METAL INCLUDED</th>\n",
       "      <th>39. CLEAN AIR ACT CHEMICAL</th>\n",
       "      <th>INDUSTRY SECTOR</th>\n",
       "    </tr>\n",
       "  </thead>\n",
       "  <tbody>\n",
       "    <tr>\n",
       "      <th>0</th>\n",
       "      <td>31408</td>\n",
       "      <td>0</td>\n",
       "      <td>0</td>\n",
       "      <td>TRI</td>\n",
       "      <td>1</td>\n",
       "      <td>1</td>\n",
       "      <td>0</td>\n",
       "      <td>0</td>\n",
       "      <td>0</td>\n",
       "      <td>0</td>\n",
       "      <td>0</td>\n",
       "      <td>Chemicals</td>\n",
       "    </tr>\n",
       "    <tr>\n",
       "      <th>1</th>\n",
       "      <td>31323</td>\n",
       "      <td>0</td>\n",
       "      <td>1</td>\n",
       "      <td>TRI</td>\n",
       "      <td>0</td>\n",
       "      <td>0</td>\n",
       "      <td>1</td>\n",
       "      <td>0</td>\n",
       "      <td>0</td>\n",
       "      <td>0</td>\n",
       "      <td>1</td>\n",
       "      <td>Chemicals</td>\n",
       "    </tr>\n",
       "    <tr>\n",
       "      <th>2</th>\n",
       "      <td>30260</td>\n",
       "      <td>0</td>\n",
       "      <td>0</td>\n",
       "      <td>PBT</td>\n",
       "      <td>1</td>\n",
       "      <td>1</td>\n",
       "      <td>1</td>\n",
       "      <td>1</td>\n",
       "      <td>0</td>\n",
       "      <td>0</td>\n",
       "      <td>0</td>\n",
       "      <td>Chemicals</td>\n",
       "    </tr>\n",
       "    <tr>\n",
       "      <th>3</th>\n",
       "      <td>30720</td>\n",
       "      <td>1</td>\n",
       "      <td>1</td>\n",
       "      <td>TRI</td>\n",
       "      <td>0</td>\n",
       "      <td>0</td>\n",
       "      <td>0</td>\n",
       "      <td>0</td>\n",
       "      <td>0</td>\n",
       "      <td>0</td>\n",
       "      <td>0</td>\n",
       "      <td>Others</td>\n",
       "    </tr>\n",
       "    <tr>\n",
       "      <th>4</th>\n",
       "      <td>30340</td>\n",
       "      <td>0</td>\n",
       "      <td>0</td>\n",
       "      <td>TRI</td>\n",
       "      <td>0</td>\n",
       "      <td>0</td>\n",
       "      <td>0</td>\n",
       "      <td>0</td>\n",
       "      <td>0</td>\n",
       "      <td>0</td>\n",
       "      <td>1</td>\n",
       "      <td>Chemicals</td>\n",
       "    </tr>\n",
       "  </tbody>\n",
       "</table>\n",
       "</div>\n",
       "      <button class=\"colab-df-convert\" onclick=\"convertToInteractive('df-1a4cff62-6916-4c45-835b-32bd794906d6')\"\n",
       "              title=\"Convert this dataframe to an interactive table.\"\n",
       "              style=\"display:none;\">\n",
       "        \n",
       "  <svg xmlns=\"http://www.w3.org/2000/svg\" height=\"24px\"viewBox=\"0 0 24 24\"\n",
       "       width=\"24px\">\n",
       "    <path d=\"M0 0h24v24H0V0z\" fill=\"none\"/>\n",
       "    <path d=\"M18.56 5.44l.94 2.06.94-2.06 2.06-.94-2.06-.94-.94-2.06-.94 2.06-2.06.94zm-11 1L8.5 8.5l.94-2.06 2.06-.94-2.06-.94L8.5 2.5l-.94 2.06-2.06.94zm10 10l.94 2.06.94-2.06 2.06-.94-2.06-.94-.94-2.06-.94 2.06-2.06.94z\"/><path d=\"M17.41 7.96l-1.37-1.37c-.4-.4-.92-.59-1.43-.59-.52 0-1.04.2-1.43.59L10.3 9.45l-7.72 7.72c-.78.78-.78 2.05 0 2.83L4 21.41c.39.39.9.59 1.41.59.51 0 1.02-.2 1.41-.59l7.78-7.78 2.81-2.81c.8-.78.8-2.07 0-2.86zM5.41 20L4 18.59l7.72-7.72 1.47 1.35L5.41 20z\"/>\n",
       "  </svg>\n",
       "      </button>\n",
       "      \n",
       "  <style>\n",
       "    .colab-df-container {\n",
       "      display:flex;\n",
       "      flex-wrap:wrap;\n",
       "      gap: 12px;\n",
       "    }\n",
       "\n",
       "    .colab-df-convert {\n",
       "      background-color: #E8F0FE;\n",
       "      border: none;\n",
       "      border-radius: 50%;\n",
       "      cursor: pointer;\n",
       "      display: none;\n",
       "      fill: #1967D2;\n",
       "      height: 32px;\n",
       "      padding: 0 0 0 0;\n",
       "      width: 32px;\n",
       "    }\n",
       "\n",
       "    .colab-df-convert:hover {\n",
       "      background-color: #E2EBFA;\n",
       "      box-shadow: 0px 1px 2px rgba(60, 64, 67, 0.3), 0px 1px 3px 1px rgba(60, 64, 67, 0.15);\n",
       "      fill: #174EA6;\n",
       "    }\n",
       "\n",
       "    [theme=dark] .colab-df-convert {\n",
       "      background-color: #3B4455;\n",
       "      fill: #D2E3FC;\n",
       "    }\n",
       "\n",
       "    [theme=dark] .colab-df-convert:hover {\n",
       "      background-color: #434B5C;\n",
       "      box-shadow: 0px 1px 3px 1px rgba(0, 0, 0, 0.15);\n",
       "      filter: drop-shadow(0px 1px 2px rgba(0, 0, 0, 0.3));\n",
       "      fill: #FFFFFF;\n",
       "    }\n",
       "  </style>\n",
       "\n",
       "      <script>\n",
       "        const buttonEl =\n",
       "          document.querySelector('#df-1a4cff62-6916-4c45-835b-32bd794906d6 button.colab-df-convert');\n",
       "        buttonEl.style.display =\n",
       "          google.colab.kernel.accessAllowed ? 'block' : 'none';\n",
       "\n",
       "        async function convertToInteractive(key) {\n",
       "          const element = document.querySelector('#df-1a4cff62-6916-4c45-835b-32bd794906d6');\n",
       "          const dataTable =\n",
       "            await google.colab.kernel.invokeFunction('convertToInteractive',\n",
       "                                                     [key], {});\n",
       "          if (!dataTable) return;\n",
       "\n",
       "          const docLinkHtml = 'Like what you see? Visit the ' +\n",
       "            '<a target=\"_blank\" href=https://colab.research.google.com/notebooks/data_table.ipynb>data table notebook</a>'\n",
       "            + ' to learn more about interactive tables.';\n",
       "          element.innerHTML = '';\n",
       "          dataTable['output_type'] = 'display_data';\n",
       "          await google.colab.output.renderOutput(dataTable, element);\n",
       "          const docLink = document.createElement('div');\n",
       "          docLink.innerHTML = docLinkHtml;\n",
       "          element.appendChild(docLink);\n",
       "        }\n",
       "      </script>\n",
       "    </div>\n",
       "  </div>\n",
       "  "
      ]
     },
     "metadata": {},
     "execution_count": 266
    }
   ]
  },
  {
   "cell_type": "code",
   "source": [
    "Data = pd.merge(left=GA_TRI_df, right=Req_GA_SDOH, on='ZIPCODE', how='left')"
   ],
   "metadata": {
    "id": "F_NXBBJIndfH",
    "pycharm": {
     "name": "#%%\n"
    }
   },
   "execution_count": null,
   "outputs": []
  },
  {
   "cell_type": "code",
   "source": [
    "Data.isnull().sum()"
   ],
   "metadata": {
    "colab": {
     "base_uri": "https://localhost:8080/"
    },
    "id": "ykSAoFD9nu5E",
    "outputId": "7ac86a05-ddd4-4a82-cc5b-840a410258e9",
    "pycharm": {
     "name": "#%%\n"
    }
   },
   "execution_count": null,
   "outputs": [
    {
     "output_type": "execute_result",
     "data": {
      "text/plain": [
       "ZIPCODE                           0\n",
       "48. 5.1 - FUGITIVE AIR            0\n",
       "49. 5.2 - STACK AIR               0\n",
       "40. CLASSIFICATION                0\n",
       "41. METAL                         0\n",
       "42. METAL CATEGORY                0\n",
       "43. CARCINOGEN                    0\n",
       "44. PBT                           0\n",
       "46. FORM TYPE                     0\n",
       "35. ELEMENTAL METAL INCLUDED      0\n",
       "39. CLEAN AIR ACT CHEMICAL        0\n",
       "INDUSTRY SECTOR                   0\n",
       "COMPOSITE_HEALTH_DETERIORATION    3\n",
       "dtype: int64"
      ]
     },
     "metadata": {},
     "execution_count": 268
    }
   ]
  },
  {
   "cell_type": "code",
   "source": [
    "final_df = Data.dropna().reset_index(drop=True)"
   ],
   "metadata": {
    "id": "-BELfCjiyMOT",
    "pycharm": {
     "name": "#%%\n"
    }
   },
   "execution_count": null,
   "outputs": []
  },
  {
   "cell_type": "code",
   "source": [
    "final_df.shape"
   ],
   "metadata": {
    "colab": {
     "base_uri": "https://localhost:8080/"
    },
    "id": "GH46d3inoPuj",
    "outputId": "38424f63-e248-4b55-ea69-bb770a2fa521",
    "pycharm": {
     "name": "#%%\n"
    }
   },
   "execution_count": null,
   "outputs": [
    {
     "output_type": "execute_result",
     "data": {
      "text/plain": [
       "(2286, 13)"
      ]
     },
     "metadata": {},
     "execution_count": 270
    }
   ]
  },
  {
   "cell_type": "code",
   "source": [
    "final_df.isnull().sum().sum()"
   ],
   "metadata": {
    "colab": {
     "base_uri": "https://localhost:8080/"
    },
    "id": "eH6iwdbzyZyp",
    "outputId": "086d5785-f863-41a8-c418-12252ffbac72",
    "pycharm": {
     "name": "#%%\n"
    }
   },
   "execution_count": null,
   "outputs": [
    {
     "output_type": "execute_result",
     "data": {
      "text/plain": [
       "0"
      ]
     },
     "metadata": {},
     "execution_count": 271
    }
   ]
  },
  {
   "cell_type": "code",
   "source": [
    "final_df.head(3)"
   ],
   "metadata": {
    "colab": {
     "base_uri": "https://localhost:8080/",
     "height": 259
    },
    "id": "04UNXcpOoiEd",
    "outputId": "6e5e057b-0be1-426e-dd6b-5a9b31bca8ab",
    "pycharm": {
     "name": "#%%\n"
    }
   },
   "execution_count": null,
   "outputs": [
    {
     "output_type": "execute_result",
     "data": {
      "text/plain": [
       "   ZIPCODE  48. 5.1 - FUGITIVE AIR  49. 5.2 - STACK AIR 40. CLASSIFICATION  \\\n",
       "0    31408                       0                    0                TRI   \n",
       "1    31323                       0                    1                TRI   \n",
       "2    30260                       0                    0                PBT   \n",
       "\n",
       "   41. METAL  42. METAL CATEGORY  43. CARCINOGEN  44. PBT  46. FORM TYPE  \\\n",
       "0          1                   1               0        0              0   \n",
       "1          0                   0               1        0              0   \n",
       "2          1                   1               1        1              0   \n",
       "\n",
       "   35. ELEMENTAL METAL INCLUDED  39. CLEAN AIR ACT CHEMICAL INDUSTRY SECTOR  \\\n",
       "0                             0                           0       Chemicals   \n",
       "1                             0                           1       Chemicals   \n",
       "2                             0                           0       Chemicals   \n",
       "\n",
       "   COMPOSITE_HEALTH_DETERIORATION  \n",
       "0                             0.0  \n",
       "1                             1.0  \n",
       "2                             0.0  "
      ],
      "text/html": [
       "\n",
       "  <div id=\"df-c4d91179-4198-4a48-a9ea-a661f9bee4c9\">\n",
       "    <div class=\"colab-df-container\">\n",
       "      <div>\n",
       "<style scoped>\n",
       "    .dataframe tbody tr th:only-of-type {\n",
       "        vertical-align: middle;\n",
       "    }\n",
       "\n",
       "    .dataframe tbody tr th {\n",
       "        vertical-align: top;\n",
       "    }\n",
       "\n",
       "    .dataframe thead th {\n",
       "        text-align: right;\n",
       "    }\n",
       "</style>\n",
       "<table border=\"1\" class=\"dataframe\">\n",
       "  <thead>\n",
       "    <tr style=\"text-align: right;\">\n",
       "      <th></th>\n",
       "      <th>ZIPCODE</th>\n",
       "      <th>48. 5.1 - FUGITIVE AIR</th>\n",
       "      <th>49. 5.2 - STACK AIR</th>\n",
       "      <th>40. CLASSIFICATION</th>\n",
       "      <th>41. METAL</th>\n",
       "      <th>42. METAL CATEGORY</th>\n",
       "      <th>43. CARCINOGEN</th>\n",
       "      <th>44. PBT</th>\n",
       "      <th>46. FORM TYPE</th>\n",
       "      <th>35. ELEMENTAL METAL INCLUDED</th>\n",
       "      <th>39. CLEAN AIR ACT CHEMICAL</th>\n",
       "      <th>INDUSTRY SECTOR</th>\n",
       "      <th>COMPOSITE_HEALTH_DETERIORATION</th>\n",
       "    </tr>\n",
       "  </thead>\n",
       "  <tbody>\n",
       "    <tr>\n",
       "      <th>0</th>\n",
       "      <td>31408</td>\n",
       "      <td>0</td>\n",
       "      <td>0</td>\n",
       "      <td>TRI</td>\n",
       "      <td>1</td>\n",
       "      <td>1</td>\n",
       "      <td>0</td>\n",
       "      <td>0</td>\n",
       "      <td>0</td>\n",
       "      <td>0</td>\n",
       "      <td>0</td>\n",
       "      <td>Chemicals</td>\n",
       "      <td>0.0</td>\n",
       "    </tr>\n",
       "    <tr>\n",
       "      <th>1</th>\n",
       "      <td>31323</td>\n",
       "      <td>0</td>\n",
       "      <td>1</td>\n",
       "      <td>TRI</td>\n",
       "      <td>0</td>\n",
       "      <td>0</td>\n",
       "      <td>1</td>\n",
       "      <td>0</td>\n",
       "      <td>0</td>\n",
       "      <td>0</td>\n",
       "      <td>1</td>\n",
       "      <td>Chemicals</td>\n",
       "      <td>1.0</td>\n",
       "    </tr>\n",
       "    <tr>\n",
       "      <th>2</th>\n",
       "      <td>30260</td>\n",
       "      <td>0</td>\n",
       "      <td>0</td>\n",
       "      <td>PBT</td>\n",
       "      <td>1</td>\n",
       "      <td>1</td>\n",
       "      <td>1</td>\n",
       "      <td>1</td>\n",
       "      <td>0</td>\n",
       "      <td>0</td>\n",
       "      <td>0</td>\n",
       "      <td>Chemicals</td>\n",
       "      <td>0.0</td>\n",
       "    </tr>\n",
       "  </tbody>\n",
       "</table>\n",
       "</div>\n",
       "      <button class=\"colab-df-convert\" onclick=\"convertToInteractive('df-c4d91179-4198-4a48-a9ea-a661f9bee4c9')\"\n",
       "              title=\"Convert this dataframe to an interactive table.\"\n",
       "              style=\"display:none;\">\n",
       "        \n",
       "  <svg xmlns=\"http://www.w3.org/2000/svg\" height=\"24px\"viewBox=\"0 0 24 24\"\n",
       "       width=\"24px\">\n",
       "    <path d=\"M0 0h24v24H0V0z\" fill=\"none\"/>\n",
       "    <path d=\"M18.56 5.44l.94 2.06.94-2.06 2.06-.94-2.06-.94-.94-2.06-.94 2.06-2.06.94zm-11 1L8.5 8.5l.94-2.06 2.06-.94-2.06-.94L8.5 2.5l-.94 2.06-2.06.94zm10 10l.94 2.06.94-2.06 2.06-.94-2.06-.94-.94-2.06-.94 2.06-2.06.94z\"/><path d=\"M17.41 7.96l-1.37-1.37c-.4-.4-.92-.59-1.43-.59-.52 0-1.04.2-1.43.59L10.3 9.45l-7.72 7.72c-.78.78-.78 2.05 0 2.83L4 21.41c.39.39.9.59 1.41.59.51 0 1.02-.2 1.41-.59l7.78-7.78 2.81-2.81c.8-.78.8-2.07 0-2.86zM5.41 20L4 18.59l7.72-7.72 1.47 1.35L5.41 20z\"/>\n",
       "  </svg>\n",
       "      </button>\n",
       "      \n",
       "  <style>\n",
       "    .colab-df-container {\n",
       "      display:flex;\n",
       "      flex-wrap:wrap;\n",
       "      gap: 12px;\n",
       "    }\n",
       "\n",
       "    .colab-df-convert {\n",
       "      background-color: #E8F0FE;\n",
       "      border: none;\n",
       "      border-radius: 50%;\n",
       "      cursor: pointer;\n",
       "      display: none;\n",
       "      fill: #1967D2;\n",
       "      height: 32px;\n",
       "      padding: 0 0 0 0;\n",
       "      width: 32px;\n",
       "    }\n",
       "\n",
       "    .colab-df-convert:hover {\n",
       "      background-color: #E2EBFA;\n",
       "      box-shadow: 0px 1px 2px rgba(60, 64, 67, 0.3), 0px 1px 3px 1px rgba(60, 64, 67, 0.15);\n",
       "      fill: #174EA6;\n",
       "    }\n",
       "\n",
       "    [theme=dark] .colab-df-convert {\n",
       "      background-color: #3B4455;\n",
       "      fill: #D2E3FC;\n",
       "    }\n",
       "\n",
       "    [theme=dark] .colab-df-convert:hover {\n",
       "      background-color: #434B5C;\n",
       "      box-shadow: 0px 1px 3px 1px rgba(0, 0, 0, 0.15);\n",
       "      filter: drop-shadow(0px 1px 2px rgba(0, 0, 0, 0.3));\n",
       "      fill: #FFFFFF;\n",
       "    }\n",
       "  </style>\n",
       "\n",
       "      <script>\n",
       "        const buttonEl =\n",
       "          document.querySelector('#df-c4d91179-4198-4a48-a9ea-a661f9bee4c9 button.colab-df-convert');\n",
       "        buttonEl.style.display =\n",
       "          google.colab.kernel.accessAllowed ? 'block' : 'none';\n",
       "\n",
       "        async function convertToInteractive(key) {\n",
       "          const element = document.querySelector('#df-c4d91179-4198-4a48-a9ea-a661f9bee4c9');\n",
       "          const dataTable =\n",
       "            await google.colab.kernel.invokeFunction('convertToInteractive',\n",
       "                                                     [key], {});\n",
       "          if (!dataTable) return;\n",
       "\n",
       "          const docLinkHtml = 'Like what you see? Visit the ' +\n",
       "            '<a target=\"_blank\" href=https://colab.research.google.com/notebooks/data_table.ipynb>data table notebook</a>'\n",
       "            + ' to learn more about interactive tables.';\n",
       "          element.innerHTML = '';\n",
       "          dataTable['output_type'] = 'display_data';\n",
       "          await google.colab.output.renderOutput(dataTable, element);\n",
       "          const docLink = document.createElement('div');\n",
       "          docLink.innerHTML = docLinkHtml;\n",
       "          element.appendChild(docLink);\n",
       "        }\n",
       "      </script>\n",
       "    </div>\n",
       "  </div>\n",
       "  "
      ]
     },
     "metadata": {},
     "execution_count": 272
    }
   ]
  },
  {
   "cell_type": "code",
   "source": [
    "final_df['COMPOSITE_HEALTH_DETERIORATION'].value_counts(normalize=True)"
   ],
   "metadata": {
    "colab": {
     "base_uri": "https://localhost:8080/"
    },
    "id": "wqjRhCxgpDdY",
    "outputId": "1f31d0e3-d76e-4ef2-c67c-abd1433f5071",
    "pycharm": {
     "name": "#%%\n"
    }
   },
   "execution_count": null,
   "outputs": [
    {
     "output_type": "execute_result",
     "data": {
      "text/plain": [
       "0.0    0.848644\n",
       "1.0    0.151356\n",
       "Name: COMPOSITE_HEALTH_DETERIORATION, dtype: float64"
      ]
     },
     "metadata": {},
     "execution_count": 273
    }
   ]
  },
  {
   "cell_type": "code",
   "source": [
    "encoder = OneHotEncoder(drop='first', sparse=False)\n",
    "encoded_vars = encoder.fit_transform(final_df[['40. CLASSIFICATION', 'INDUSTRY SECTOR']])\n",
    "encoded_df = pd.DataFrame(encoded_vars, columns=encoder.get_feature_names(['40. CLASSIFICATION', 'INDUSTRY SECTOR']))"
   ],
   "metadata": {
    "id": "jkq1Xnafwdb0",
    "pycharm": {
     "name": "#%%\n"
    }
   },
   "execution_count": null,
   "outputs": []
  },
  {
   "cell_type": "code",
   "source": [
    "encoded_df.head()"
   ],
   "metadata": {
    "colab": {
     "base_uri": "https://localhost:8080/",
     "height": 206
    },
    "id": "YJ8YiwbrwsZN",
    "outputId": "3b447d9a-31d4-4f76-db39-7b7063d605d0",
    "pycharm": {
     "name": "#%%\n"
    }
   },
   "execution_count": null,
   "outputs": [
    {
     "output_type": "execute_result",
     "data": {
      "text/plain": [
       "   40. CLASSIFICATION_PBT  40. CLASSIFICATION_TRI  \\\n",
       "0                     0.0                     1.0   \n",
       "1                     0.0                     1.0   \n",
       "2                     1.0                     0.0   \n",
       "3                     0.0                     1.0   \n",
       "4                     0.0                     1.0   \n",
       "\n",
       "   INDUSTRY SECTOR_Hazardous Waste  INDUSTRY SECTOR_Others  \\\n",
       "0                              0.0                     0.0   \n",
       "1                              0.0                     0.0   \n",
       "2                              0.0                     0.0   \n",
       "3                              0.0                     1.0   \n",
       "4                              0.0                     0.0   \n",
       "\n",
       "   INDUSTRY SECTOR_Petroleums  \n",
       "0                         0.0  \n",
       "1                         0.0  \n",
       "2                         0.0  \n",
       "3                         0.0  \n",
       "4                         0.0  "
      ],
      "text/html": [
       "\n",
       "  <div id=\"df-d85975b7-56a7-4471-9b53-e65b5461c021\">\n",
       "    <div class=\"colab-df-container\">\n",
       "      <div>\n",
       "<style scoped>\n",
       "    .dataframe tbody tr th:only-of-type {\n",
       "        vertical-align: middle;\n",
       "    }\n",
       "\n",
       "    .dataframe tbody tr th {\n",
       "        vertical-align: top;\n",
       "    }\n",
       "\n",
       "    .dataframe thead th {\n",
       "        text-align: right;\n",
       "    }\n",
       "</style>\n",
       "<table border=\"1\" class=\"dataframe\">\n",
       "  <thead>\n",
       "    <tr style=\"text-align: right;\">\n",
       "      <th></th>\n",
       "      <th>40. CLASSIFICATION_PBT</th>\n",
       "      <th>40. CLASSIFICATION_TRI</th>\n",
       "      <th>INDUSTRY SECTOR_Hazardous Waste</th>\n",
       "      <th>INDUSTRY SECTOR_Others</th>\n",
       "      <th>INDUSTRY SECTOR_Petroleums</th>\n",
       "    </tr>\n",
       "  </thead>\n",
       "  <tbody>\n",
       "    <tr>\n",
       "      <th>0</th>\n",
       "      <td>0.0</td>\n",
       "      <td>1.0</td>\n",
       "      <td>0.0</td>\n",
       "      <td>0.0</td>\n",
       "      <td>0.0</td>\n",
       "    </tr>\n",
       "    <tr>\n",
       "      <th>1</th>\n",
       "      <td>0.0</td>\n",
       "      <td>1.0</td>\n",
       "      <td>0.0</td>\n",
       "      <td>0.0</td>\n",
       "      <td>0.0</td>\n",
       "    </tr>\n",
       "    <tr>\n",
       "      <th>2</th>\n",
       "      <td>1.0</td>\n",
       "      <td>0.0</td>\n",
       "      <td>0.0</td>\n",
       "      <td>0.0</td>\n",
       "      <td>0.0</td>\n",
       "    </tr>\n",
       "    <tr>\n",
       "      <th>3</th>\n",
       "      <td>0.0</td>\n",
       "      <td>1.0</td>\n",
       "      <td>0.0</td>\n",
       "      <td>1.0</td>\n",
       "      <td>0.0</td>\n",
       "    </tr>\n",
       "    <tr>\n",
       "      <th>4</th>\n",
       "      <td>0.0</td>\n",
       "      <td>1.0</td>\n",
       "      <td>0.0</td>\n",
       "      <td>0.0</td>\n",
       "      <td>0.0</td>\n",
       "    </tr>\n",
       "  </tbody>\n",
       "</table>\n",
       "</div>\n",
       "      <button class=\"colab-df-convert\" onclick=\"convertToInteractive('df-d85975b7-56a7-4471-9b53-e65b5461c021')\"\n",
       "              title=\"Convert this dataframe to an interactive table.\"\n",
       "              style=\"display:none;\">\n",
       "        \n",
       "  <svg xmlns=\"http://www.w3.org/2000/svg\" height=\"24px\"viewBox=\"0 0 24 24\"\n",
       "       width=\"24px\">\n",
       "    <path d=\"M0 0h24v24H0V0z\" fill=\"none\"/>\n",
       "    <path d=\"M18.56 5.44l.94 2.06.94-2.06 2.06-.94-2.06-.94-.94-2.06-.94 2.06-2.06.94zm-11 1L8.5 8.5l.94-2.06 2.06-.94-2.06-.94L8.5 2.5l-.94 2.06-2.06.94zm10 10l.94 2.06.94-2.06 2.06-.94-2.06-.94-.94-2.06-.94 2.06-2.06.94z\"/><path d=\"M17.41 7.96l-1.37-1.37c-.4-.4-.92-.59-1.43-.59-.52 0-1.04.2-1.43.59L10.3 9.45l-7.72 7.72c-.78.78-.78 2.05 0 2.83L4 21.41c.39.39.9.59 1.41.59.51 0 1.02-.2 1.41-.59l7.78-7.78 2.81-2.81c.8-.78.8-2.07 0-2.86zM5.41 20L4 18.59l7.72-7.72 1.47 1.35L5.41 20z\"/>\n",
       "  </svg>\n",
       "      </button>\n",
       "      \n",
       "  <style>\n",
       "    .colab-df-container {\n",
       "      display:flex;\n",
       "      flex-wrap:wrap;\n",
       "      gap: 12px;\n",
       "    }\n",
       "\n",
       "    .colab-df-convert {\n",
       "      background-color: #E8F0FE;\n",
       "      border: none;\n",
       "      border-radius: 50%;\n",
       "      cursor: pointer;\n",
       "      display: none;\n",
       "      fill: #1967D2;\n",
       "      height: 32px;\n",
       "      padding: 0 0 0 0;\n",
       "      width: 32px;\n",
       "    }\n",
       "\n",
       "    .colab-df-convert:hover {\n",
       "      background-color: #E2EBFA;\n",
       "      box-shadow: 0px 1px 2px rgba(60, 64, 67, 0.3), 0px 1px 3px 1px rgba(60, 64, 67, 0.15);\n",
       "      fill: #174EA6;\n",
       "    }\n",
       "\n",
       "    [theme=dark] .colab-df-convert {\n",
       "      background-color: #3B4455;\n",
       "      fill: #D2E3FC;\n",
       "    }\n",
       "\n",
       "    [theme=dark] .colab-df-convert:hover {\n",
       "      background-color: #434B5C;\n",
       "      box-shadow: 0px 1px 3px 1px rgba(0, 0, 0, 0.15);\n",
       "      filter: drop-shadow(0px 1px 2px rgba(0, 0, 0, 0.3));\n",
       "      fill: #FFFFFF;\n",
       "    }\n",
       "  </style>\n",
       "\n",
       "      <script>\n",
       "        const buttonEl =\n",
       "          document.querySelector('#df-d85975b7-56a7-4471-9b53-e65b5461c021 button.colab-df-convert');\n",
       "        buttonEl.style.display =\n",
       "          google.colab.kernel.accessAllowed ? 'block' : 'none';\n",
       "\n",
       "        async function convertToInteractive(key) {\n",
       "          const element = document.querySelector('#df-d85975b7-56a7-4471-9b53-e65b5461c021');\n",
       "          const dataTable =\n",
       "            await google.colab.kernel.invokeFunction('convertToInteractive',\n",
       "                                                     [key], {});\n",
       "          if (!dataTable) return;\n",
       "\n",
       "          const docLinkHtml = 'Like what you see? Visit the ' +\n",
       "            '<a target=\"_blank\" href=https://colab.research.google.com/notebooks/data_table.ipynb>data table notebook</a>'\n",
       "            + ' to learn more about interactive tables.';\n",
       "          element.innerHTML = '';\n",
       "          dataTable['output_type'] = 'display_data';\n",
       "          await google.colab.output.renderOutput(dataTable, element);\n",
       "          const docLink = document.createElement('div');\n",
       "          docLink.innerHTML = docLinkHtml;\n",
       "          element.appendChild(docLink);\n",
       "        }\n",
       "      </script>\n",
       "    </div>\n",
       "  </div>\n",
       "  "
      ]
     },
     "metadata": {},
     "execution_count": 275
    }
   ]
  },
  {
   "cell_type": "code",
   "source": [
    "encoded_df.shape"
   ],
   "metadata": {
    "colab": {
     "base_uri": "https://localhost:8080/"
    },
    "id": "tlPkMVm6yqwC",
    "outputId": "1e9e4de8-61b2-43e7-82a6-90166d249aa9",
    "pycharm": {
     "name": "#%%\n"
    }
   },
   "execution_count": null,
   "outputs": [
    {
     "output_type": "execute_result",
     "data": {
      "text/plain": [
       "(2286, 5)"
      ]
     },
     "metadata": {},
     "execution_count": 276
    }
   ]
  },
  {
   "cell_type": "code",
   "source": [
    "final_df.drop(columns=['40. CLASSIFICATION', 'INDUSTRY SECTOR'], axis=1, inplace=True)"
   ],
   "metadata": {
    "id": "Yvn_lQp6ywnl",
    "pycharm": {
     "name": "#%%\n"
    }
   },
   "execution_count": null,
   "outputs": []
  },
  {
   "cell_type": "code",
   "source": [
    "final_df.head()"
   ],
   "metadata": {
    "colab": {
     "base_uri": "https://localhost:8080/",
     "height": 285
    },
    "id": "hqDQ489ly8PR",
    "outputId": "ae619997-f021-414e-8360-b9975dea4174",
    "pycharm": {
     "name": "#%%\n"
    }
   },
   "execution_count": null,
   "outputs": [
    {
     "output_type": "execute_result",
     "data": {
      "text/plain": [
       "   ZIPCODE  48. 5.1 - FUGITIVE AIR  49. 5.2 - STACK AIR  41. METAL  \\\n",
       "0    31408                       0                    0          1   \n",
       "1    31323                       0                    1          0   \n",
       "2    30260                       0                    0          1   \n",
       "3    30720                       1                    1          0   \n",
       "4    30340                       0                    0          0   \n",
       "\n",
       "   42. METAL CATEGORY  43. CARCINOGEN  44. PBT  46. FORM TYPE  \\\n",
       "0                   1               0        0              0   \n",
       "1                   0               1        0              0   \n",
       "2                   1               1        1              0   \n",
       "3                   0               0        0              0   \n",
       "4                   0               0        0              0   \n",
       "\n",
       "   35. ELEMENTAL METAL INCLUDED  39. CLEAN AIR ACT CHEMICAL  \\\n",
       "0                             0                           0   \n",
       "1                             0                           1   \n",
       "2                             0                           0   \n",
       "3                             0                           0   \n",
       "4                             0                           1   \n",
       "\n",
       "   COMPOSITE_HEALTH_DETERIORATION  \n",
       "0                             0.0  \n",
       "1                             1.0  \n",
       "2                             0.0  \n",
       "3                             0.0  \n",
       "4                             0.0  "
      ],
      "text/html": [
       "\n",
       "  <div id=\"df-ebdef6ab-5986-40a6-b009-903df555518f\">\n",
       "    <div class=\"colab-df-container\">\n",
       "      <div>\n",
       "<style scoped>\n",
       "    .dataframe tbody tr th:only-of-type {\n",
       "        vertical-align: middle;\n",
       "    }\n",
       "\n",
       "    .dataframe tbody tr th {\n",
       "        vertical-align: top;\n",
       "    }\n",
       "\n",
       "    .dataframe thead th {\n",
       "        text-align: right;\n",
       "    }\n",
       "</style>\n",
       "<table border=\"1\" class=\"dataframe\">\n",
       "  <thead>\n",
       "    <tr style=\"text-align: right;\">\n",
       "      <th></th>\n",
       "      <th>ZIPCODE</th>\n",
       "      <th>48. 5.1 - FUGITIVE AIR</th>\n",
       "      <th>49. 5.2 - STACK AIR</th>\n",
       "      <th>41. METAL</th>\n",
       "      <th>42. METAL CATEGORY</th>\n",
       "      <th>43. CARCINOGEN</th>\n",
       "      <th>44. PBT</th>\n",
       "      <th>46. FORM TYPE</th>\n",
       "      <th>35. ELEMENTAL METAL INCLUDED</th>\n",
       "      <th>39. CLEAN AIR ACT CHEMICAL</th>\n",
       "      <th>COMPOSITE_HEALTH_DETERIORATION</th>\n",
       "    </tr>\n",
       "  </thead>\n",
       "  <tbody>\n",
       "    <tr>\n",
       "      <th>0</th>\n",
       "      <td>31408</td>\n",
       "      <td>0</td>\n",
       "      <td>0</td>\n",
       "      <td>1</td>\n",
       "      <td>1</td>\n",
       "      <td>0</td>\n",
       "      <td>0</td>\n",
       "      <td>0</td>\n",
       "      <td>0</td>\n",
       "      <td>0</td>\n",
       "      <td>0.0</td>\n",
       "    </tr>\n",
       "    <tr>\n",
       "      <th>1</th>\n",
       "      <td>31323</td>\n",
       "      <td>0</td>\n",
       "      <td>1</td>\n",
       "      <td>0</td>\n",
       "      <td>0</td>\n",
       "      <td>1</td>\n",
       "      <td>0</td>\n",
       "      <td>0</td>\n",
       "      <td>0</td>\n",
       "      <td>1</td>\n",
       "      <td>1.0</td>\n",
       "    </tr>\n",
       "    <tr>\n",
       "      <th>2</th>\n",
       "      <td>30260</td>\n",
       "      <td>0</td>\n",
       "      <td>0</td>\n",
       "      <td>1</td>\n",
       "      <td>1</td>\n",
       "      <td>1</td>\n",
       "      <td>1</td>\n",
       "      <td>0</td>\n",
       "      <td>0</td>\n",
       "      <td>0</td>\n",
       "      <td>0.0</td>\n",
       "    </tr>\n",
       "    <tr>\n",
       "      <th>3</th>\n",
       "      <td>30720</td>\n",
       "      <td>1</td>\n",
       "      <td>1</td>\n",
       "      <td>0</td>\n",
       "      <td>0</td>\n",
       "      <td>0</td>\n",
       "      <td>0</td>\n",
       "      <td>0</td>\n",
       "      <td>0</td>\n",
       "      <td>0</td>\n",
       "      <td>0.0</td>\n",
       "    </tr>\n",
       "    <tr>\n",
       "      <th>4</th>\n",
       "      <td>30340</td>\n",
       "      <td>0</td>\n",
       "      <td>0</td>\n",
       "      <td>0</td>\n",
       "      <td>0</td>\n",
       "      <td>0</td>\n",
       "      <td>0</td>\n",
       "      <td>0</td>\n",
       "      <td>0</td>\n",
       "      <td>1</td>\n",
       "      <td>0.0</td>\n",
       "    </tr>\n",
       "  </tbody>\n",
       "</table>\n",
       "</div>\n",
       "      <button class=\"colab-df-convert\" onclick=\"convertToInteractive('df-ebdef6ab-5986-40a6-b009-903df555518f')\"\n",
       "              title=\"Convert this dataframe to an interactive table.\"\n",
       "              style=\"display:none;\">\n",
       "        \n",
       "  <svg xmlns=\"http://www.w3.org/2000/svg\" height=\"24px\"viewBox=\"0 0 24 24\"\n",
       "       width=\"24px\">\n",
       "    <path d=\"M0 0h24v24H0V0z\" fill=\"none\"/>\n",
       "    <path d=\"M18.56 5.44l.94 2.06.94-2.06 2.06-.94-2.06-.94-.94-2.06-.94 2.06-2.06.94zm-11 1L8.5 8.5l.94-2.06 2.06-.94-2.06-.94L8.5 2.5l-.94 2.06-2.06.94zm10 10l.94 2.06.94-2.06 2.06-.94-2.06-.94-.94-2.06-.94 2.06-2.06.94z\"/><path d=\"M17.41 7.96l-1.37-1.37c-.4-.4-.92-.59-1.43-.59-.52 0-1.04.2-1.43.59L10.3 9.45l-7.72 7.72c-.78.78-.78 2.05 0 2.83L4 21.41c.39.39.9.59 1.41.59.51 0 1.02-.2 1.41-.59l7.78-7.78 2.81-2.81c.8-.78.8-2.07 0-2.86zM5.41 20L4 18.59l7.72-7.72 1.47 1.35L5.41 20z\"/>\n",
       "  </svg>\n",
       "      </button>\n",
       "      \n",
       "  <style>\n",
       "    .colab-df-container {\n",
       "      display:flex;\n",
       "      flex-wrap:wrap;\n",
       "      gap: 12px;\n",
       "    }\n",
       "\n",
       "    .colab-df-convert {\n",
       "      background-color: #E8F0FE;\n",
       "      border: none;\n",
       "      border-radius: 50%;\n",
       "      cursor: pointer;\n",
       "      display: none;\n",
       "      fill: #1967D2;\n",
       "      height: 32px;\n",
       "      padding: 0 0 0 0;\n",
       "      width: 32px;\n",
       "    }\n",
       "\n",
       "    .colab-df-convert:hover {\n",
       "      background-color: #E2EBFA;\n",
       "      box-shadow: 0px 1px 2px rgba(60, 64, 67, 0.3), 0px 1px 3px 1px rgba(60, 64, 67, 0.15);\n",
       "      fill: #174EA6;\n",
       "    }\n",
       "\n",
       "    [theme=dark] .colab-df-convert {\n",
       "      background-color: #3B4455;\n",
       "      fill: #D2E3FC;\n",
       "    }\n",
       "\n",
       "    [theme=dark] .colab-df-convert:hover {\n",
       "      background-color: #434B5C;\n",
       "      box-shadow: 0px 1px 3px 1px rgba(0, 0, 0, 0.15);\n",
       "      filter: drop-shadow(0px 1px 2px rgba(0, 0, 0, 0.3));\n",
       "      fill: #FFFFFF;\n",
       "    }\n",
       "  </style>\n",
       "\n",
       "      <script>\n",
       "        const buttonEl =\n",
       "          document.querySelector('#df-ebdef6ab-5986-40a6-b009-903df555518f button.colab-df-convert');\n",
       "        buttonEl.style.display =\n",
       "          google.colab.kernel.accessAllowed ? 'block' : 'none';\n",
       "\n",
       "        async function convertToInteractive(key) {\n",
       "          const element = document.querySelector('#df-ebdef6ab-5986-40a6-b009-903df555518f');\n",
       "          const dataTable =\n",
       "            await google.colab.kernel.invokeFunction('convertToInteractive',\n",
       "                                                     [key], {});\n",
       "          if (!dataTable) return;\n",
       "\n",
       "          const docLinkHtml = 'Like what you see? Visit the ' +\n",
       "            '<a target=\"_blank\" href=https://colab.research.google.com/notebooks/data_table.ipynb>data table notebook</a>'\n",
       "            + ' to learn more about interactive tables.';\n",
       "          element.innerHTML = '';\n",
       "          dataTable['output_type'] = 'display_data';\n",
       "          await google.colab.output.renderOutput(dataTable, element);\n",
       "          const docLink = document.createElement('div');\n",
       "          docLink.innerHTML = docLinkHtml;\n",
       "          element.appendChild(docLink);\n",
       "        }\n",
       "      </script>\n",
       "    </div>\n",
       "  </div>\n",
       "  "
      ]
     },
     "metadata": {},
     "execution_count": 278
    }
   ]
  },
  {
   "cell_type": "code",
   "source": [
    "final_df.shape"
   ],
   "metadata": {
    "colab": {
     "base_uri": "https://localhost:8080/"
    },
    "id": "DvFHtNtGzJx1",
    "outputId": "5cf9cba4-e0c3-4466-9116-ee89dab918af",
    "pycharm": {
     "name": "#%%\n"
    }
   },
   "execution_count": null,
   "outputs": [
    {
     "output_type": "execute_result",
     "data": {
      "text/plain": [
       "(2286, 11)"
      ]
     },
     "metadata": {},
     "execution_count": 279
    }
   ]
  },
  {
   "cell_type": "code",
   "source": [
    "COMPOSITE_HEALTH = pd.concat([encoded_df, final_df], axis=1)"
   ],
   "metadata": {
    "id": "P2KxdwFg0DGi",
    "pycharm": {
     "name": "#%%\n"
    }
   },
   "execution_count": null,
   "outputs": []
  },
  {
   "cell_type": "code",
   "source": [
    "COMPOSITE_HEALTH.head()"
   ],
   "metadata": {
    "colab": {
     "base_uri": "https://localhost:8080/",
     "height": 322
    },
    "id": "LyN_gUUV0OxC",
    "outputId": "6b00e7a4-5f7e-4d61-f154-b76000879627",
    "pycharm": {
     "name": "#%%\n"
    }
   },
   "execution_count": null,
   "outputs": [
    {
     "output_type": "execute_result",
     "data": {
      "text/plain": [
       "   40. CLASSIFICATION_PBT  40. CLASSIFICATION_TRI  \\\n",
       "0                     0.0                     1.0   \n",
       "1                     0.0                     1.0   \n",
       "2                     1.0                     0.0   \n",
       "3                     0.0                     1.0   \n",
       "4                     0.0                     1.0   \n",
       "\n",
       "   INDUSTRY SECTOR_Hazardous Waste  INDUSTRY SECTOR_Others  \\\n",
       "0                              0.0                     0.0   \n",
       "1                              0.0                     0.0   \n",
       "2                              0.0                     0.0   \n",
       "3                              0.0                     1.0   \n",
       "4                              0.0                     0.0   \n",
       "\n",
       "   INDUSTRY SECTOR_Petroleums  ZIPCODE  48. 5.1 - FUGITIVE AIR  \\\n",
       "0                         0.0    31408                       0   \n",
       "1                         0.0    31323                       0   \n",
       "2                         0.0    30260                       0   \n",
       "3                         0.0    30720                       1   \n",
       "4                         0.0    30340                       0   \n",
       "\n",
       "   49. 5.2 - STACK AIR  41. METAL  42. METAL CATEGORY  43. CARCINOGEN  \\\n",
       "0                    0          1                   1               0   \n",
       "1                    1          0                   0               1   \n",
       "2                    0          1                   1               1   \n",
       "3                    1          0                   0               0   \n",
       "4                    0          0                   0               0   \n",
       "\n",
       "   44. PBT  46. FORM TYPE  35. ELEMENTAL METAL INCLUDED  \\\n",
       "0        0              0                             0   \n",
       "1        0              0                             0   \n",
       "2        1              0                             0   \n",
       "3        0              0                             0   \n",
       "4        0              0                             0   \n",
       "\n",
       "   39. CLEAN AIR ACT CHEMICAL  COMPOSITE_HEALTH_DETERIORATION  \n",
       "0                           0                             0.0  \n",
       "1                           1                             1.0  \n",
       "2                           0                             0.0  \n",
       "3                           0                             0.0  \n",
       "4                           1                             0.0  "
      ],
      "text/html": [
       "\n",
       "  <div id=\"df-54f7925c-cd61-43e2-93f4-6326c87d6d29\">\n",
       "    <div class=\"colab-df-container\">\n",
       "      <div>\n",
       "<style scoped>\n",
       "    .dataframe tbody tr th:only-of-type {\n",
       "        vertical-align: middle;\n",
       "    }\n",
       "\n",
       "    .dataframe tbody tr th {\n",
       "        vertical-align: top;\n",
       "    }\n",
       "\n",
       "    .dataframe thead th {\n",
       "        text-align: right;\n",
       "    }\n",
       "</style>\n",
       "<table border=\"1\" class=\"dataframe\">\n",
       "  <thead>\n",
       "    <tr style=\"text-align: right;\">\n",
       "      <th></th>\n",
       "      <th>40. CLASSIFICATION_PBT</th>\n",
       "      <th>40. CLASSIFICATION_TRI</th>\n",
       "      <th>INDUSTRY SECTOR_Hazardous Waste</th>\n",
       "      <th>INDUSTRY SECTOR_Others</th>\n",
       "      <th>INDUSTRY SECTOR_Petroleums</th>\n",
       "      <th>ZIPCODE</th>\n",
       "      <th>48. 5.1 - FUGITIVE AIR</th>\n",
       "      <th>49. 5.2 - STACK AIR</th>\n",
       "      <th>41. METAL</th>\n",
       "      <th>42. METAL CATEGORY</th>\n",
       "      <th>43. CARCINOGEN</th>\n",
       "      <th>44. PBT</th>\n",
       "      <th>46. FORM TYPE</th>\n",
       "      <th>35. ELEMENTAL METAL INCLUDED</th>\n",
       "      <th>39. CLEAN AIR ACT CHEMICAL</th>\n",
       "      <th>COMPOSITE_HEALTH_DETERIORATION</th>\n",
       "    </tr>\n",
       "  </thead>\n",
       "  <tbody>\n",
       "    <tr>\n",
       "      <th>0</th>\n",
       "      <td>0.0</td>\n",
       "      <td>1.0</td>\n",
       "      <td>0.0</td>\n",
       "      <td>0.0</td>\n",
       "      <td>0.0</td>\n",
       "      <td>31408</td>\n",
       "      <td>0</td>\n",
       "      <td>0</td>\n",
       "      <td>1</td>\n",
       "      <td>1</td>\n",
       "      <td>0</td>\n",
       "      <td>0</td>\n",
       "      <td>0</td>\n",
       "      <td>0</td>\n",
       "      <td>0</td>\n",
       "      <td>0.0</td>\n",
       "    </tr>\n",
       "    <tr>\n",
       "      <th>1</th>\n",
       "      <td>0.0</td>\n",
       "      <td>1.0</td>\n",
       "      <td>0.0</td>\n",
       "      <td>0.0</td>\n",
       "      <td>0.0</td>\n",
       "      <td>31323</td>\n",
       "      <td>0</td>\n",
       "      <td>1</td>\n",
       "      <td>0</td>\n",
       "      <td>0</td>\n",
       "      <td>1</td>\n",
       "      <td>0</td>\n",
       "      <td>0</td>\n",
       "      <td>0</td>\n",
       "      <td>1</td>\n",
       "      <td>1.0</td>\n",
       "    </tr>\n",
       "    <tr>\n",
       "      <th>2</th>\n",
       "      <td>1.0</td>\n",
       "      <td>0.0</td>\n",
       "      <td>0.0</td>\n",
       "      <td>0.0</td>\n",
       "      <td>0.0</td>\n",
       "      <td>30260</td>\n",
       "      <td>0</td>\n",
       "      <td>0</td>\n",
       "      <td>1</td>\n",
       "      <td>1</td>\n",
       "      <td>1</td>\n",
       "      <td>1</td>\n",
       "      <td>0</td>\n",
       "      <td>0</td>\n",
       "      <td>0</td>\n",
       "      <td>0.0</td>\n",
       "    </tr>\n",
       "    <tr>\n",
       "      <th>3</th>\n",
       "      <td>0.0</td>\n",
       "      <td>1.0</td>\n",
       "      <td>0.0</td>\n",
       "      <td>1.0</td>\n",
       "      <td>0.0</td>\n",
       "      <td>30720</td>\n",
       "      <td>1</td>\n",
       "      <td>1</td>\n",
       "      <td>0</td>\n",
       "      <td>0</td>\n",
       "      <td>0</td>\n",
       "      <td>0</td>\n",
       "      <td>0</td>\n",
       "      <td>0</td>\n",
       "      <td>0</td>\n",
       "      <td>0.0</td>\n",
       "    </tr>\n",
       "    <tr>\n",
       "      <th>4</th>\n",
       "      <td>0.0</td>\n",
       "      <td>1.0</td>\n",
       "      <td>0.0</td>\n",
       "      <td>0.0</td>\n",
       "      <td>0.0</td>\n",
       "      <td>30340</td>\n",
       "      <td>0</td>\n",
       "      <td>0</td>\n",
       "      <td>0</td>\n",
       "      <td>0</td>\n",
       "      <td>0</td>\n",
       "      <td>0</td>\n",
       "      <td>0</td>\n",
       "      <td>0</td>\n",
       "      <td>1</td>\n",
       "      <td>0.0</td>\n",
       "    </tr>\n",
       "  </tbody>\n",
       "</table>\n",
       "</div>\n",
       "      <button class=\"colab-df-convert\" onclick=\"convertToInteractive('df-54f7925c-cd61-43e2-93f4-6326c87d6d29')\"\n",
       "              title=\"Convert this dataframe to an interactive table.\"\n",
       "              style=\"display:none;\">\n",
       "        \n",
       "  <svg xmlns=\"http://www.w3.org/2000/svg\" height=\"24px\"viewBox=\"0 0 24 24\"\n",
       "       width=\"24px\">\n",
       "    <path d=\"M0 0h24v24H0V0z\" fill=\"none\"/>\n",
       "    <path d=\"M18.56 5.44l.94 2.06.94-2.06 2.06-.94-2.06-.94-.94-2.06-.94 2.06-2.06.94zm-11 1L8.5 8.5l.94-2.06 2.06-.94-2.06-.94L8.5 2.5l-.94 2.06-2.06.94zm10 10l.94 2.06.94-2.06 2.06-.94-2.06-.94-.94-2.06-.94 2.06-2.06.94z\"/><path d=\"M17.41 7.96l-1.37-1.37c-.4-.4-.92-.59-1.43-.59-.52 0-1.04.2-1.43.59L10.3 9.45l-7.72 7.72c-.78.78-.78 2.05 0 2.83L4 21.41c.39.39.9.59 1.41.59.51 0 1.02-.2 1.41-.59l7.78-7.78 2.81-2.81c.8-.78.8-2.07 0-2.86zM5.41 20L4 18.59l7.72-7.72 1.47 1.35L5.41 20z\"/>\n",
       "  </svg>\n",
       "      </button>\n",
       "      \n",
       "  <style>\n",
       "    .colab-df-container {\n",
       "      display:flex;\n",
       "      flex-wrap:wrap;\n",
       "      gap: 12px;\n",
       "    }\n",
       "\n",
       "    .colab-df-convert {\n",
       "      background-color: #E8F0FE;\n",
       "      border: none;\n",
       "      border-radius: 50%;\n",
       "      cursor: pointer;\n",
       "      display: none;\n",
       "      fill: #1967D2;\n",
       "      height: 32px;\n",
       "      padding: 0 0 0 0;\n",
       "      width: 32px;\n",
       "    }\n",
       "\n",
       "    .colab-df-convert:hover {\n",
       "      background-color: #E2EBFA;\n",
       "      box-shadow: 0px 1px 2px rgba(60, 64, 67, 0.3), 0px 1px 3px 1px rgba(60, 64, 67, 0.15);\n",
       "      fill: #174EA6;\n",
       "    }\n",
       "\n",
       "    [theme=dark] .colab-df-convert {\n",
       "      background-color: #3B4455;\n",
       "      fill: #D2E3FC;\n",
       "    }\n",
       "\n",
       "    [theme=dark] .colab-df-convert:hover {\n",
       "      background-color: #434B5C;\n",
       "      box-shadow: 0px 1px 3px 1px rgba(0, 0, 0, 0.15);\n",
       "      filter: drop-shadow(0px 1px 2px rgba(0, 0, 0, 0.3));\n",
       "      fill: #FFFFFF;\n",
       "    }\n",
       "  </style>\n",
       "\n",
       "      <script>\n",
       "        const buttonEl =\n",
       "          document.querySelector('#df-54f7925c-cd61-43e2-93f4-6326c87d6d29 button.colab-df-convert');\n",
       "        buttonEl.style.display =\n",
       "          google.colab.kernel.accessAllowed ? 'block' : 'none';\n",
       "\n",
       "        async function convertToInteractive(key) {\n",
       "          const element = document.querySelector('#df-54f7925c-cd61-43e2-93f4-6326c87d6d29');\n",
       "          const dataTable =\n",
       "            await google.colab.kernel.invokeFunction('convertToInteractive',\n",
       "                                                     [key], {});\n",
       "          if (!dataTable) return;\n",
       "\n",
       "          const docLinkHtml = 'Like what you see? Visit the ' +\n",
       "            '<a target=\"_blank\" href=https://colab.research.google.com/notebooks/data_table.ipynb>data table notebook</a>'\n",
       "            + ' to learn more about interactive tables.';\n",
       "          element.innerHTML = '';\n",
       "          dataTable['output_type'] = 'display_data';\n",
       "          await google.colab.output.renderOutput(dataTable, element);\n",
       "          const docLink = document.createElement('div');\n",
       "          docLink.innerHTML = docLinkHtml;\n",
       "          element.appendChild(docLink);\n",
       "        }\n",
       "      </script>\n",
       "    </div>\n",
       "  </div>\n",
       "  "
      ]
     },
     "metadata": {},
     "execution_count": 281
    }
   ]
  },
  {
   "cell_type": "code",
   "source": [
    "y = COMPOSITE_HEALTH['COMPOSITE_HEALTH_DETERIORATION']\n",
    "X = COMPOSITE_HEALTH.drop(columns=['ZIPCODE', 'COMPOSITE_HEALTH_DETERIORATION'], axis=1)"
   ],
   "metadata": {
    "id": "yiyQN0Mo0hdB",
    "pycharm": {
     "name": "#%%\n"
    }
   },
   "execution_count": null,
   "outputs": []
  },
  {
   "cell_type": "code",
   "source": [
    "X.shape, y.shape"
   ],
   "metadata": {
    "colab": {
     "base_uri": "https://localhost:8080/"
    },
    "id": "DsDW0SHa0-E_",
    "outputId": "fe4d8a92-0b97-40ae-f82a-e712f624ec04",
    "pycharm": {
     "name": "#%%\n"
    }
   },
   "execution_count": null,
   "outputs": [
    {
     "output_type": "execute_result",
     "data": {
      "text/plain": [
       "((2286, 14), (2286,))"
      ]
     },
     "metadata": {},
     "execution_count": 283
    }
   ]
  },
  {
   "cell_type": "code",
   "source": [
    "X_train, X_test, y_train, y_test = train_test_split(\n",
    "                                   X, y, test_size=0.25, \n",
    "                                   stratify=y,\n",
    "                                   random_state=47)"
   ],
   "metadata": {
    "id": "R3T8Bvuf1zmI",
    "pycharm": {
     "name": "#%%\n"
    }
   },
   "execution_count": null,
   "outputs": []
  },
  {
   "cell_type": "code",
   "source": [
    "X_train.shape, X_test.shape, y_train.shape, y_test.shape"
   ],
   "metadata": {
    "colab": {
     "base_uri": "https://localhost:8080/"
    },
    "id": "yNRrLF_w2nvx",
    "outputId": "9e8b87d1-7710-4c44-d22e-11842a5f330a",
    "pycharm": {
     "name": "#%%\n"
    }
   },
   "execution_count": null,
   "outputs": [
    {
     "output_type": "execute_result",
     "data": {
      "text/plain": [
       "((1714, 14), (572, 14), (1714,), (572,))"
      ]
     },
     "metadata": {},
     "execution_count": 285
    }
   ]
  },
  {
   "cell_type": "code",
   "source": [
    "y_train.value_counts(normalize=True)"
   ],
   "metadata": {
    "colab": {
     "base_uri": "https://localhost:8080/"
    },
    "id": "FX7OWTf52uxo",
    "outputId": "b4c9fb05-bd29-4ffc-f1c8-a20e656b0d9c",
    "pycharm": {
     "name": "#%%\n"
    }
   },
   "execution_count": null,
   "outputs": [
    {
     "output_type": "execute_result",
     "data": {
      "text/plain": [
       "0.0    0.848891\n",
       "1.0    0.151109\n",
       "Name: COMPOSITE_HEALTH_DETERIORATION, dtype: float64"
      ]
     },
     "metadata": {},
     "execution_count": 286
    }
   ]
  },
  {
   "cell_type": "code",
   "source": [
    "y_test.value_counts(normalize=True)"
   ],
   "metadata": {
    "colab": {
     "base_uri": "https://localhost:8080/"
    },
    "id": "6aMp6Zco20r-",
    "outputId": "365b9a1c-d8b3-42e6-b576-fdd6614c8388",
    "pycharm": {
     "name": "#%%\n"
    }
   },
   "execution_count": null,
   "outputs": [
    {
     "output_type": "execute_result",
     "data": {
      "text/plain": [
       "0.0    0.847902\n",
       "1.0    0.152098\n",
       "Name: COMPOSITE_HEALTH_DETERIORATION, dtype: float64"
      ]
     },
     "metadata": {},
     "execution_count": 287
    }
   ]
  },
  {
   "cell_type": "code",
   "source": [
    "# function to plot confusion matrix\n",
    "def confusion_matrix_plot(conf_matrix):\n",
    "    ax = sns.heatmap(conf_matrix, annot=True, cmap='Blues')\n",
    "\n",
    "    ax.set_title('Seaborn Confusion Matrix with labels\\n\\n');\n",
    "    ax.set_xlabel('\\nPredicted Values')\n",
    "    ax.set_ylabel('Actual Values ');\n",
    "\n",
    "    ## Ticket labels - List must be in alphabetical order\n",
    "    ax.xaxis.set_ticklabels(['False','True'])\n",
    "    ax.yaxis.set_ticklabels(['False','True'])\n",
    "\n",
    "    ## Display the visualization of the Confusion Matrix.\n",
    "    plt.show()\n",
    "\n",
    "    return"
   ],
   "metadata": {
    "id": "6f4Q0KmF26Nk",
    "pycharm": {
     "name": "#%%\n"
    }
   },
   "execution_count": null,
   "outputs": []
  },
  {
   "cell_type": "code",
   "source": [
    "# define a function to plot the ROC curve and print the ROC-AUC score\n",
    "\n",
    "def plot_roc(model):\n",
    "\n",
    "\n",
    "    \n",
    "    # predict the probability of target variable using X_test\n",
    "    # consider the probability of positive class by subsetting with '[:,1]'\n",
    "    y_pred_prob = model.predict(X_test)\n",
    "    \n",
    "    # the roc_curve() returns the values for false positive rate, true positive rate and threshold\n",
    "    # pass the actual target values and predicted probabilities to the function\n",
    "    fpr, tpr, thresholds = roc_curve(y_test, y_pred_prob)\n",
    "\n",
    "    # plot the ROC curve\n",
    "    plt.plot(fpr, tpr)\n",
    "\n",
    "    # set limits for x and y axes\n",
    "    plt.xlim([0.0, 1.0])\n",
    "    plt.ylim([0.0, 1.0])\n",
    "\n",
    "    # plot the straight line showing worst prediction for the model\n",
    "    plt.plot([0, 1], [0, 1],'r--')\n",
    "\n",
    "    # add plot and axes labels\n",
    "    # set text size using 'fontsize'\n",
    "    plt.title('Receiver operating characteristic (ROC) curve', fontsize = 15)\n",
    "    plt.xlabel('False positive rate', fontsize = 15)\n",
    "    plt.ylabel('True positive rate', fontsize = 15)\n",
    "\n",
    "    # add the AUC score to the plot\n",
    "    # 'x' and 'y' gives position of the text\n",
    "    # 's' is the text \n",
    "    # use round() to round-off the AUC score upto 4 digits\n",
    "    plt.text(x = 0.02, y = 0.9, s = ('AUC Score:',round(roc_auc_score(y_test, y_pred_prob),4)))\n",
    "\n",
    "    # plot the grid\n",
    "    plt.grid(True)\n",
    "\n",
    "    return"
   ],
   "metadata": {
    "id": "CnG_ypib3_I4",
    "pycharm": {
     "name": "#%%\n"
    }
   },
   "execution_count": null,
   "outputs": []
  },
  {
   "cell_type": "code",
   "source": [
    "# def f1_score(true_neg, false_pos, false_neg, true_pos):\n",
    "\n",
    "#     Recall = (true_pos) / (true_pos + false_neg)\n",
    "#     Precision = (true_pos) / (true_pos + false_pos)\n",
    "\n",
    "#     f1 = (2*Precision*Recall) / (Precision + Recall)\n",
    "\n",
    "#     return Recall"
   ],
   "metadata": {
    "id": "VfJtrRbr5KQj",
    "pycharm": {
     "name": "#%%\n"
    }
   },
   "execution_count": null,
   "outputs": []
  },
  {
   "cell_type": "code",
   "source": [
    "# DT_clf = DecisionTreeClassifier(criterion=\"gini\", max_depth=None)\n",
    "# DT_clf = DT_clf.fit(X_train, y_train)\n",
    "\n",
    "# #Predict the binary dependent variable using the model\n",
    "# DT_predicted_BMI = DT_clf.predict(X_test)\n",
    "\n",
    "# #Create a confusion matrix\n",
    "# conf_matrix = confusion_matrix(y_test, DT_predicted_BMI)\n",
    "# print(\"Confusion Matrix:\")\n",
    "# print(conf_matrix)\n",
    "\n",
    "# true_neg, false_pos, false_neg, true_pos = conf_matrix.ravel()\n",
    "\n",
    "# # accuracy = (true_neg+true_pos) / (true_neg+false_pos+false_neg+true_pos)\n",
    "# # print(\"Accuracy of the classifier is: \", accuracy.round(2))\n",
    "# print(\"The F1-Score of the classifier is: \", f1_score(true_neg, false_pos, false_neg, true_pos))"
   ],
   "metadata": {
    "id": "ra1ZX-ba4DL2",
    "pycharm": {
     "name": "#%%\n"
    }
   },
   "execution_count": null,
   "outputs": []
  },
  {
   "cell_type": "code",
   "source": [
    "# # Visualizing Confusion Matrix with Heat Map\n",
    "# confusion_matrix_plot(conf_matrix)"
   ],
   "metadata": {
    "id": "8Wjh_FKh4Kud",
    "pycharm": {
     "name": "#%%\n"
    }
   },
   "execution_count": null,
   "outputs": []
  },
  {
   "cell_type": "code",
   "source": [
    "# # Define the parameter space to search\n",
    "# param_dist = {\n",
    "#     \"n_estimators\": [10, 100, 500, 1000],\n",
    "#     \"max_depth\": [3, 4],\n",
    "#     \"max_features\": np.arange(1, X.shape[1]+1),\n",
    "#     \"min_samples_leaf\": np.arange(1, X.shape[0]+1, step=10),\n",
    "#     \"criterion\": [\"entropy\"]\n",
    "# }\n",
    "\n",
    "# # Create the random forest classifier\n",
    "# rf = RandomForestClassifier()\n",
    "\n",
    "# # Use RandomizedSearchCV to search the best parameters\n",
    "# random_search = RandomizedSearchCV(rf, param_distributions=param_dist, n_iter=100, cv=5, scoring='recall')\n",
    "\n",
    "# # Fit the random search on the data\n",
    "# random_search.fit(X, y)\n",
    "\n",
    "# # Get the best parameters\n",
    "# best_params = random_search.best_params_\n",
    "\n",
    "# # Get the best estimator\n",
    "# best_estimator = random_search.best_estimator_\n",
    "\n",
    "# best_estimator\n",
    "# best_params"
   ],
   "metadata": {
    "id": "llCMEylO-yBJ",
    "pycharm": {
     "name": "#%%\n"
    }
   },
   "execution_count": null,
   "outputs": []
  },
  {
   "cell_type": "code",
   "source": [],
   "metadata": {
    "id": "IdSC-WZMBMI8",
    "pycharm": {
     "name": "#%%\n"
    }
   },
   "execution_count": null,
   "outputs": []
  },
  {
   "cell_type": "code",
   "source": [],
   "metadata": {
    "id": "YVrXjruuBRwS",
    "pycharm": {
     "name": "#%%\n"
    }
   },
   "execution_count": null,
   "outputs": []
  },
  {
   "cell_type": "code",
   "source": [
    "# rf_clf = RandomForestClassifier(n_estimators=1000, min_samples_leaf=1331,\n",
    "#                                max_features=11, max_depth=4,\n",
    "#                                criterion = 'entropy')\n",
    "\n",
    "# rf_clf = rf_clf.fit(X_train, y_train)"
   ],
   "metadata": {
    "id": "J72pDV3NBW_o",
    "pycharm": {
     "name": "#%%\n"
    }
   },
   "execution_count": null,
   "outputs": []
  },
  {
   "cell_type": "code",
   "source": [
    "# #Predict the binary dependent variable using the model\n",
    "# rf_predicted_ = rf_clf.predict(X_test)\n",
    "\n",
    "# #Create a confusion matrix\n",
    "# conf_matrix = confusion_matrix(y_test, rf_predicted_)\n",
    "# print(\"Confusion Matrix:\")\n",
    "# print(conf_matrix)\n",
    "\n",
    "# true_neg, false_pos, false_neg, true_pos = conf_matrix.ravel()"
   ],
   "metadata": {
    "id": "NlDLxsNwCjlp",
    "pycharm": {
     "name": "#%%\n"
    }
   },
   "execution_count": null,
   "outputs": []
  },
  {
   "cell_type": "code",
   "source": [
    "# # Visualizing Confusion Matrix with Heat Map\n",
    "# confusion_matrix_plot(conf_matrix)"
   ],
   "metadata": {
    "id": "xj1MKTUSCxZ4",
    "pycharm": {
     "name": "#%%\n"
    }
   },
   "execution_count": null,
   "outputs": []
  },
  {
   "cell_type": "code",
   "source": [
    "from sklearn.linear_model import LogisticRegression"
   ],
   "metadata": {
    "id": "RmohPPmPDOuU",
    "pycharm": {
     "name": "#%%\n"
    }
   },
   "execution_count": null,
   "outputs": []
  },
  {
   "cell_type": "code",
   "source": [
    "# Define the parameter space to search\n",
    "param_dist = {\n",
    "    \"C\": np.logspace(-3, 3, 7),\n",
    "    \"penalty\": [\"l1\", \"l2\", \"elasticnet\"],\n",
    "    \"solver\": [\"newton-cg\", \"lbfgs\", \"liblinear\", \"sag\", \"saga\"],\n",
    "    \"l1_ratio\": np.arange(0, 1, 0.01),\n",
    "}"
   ],
   "metadata": {
    "id": "UE5AMkBLDjeV",
    "pycharm": {
     "name": "#%%\n"
    }
   },
   "execution_count": null,
   "outputs": []
  },
  {
   "cell_type": "code",
   "source": [
    "# Create the logistic regression classifier\n",
    "logreg = LogisticRegression()"
   ],
   "metadata": {
    "id": "SPzng2DlDoZ-",
    "pycharm": {
     "name": "#%%\n"
    }
   },
   "execution_count": null,
   "outputs": []
  },
  {
   "cell_type": "code",
   "source": [
    "# Use RandomizedSearchCV to search the best parameters\n",
    "random_search = RandomizedSearchCV(logreg, param_distributions=param_dist, n_iter=10000, cv=5, scoring='recall')"
   ],
   "metadata": {
    "id": "gqh9qTsUDrTk",
    "pycharm": {
     "name": "#%%\n"
    }
   },
   "execution_count": null,
   "outputs": []
  },
  {
   "cell_type": "code",
   "source": [
    "# Fit the random search on the data\n",
    "random_search.fit(X, y)"
   ],
   "metadata": {
    "colab": {
     "base_uri": "https://localhost:8080/"
    },
    "id": "R61AFW6CDu9_",
    "outputId": "89086f6e-319d-4b72-ca89-349597fe4a30",
    "pycharm": {
     "name": "#%%\n"
    }
   },
   "execution_count": null,
   "outputs": [
    {
     "output_type": "execute_result",
     "data": {
      "text/plain": [
       "RandomizedSearchCV(cv=5, estimator=LogisticRegression(), n_iter=10000,\n",
       "                   param_distributions={'C': array([1.e-03, 1.e-02, 1.e-01, 1.e+00, 1.e+01, 1.e+02, 1.e+03]),\n",
       "                                        'l1_ratio': array([0.  , 0.01, 0.02, 0.03, 0.04, 0.05, 0.06, 0.07, 0.08, 0.09, 0.1 ,\n",
       "       0.11, 0.12, 0.13, 0.14, 0.15, 0.16, 0.17, 0.18, 0.19, 0.2 , 0.21,\n",
       "       0.22, 0.23, 0.24, 0.25, 0.26, 0.27, 0.28, 0.29, 0.3 , 0.31, 0.32,\n",
       "       0.33, 0.34, 0.35, 0.36, 0...\n",
       "       0.44, 0.45, 0.46, 0.47, 0.48, 0.49, 0.5 , 0.51, 0.52, 0.53, 0.54,\n",
       "       0.55, 0.56, 0.57, 0.58, 0.59, 0.6 , 0.61, 0.62, 0.63, 0.64, 0.65,\n",
       "       0.66, 0.67, 0.68, 0.69, 0.7 , 0.71, 0.72, 0.73, 0.74, 0.75, 0.76,\n",
       "       0.77, 0.78, 0.79, 0.8 , 0.81, 0.82, 0.83, 0.84, 0.85, 0.86, 0.87,\n",
       "       0.88, 0.89, 0.9 , 0.91, 0.92, 0.93, 0.94, 0.95, 0.96, 0.97, 0.98,\n",
       "       0.99]),\n",
       "                                        'penalty': ['l1', 'l2', 'elasticnet'],\n",
       "                                        'solver': ['newton-cg', 'lbfgs',\n",
       "                                                   'liblinear', 'sag',\n",
       "                                                   'saga']},\n",
       "                   scoring='recall')"
      ]
     },
     "metadata": {},
     "execution_count": 326
    }
   ]
  },
  {
   "cell_type": "code",
   "source": [
    "# Get the best parameters\n",
    "best_params = random_search.best_params_"
   ],
   "metadata": {
    "id": "blQshDcmD1xB",
    "pycharm": {
     "name": "#%%\n"
    }
   },
   "execution_count": null,
   "outputs": []
  },
  {
   "cell_type": "code",
   "source": [
    "best_params"
   ],
   "metadata": {
    "colab": {
     "base_uri": "https://localhost:8080/"
    },
    "id": "6rarSOWND7fW",
    "outputId": "1e724f79-eaa4-432f-b809-1dbb5e8ff6dc",
    "pycharm": {
     "name": "#%%\n"
    }
   },
   "execution_count": null,
   "outputs": [
    {
     "output_type": "execute_result",
     "data": {
      "text/plain": [
       "{'solver': 'liblinear', 'penalty': 'l2', 'l1_ratio': 0.0, 'C': 0.001}"
      ]
     },
     "metadata": {},
     "execution_count": 328
    }
   ]
  },
  {
   "cell_type": "code",
   "source": [
    "# Get the best estimator\n",
    "best_estimator = random_search.best_estimator_"
   ],
   "metadata": {
    "id": "Gst8qqGbD49Z",
    "pycharm": {
     "name": "#%%\n"
    }
   },
   "execution_count": null,
   "outputs": []
  },
  {
   "cell_type": "code",
   "source": [
    "best_estimator"
   ],
   "metadata": {
    "colab": {
     "base_uri": "https://localhost:8080/"
    },
    "id": "xlMIZhbGQ9_M",
    "outputId": "4b07abee-c3ff-4527-bd24-a1096584db11",
    "pycharm": {
     "name": "#%%\n"
    }
   },
   "execution_count": null,
   "outputs": [
    {
     "output_type": "execute_result",
     "data": {
      "text/plain": [
       "LogisticRegression(l1_ratio=0.4)"
      ]
     },
     "metadata": {},
     "execution_count": 302
    }
   ]
  },
  {
   "cell_type": "code",
   "source": [
    "best_estimator"
   ],
   "metadata": {
    "colab": {
     "base_uri": "https://localhost:8080/"
    },
    "id": "PTsbMEkaD-_q",
    "outputId": "12b52aad-706c-46d2-9500-2d9681a3254b",
    "pycharm": {
     "name": "#%%\n"
    }
   },
   "execution_count": null,
   "outputs": [
    {
     "output_type": "execute_result",
     "data": {
      "text/plain": [
       "LogisticRegression(l1_ratio=0.4)"
      ]
     },
     "metadata": {},
     "execution_count": 303
    }
   ]
  },
  {
   "cell_type": "code",
   "source": [
    "lr = LogisticRegression(solver='liblinear', penalty='l2', \n",
    "                        l1_ratio=0.0,\n",
    "                        C=0.001)\n",
    "\n",
    "lr = lr.fit(X_train, y_train)"
   ],
   "metadata": {
    "id": "xzynl6dJECE_",
    "pycharm": {
     "name": "#%%\n"
    }
   },
   "execution_count": null,
   "outputs": []
  },
  {
   "cell_type": "code",
   "source": [
    "lr"
   ],
   "metadata": {
    "colab": {
     "base_uri": "https://localhost:8080/"
    },
    "id": "LkCyit5jSSA9",
    "outputId": "6a0af191-1ecf-4fb9-ec20-0c57b615f1e0",
    "pycharm": {
     "name": "#%%\n"
    }
   },
   "execution_count": null,
   "outputs": [
    {
     "output_type": "execute_result",
     "data": {
      "text/plain": [
       "LogisticRegression(C=0.001, l1_ratio=0.0, solver='liblinear')"
      ]
     },
     "metadata": {},
     "execution_count": 330
    }
   ]
  },
  {
   "cell_type": "code",
   "source": [
    "#Predict the binary dependent variable using the model\n",
    "lr_predicted_ = lr.predict(X_test)\n",
    "\n",
    "#Create a confusion matrix\n",
    "conf_matrix = confusion_matrix(y_test, lr_predicted_)\n",
    "print(\"Confusion Matrix:\")\n",
    "print(conf_matrix)\n",
    "\n",
    "true_neg, false_pos, false_neg, true_pos = conf_matrix.ravel()\n",
    "# Visualizing Confusion Matrix with Heat Map\n",
    "confusion_matrix_plot(conf_matrix)"
   ],
   "metadata": {
    "colab": {
     "base_uri": "https://localhost:8080/",
     "height": 558
    },
    "id": "uAyCZpImEXdv",
    "outputId": "ff0de551-767d-4107-c391-ab5f94a1574b",
    "pycharm": {
     "name": "#%%\n"
    }
   },
   "execution_count": null,
   "outputs": [
    {
     "output_type": "stream",
     "name": "stdout",
     "text": [
      "Confusion Matrix:\n",
      "[[485   0]\n",
      " [ 87   0]]\n"
     ]
    },
    {
     "output_type": "display_data",
     "data": {
      "text/plain": [
       "<Figure size 864x432 with 2 Axes>"
      ],
      "image/png": "[encoded data removed]"
     },
     "metadata": {}
    }
   ]
  },
  {
   "cell_type": "code",
   "source": [
    "# #Predict the binary dependent variable using the model\n",
    "# lr_predicted_ = best_estimator.predict(X_test)\n",
    "\n",
    "# #Create a confusion matrix\n",
    "# conf_matrix = confusion_matrix(y_test, lr_predicted_)\n",
    "# print(\"Confusion Matrix:\")\n",
    "# print(conf_matrix)\n",
    "\n",
    "# true_neg, false_pos, false_neg, true_pos = conf_matrix.ravel()\n",
    "# # Visualizing Confusion Matrix with Heat Map\n",
    "# confusion_matrix_plot(conf_matrix)"
   ],
   "metadata": {
    "id": "5_hBfOIUSZHW",
    "pycharm": {
     "name": "#%%\n"
    }
   },
   "execution_count": null,
   "outputs": []
  },
  {
   "cell_type": "code",
   "source": [
    "#Predict the binary dependent variable using the model\n",
    "lr_predicted_proba = lr.predict_proba(X_test)"
   ],
   "metadata": {
    "id": "0SRLl4qzE6QQ",
    "pycharm": {
     "name": "#%%\n"
    }
   },
   "execution_count": null,
   "outputs": []
  },
  {
   "cell_type": "code",
   "source": [
    "lr_predicted_proba"
   ],
   "metadata": {
    "colab": {
     "base_uri": "https://localhost:8080/"
    },
    "id": "u1UF-w_GFDjP",
    "outputId": "3a91dd51-075e-4aa3-b93f-f43ee53bdef3",
    "pycharm": {
     "name": "#%%\n"
    }
   },
   "execution_count": null,
   "outputs": [
    {
     "output_type": "execute_result",
     "data": {
      "text/plain": [
       "array([[0.64396172, 0.35603828],\n",
       "       [0.62626383, 0.37373617],\n",
       "       [0.67923555, 0.32076445],\n",
       "       ...,\n",
       "       [0.69713052, 0.30286948],\n",
       "       [0.67701584, 0.32298416],\n",
       "       [0.67681547, 0.32318453]])"
      ]
     },
     "metadata": {},
     "execution_count": 368
    }
   ]
  },
  {
   "cell_type": "code",
   "source": [
    "pred_class = [1 if lr_predicted_proba[i][1] >= 0.3 else 0 for i in range(lr_predicted_proba.shape[0])]"
   ],
   "metadata": {
    "id": "YlnkBazwFdVF",
    "pycharm": {
     "name": "#%%\n"
    }
   },
   "execution_count": null,
   "outputs": []
  },
  {
   "cell_type": "code",
   "source": [
    "# pred_class"
   ],
   "metadata": {
    "id": "8stkN1oUSAyO",
    "pycharm": {
     "name": "#%%\n"
    }
   },
   "execution_count": null,
   "outputs": []
  },
  {
   "cell_type": "code",
   "source": [
    "#Create a confusion matrix\n",
    "conf_matrix = confusion_matrix(y_test, pred_class)\n",
    "print(\"Confusion Matrix:\")\n",
    "print(conf_matrix)\n",
    "\n",
    "true_neg, false_pos, false_neg, true_pos = conf_matrix.ravel()\n",
    "\n",
    "true_neg, false_pos, false_neg, true_pos = conf_matrix.ravel()\n",
    "# Visualizing Confusion Matrix with Heat Map\n",
    "confusion_matrix_plot(conf_matrix)"
   ],
   "metadata": {
    "colab": {
     "base_uri": "https://localhost:8080/",
     "height": 558
    },
    "id": "sbFBAclWGbz3",
    "outputId": "82e5b32f-4944-4386-d0fe-c9dca2f6380f",
    "pycharm": {
     "name": "#%%\n"
    }
   },
   "execution_count": null,
   "outputs": [
    {
     "output_type": "stream",
     "name": "stdout",
     "text": [
      "Confusion Matrix:\n",
      "[[158 327]\n",
      " [ 27  60]]\n"
     ]
    },
    {
     "output_type": "display_data",
     "data": {
      "text/plain": [
       "<Figure size 864x432 with 2 Axes>"
      ],
      "image/png": "[encoded data removed]"
     },
     "metadata": {}
    }
   ]
  },
  {
   "cell_type": "code",
   "source": [
    "Recall = (true_pos) / (true_pos + false_neg)\n",
    "Recall"
   ],
   "metadata": {
    "colab": {
     "base_uri": "https://localhost:8080/"
    },
    "id": "MiPiGpHxGvNp",
    "outputId": "c31f269d-1e7c-4f8c-d4a1-d65e1746d706",
    "pycharm": {
     "name": "#%%\n"
    }
   },
   "execution_count": null,
   "outputs": [
    {
     "output_type": "execute_result",
     "data": {
      "text/plain": [
       "0.6896551724137931"
      ]
     },
     "metadata": {},
     "execution_count": 371
    }
   ]
  },
  {
   "cell_type": "code",
   "source": [],
   "metadata": {
    "id": "dqC8WDF1YEyn",
    "pycharm": {
     "name": "#%%\n"
    }
   },
   "execution_count": null,
   "outputs": []
  },
  {
   "cell_type": "code",
   "source": [
    "import xgboost as xgb"
   ],
   "metadata": {
    "id": "hJmPfjbsYE36",
    "pycharm": {
     "name": "#%%\n"
    }
   },
   "execution_count": null,
   "outputs": []
  },
  {
   "cell_type": "code",
   "source": [
    "# Define the parameter space to search\n",
    "param_dist = {\n",
    "    \"n_estimators\": [10, 100, 250, 500, 1000],\n",
    "    \"max_depth\": [3, 4, 8, 12, 16],\n",
    "    \"learning_rate\": np.arange(0.01, 1, 0.05),\n",
    "    \"min_child_weight\": np.arange(1, 10),\n",
    "    \"subsample\": np.arange(0.1, 1, 0.1),\n",
    "    \"gamma\": np.arange(0, 1, 0.1),\n",
    "    \"colsample_bytree\": np.arange(0.1, 1, 0.1),\n",
    "}"
   ],
   "metadata": {
    "id": "xHbrSrvMYJNV",
    "pycharm": {
     "name": "#%%\n"
    }
   },
   "execution_count": null,
   "outputs": []
  },
  {
   "cell_type": "code",
   "source": [
    "# Create the XGBoost classifier\n",
    "xgb_clf = xgb.XGBClassifier()"
   ],
   "metadata": {
    "id": "jKyflwJAZBd7",
    "pycharm": {
     "name": "#%%\n"
    }
   },
   "execution_count": null,
   "outputs": []
  },
  {
   "cell_type": "code",
   "source": [
    "# Use RandomizedSearchCV to search the best parameters\n",
    "random_search = RandomizedSearchCV(xgb_clf, param_distributions=param_dist, n_iter=1000, cv=5, scoring='recall')"
   ],
   "metadata": {
    "id": "pbT7FL6VZFI9",
    "pycharm": {
     "name": "#%%\n"
    }
   },
   "execution_count": null,
   "outputs": []
  },
  {
   "cell_type": "code",
   "source": [
    "# Fit the random search on the data\n",
    "random_search.fit(X, y)\n",
    "\n",
    "# Get the best parameters\n",
    "best_params = random_search.best_params_\n",
    "\n",
    "# Get the best estimator\n",
    "best_estimator = random_search.best_estimator_"
   ],
   "metadata": {
    "id": "Nj1uMg4IZM2V",
    "pycharm": {
     "name": "#%%\n"
    }
   },
   "execution_count": null,
   "outputs": []
  },
  {
   "cell_type": "code",
   "source": [
    "best_params"
   ],
   "metadata": {
    "colab": {
     "base_uri": "https://localhost:8080/"
    },
    "id": "HqlAI9pXh6Ch",
    "outputId": "34406b33-5905-4cdd-f44a-24776a46b85f",
    "pycharm": {
     "name": "#%%\n"
    }
   },
   "execution_count": null,
   "outputs": [
    {
     "output_type": "execute_result",
     "data": {
      "text/plain": [
       "{'subsample': 0.1,\n",
       " 'n_estimators': 1000,\n",
       " 'min_child_weight': 2,\n",
       " 'max_depth': 4,\n",
       " 'learning_rate': 0.91,\n",
       " 'gamma': 0.1,\n",
       " 'colsample_bytree': 0.9}"
      ]
     },
     "metadata": {},
     "execution_count": 347
    }
   ]
  },
  {
   "cell_type": "code",
   "source": [
    "best_estimator"
   ],
   "metadata": {
    "colab": {
     "base_uri": "https://localhost:8080/"
    },
    "id": "Sf3iVZ_zh85t",
    "outputId": "ee71305f-b849-4334-d340-ac6851eb0f9d",
    "pycharm": {
     "name": "#%%\n"
    }
   },
   "execution_count": null,
   "outputs": [
    {
     "output_type": "execute_result",
     "data": {
      "text/plain": [
       "XGBClassifier(colsample_bytree=0.9, gamma=0.1, learning_rate=0.91, max_depth=4,\n",
       "              min_child_weight=2, n_estimators=1000, subsample=0.1)"
      ]
     },
     "metadata": {},
     "execution_count": 348
    }
   ]
  },
  {
   "cell_type": "code",
   "source": [
    "xgb_clf = xgb.XGBClassifier(subsample=0.1, n_estimators=1000, min_child_weight=2,\n",
    "                            max_depth=4, learning_rate=0.91, gamma=0.1, colsample_bytree=0.9)\n",
    "\n",
    "xgb_clf = xgb_clf.fit(X_train, y_train)"
   ],
   "metadata": {
    "id": "JmwW9_B8h_Ks",
    "pycharm": {
     "name": "#%%\n"
    }
   },
   "execution_count": null,
   "outputs": []
  },
  {
   "cell_type": "code",
   "source": [
    "#Predict the binary dependent variable using the model\n",
    "xgb_predicted_ = xgb_clf.predict(X_test)\n",
    "\n",
    "#Create a confusion matrix\n",
    "conf_matrix = confusion_matrix(y_test, xgb_predicted_)\n",
    "print(\"Confusion Matrix:\")\n",
    "print(conf_matrix)\n",
    "\n",
    "true_neg, false_pos, false_neg, true_pos = conf_matrix.ravel()\n",
    "# Visualizing Confusion Matrix with Heat Map\n",
    "confusion_matrix_plot(conf_matrix)"
   ],
   "metadata": {
    "colab": {
     "base_uri": "https://localhost:8080/",
     "height": 558
    },
    "id": "W_IJ5Ko_iqwk",
    "outputId": "ec1ba2d3-743b-4886-9ee3-43aead255914",
    "pycharm": {
     "name": "#%%\n"
    }
   },
   "execution_count": null,
   "outputs": [
    {
     "output_type": "stream",
     "name": "stdout",
     "text": [
      "Confusion Matrix:\n",
      "[[429  56]\n",
      " [ 72  15]]\n"
     ]
    },
    {
     "output_type": "display_data",
     "data": {
      "text/plain": [
       "<Figure size 864x432 with 2 Axes>"
      ],
      "image/png": "[encoded data removed]"
     },
     "metadata": {}
    }
   ]
  },
  {
   "cell_type": "code",
   "source": [
    "how # Recall = (true_pos) / (true_pos + false_neg)\n",
    "# Recall"
   ],
   "metadata": {
    "id": "wjP5L6nojFZ2",
    "pycharm": {
     "name": "#%%\n"
    }
   },
   "execution_count": null,
   "outputs": []
  },
  {
   "cell_type": "code",
   "source": [
    "#Predict the binary dependent variable using the model\n",
    "xgb_predicted_proba = xgb_clf.predict_proba(X_test)"
   ],
   "metadata": {
    "id": "ooJ7YJjBjLst",
    "pycharm": {
     "name": "#%%\n"
    }
   },
   "execution_count": null,
   "outputs": []
  },
  {
   "cell_type": "code",
   "source": [
    "xgb_predicted_proba"
   ],
   "metadata": {
    "colab": {
     "base_uri": "https://localhost:8080/"
    },
    "id": "dmMLEEHmjRYn",
    "outputId": "03c2bd11-7803-4775-aec0-9edbdcf526e1",
    "pycharm": {
     "name": "#%%\n"
    }
   },
   "execution_count": null,
   "outputs": [
    {
     "output_type": "execute_result",
     "data": {
      "text/plain": [
       "array([[0.9735085 , 0.02649154],\n",
       "       [0.9296479 , 0.07035205],\n",
       "       [0.94418645, 0.05581353],\n",
       "       ...,\n",
       "       [0.77199244, 0.22800757],\n",
       "       [0.93013394, 0.06986608],\n",
       "       [0.8173367 , 0.18266332]], dtype=float32)"
      ]
     },
     "metadata": {},
     "execution_count": 353
    }
   ]
  },
  {
   "cell_type": "code",
   "source": [
    "pred_class = [1 if xgb_predicted_proba[i][1] >= 0.15 else 0 for i in range(xgb_predicted_proba.shape[0])]"
   ],
   "metadata": {
    "id": "NORme1HpjXuy",
    "pycharm": {
     "name": "#%%\n"
    }
   },
   "execution_count": null,
   "outputs": []
  },
  {
   "cell_type": "code",
   "source": [
    "#Create a confusion matrix\n",
    "conf_matrix = confusion_matrix(y_test, pred_class)\n",
    "print(\"Confusion Matrix:\")\n",
    "print(conf_matrix)\n",
    "\n",
    "true_neg, false_pos, false_neg, true_pos = conf_matrix.ravel()\n",
    "\n",
    "true_neg, false_pos, false_neg, true_pos = conf_matrix.ravel()\n",
    "# Visualizing Confusion Matrix with Heat Map\n",
    "confusion_matrix_plot(conf_matrix)"
   ],
   "metadata": {
    "colab": {
     "base_uri": "https://localhost:8080/",
     "height": 558
    },
    "id": "N8lbkSsKjg4K",
    "outputId": "486b1f56-2493-4b9f-a97c-671b7f001765",
    "pycharm": {
     "name": "#%%\n"
    }
   },
   "execution_count": null,
   "outputs": [
    {
     "output_type": "stream",
     "name": "stdout",
     "text": [
      "Confusion Matrix:\n",
      "[[300 185]\n",
      " [ 37  50]]\n"
     ]
    },
    {
     "output_type": "display_data",
     "data": {
      "text/plain": [
       "<Figure size 864x432 with 2 Axes>"
      ],
      "image/png": "[encoded data removed]"
     },
     "metadata": {}
    }
   ]
  },
  {
   "cell_type": "code",
   "source": [
    "Recall = (true_pos) / (true_pos + false_neg)\n",
    "Recall"
   ],
   "metadata": {
    "colab": {
     "base_uri": "https://localhost:8080/"
    },
    "id": "7_KXYBdSjqZY",
    "outputId": "58c12abe-9582-4af2-c84c-56cff2c54404",
    "pycharm": {
     "name": "#%%\n"
    }
   },
   "execution_count": null,
   "outputs": [
    {
     "output_type": "execute_result",
     "data": {
      "text/plain": [
       "0.5747126436781609"
      ]
     },
     "metadata": {},
     "execution_count": 360
    }
   ]
  }
 ]
}